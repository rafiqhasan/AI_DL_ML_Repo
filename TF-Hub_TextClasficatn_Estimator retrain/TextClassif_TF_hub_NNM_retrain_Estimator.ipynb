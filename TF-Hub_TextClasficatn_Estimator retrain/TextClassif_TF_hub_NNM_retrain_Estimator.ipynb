{
 "cells": [
  {
   "cell_type": "code",
   "execution_count": 144,
   "metadata": {
    "colab": {
     "base_uri": "https://localhost:8080/",
     "height": 1840
    },
    "colab_type": "code",
    "id": "zkqXJZsh2Mng",
    "outputId": "aa9949dc-ef67-46b0-8e77-104d525035db"
   },
   "outputs": [],
   "source": [
    "# %%bash\n",
    "# pip install datalab\n",
    "# pip install tensorflow-gpu"
   ]
  },
  {
   "cell_type": "code",
   "execution_count": 145,
   "metadata": {
    "colab": {
     "base_uri": "https://localhost:8080/",
     "height": 35
    },
    "colab_type": "code",
    "id": "Llj1Q9Umv6NE",
    "outputId": "ccfcb8b7-3b64-48cc-8a01-cd5b3563321d"
   },
   "outputs": [
    {
     "name": "stdout",
     "output_type": "stream",
     "text": [
      "1.10.0\n"
     ]
    }
   ],
   "source": [
    "#Import required libraries\n",
    "import tensorflow as tf\n",
    "import tensorflow_hub as hub\n",
    "import pandas as pd\n",
    "import numpy as np\n",
    "import os\n",
    "\n",
    "# from keras.models import Sequential\n",
    "# from nltk.tokenize import word_tokenize\n",
    "# from sklearn.metrics.pairwise import cosine_similarity\n",
    "# from sklearn.feature_extraction.text import TfidfVectorizer\n",
    "# from sklearn.model_selection import train_test_split, cross_val_score\n",
    "# from sklearn.ensemble import RandomForestClassifier, GradientBoostingClassifier\n",
    "# from sklearn.naive_bayes import GaussianNB\n",
    "# from xgboost.sklearn import XGBClassifier\n",
    "# https://machinelearningmastery.com/clean-text-machine-learning-python/\n",
    "print(tf.__version__)"
   ]
  },
  {
   "cell_type": "code",
   "execution_count": 146,
   "metadata": {
    "colab": {
     "base_uri": "https://localhost:8080/",
     "height": 124
    },
    "colab_type": "code",
    "id": "mqoC1EoBw_ko",
    "outputId": "a58f06bd-70a0-4a56-98e2-2c33a77b8c5e"
   },
   "outputs": [],
   "source": [
    "# from google.colab import drive\n",
    "# drive.mount('/content/drive')"
   ]
  },
  {
   "cell_type": "code",
   "execution_count": 147,
   "metadata": {
    "colab": {
     "base_uri": "https://localhost:8080/",
     "height": 555
    },
    "colab_type": "code",
    "id": "hxUQv_5o5Vos",
    "outputId": "41ae365d-2a54-459e-f316-c5d1f6738d83"
   },
   "outputs": [
    {
     "name": "stdout",
     "output_type": "stream",
     "text": [
      "[name: \"/device:CPU:0\"\n",
      "device_type: \"CPU\"\n",
      "memory_limit: 268435456\n",
      "locality {\n",
      "}\n",
      "incarnation: 18074285931112581377\n",
      "]\n"
     ]
    }
   ],
   "source": [
    "#Check available devices\n",
    "from tensorflow.python.client import device_lib\n",
    "print(device_lib.list_local_devices())"
   ]
  },
  {
   "cell_type": "code",
   "execution_count": 148,
   "metadata": {
    "colab": {
     "base_uri": "https://localhost:8080/",
     "height": 202
    },
    "colab_type": "code",
    "id": "EzMoluWFv6NM",
    "outputId": "4f046231-3f46-4cae-d90e-4e390dcd267e"
   },
   "outputs": [
    {
     "data": {
      "text/html": [
       "<div>\n",
       "<style scoped>\n",
       "    .dataframe tbody tr th:only-of-type {\n",
       "        vertical-align: middle;\n",
       "    }\n",
       "\n",
       "    .dataframe tbody tr th {\n",
       "        vertical-align: top;\n",
       "    }\n",
       "\n",
       "    .dataframe thead th {\n",
       "        text-align: right;\n",
       "    }\n",
       "</style>\n",
       "<table border=\"1\" class=\"dataframe\">\n",
       "  <thead>\n",
       "    <tr style=\"text-align: right;\">\n",
       "      <th></th>\n",
       "      <th>text</th>\n",
       "      <th>class</th>\n",
       "    </tr>\n",
       "  </thead>\n",
       "  <tbody>\n",
       "    <tr>\n",
       "      <th>0</th>\n",
       "      <td>never talk to me again</td>\n",
       "      <td>3</td>\n",
       "    </tr>\n",
       "    <tr>\n",
       "      <th>1</th>\n",
       "      <td>I am proud of your achievements</td>\n",
       "      <td>2</td>\n",
       "    </tr>\n",
       "    <tr>\n",
       "      <th>2</th>\n",
       "      <td>It is the worst day in my life</td>\n",
       "      <td>3</td>\n",
       "    </tr>\n",
       "    <tr>\n",
       "      <th>3</th>\n",
       "      <td>Miss you so much</td>\n",
       "      <td>0</td>\n",
       "    </tr>\n",
       "    <tr>\n",
       "      <th>4</th>\n",
       "      <td>food is life</td>\n",
       "      <td>4</td>\n",
       "    </tr>\n",
       "  </tbody>\n",
       "</table>\n",
       "</div>"
      ],
      "text/plain": [
       "                              text  class\n",
       "0           never talk to me again      3\n",
       "1  I am proud of your achievements      2\n",
       "2   It is the worst day in my life      3\n",
       "3                 Miss you so much      0\n",
       "4                     food is life      4"
      ]
     },
     "execution_count": 148,
     "metadata": {},
     "output_type": "execute_result"
    }
   ],
   "source": [
    "#Load training data\n",
    "all_data = pd.read_csv('train_data.csv')\n",
    "all_data.head()"
   ]
  },
  {
   "cell_type": "code",
   "execution_count": 149,
   "metadata": {
    "colab": {},
    "colab_type": "code",
    "id": "uwqk1Jz_v6NW"
   },
   "outputs": [],
   "source": [
    "#Create one hot encoding of labels\n",
    "def create_yoh_list(v_classes, num_classes):\n",
    "    yoh_class = np.zeros((len(v_classes),num_classes))\n",
    "    \n",
    "    for ix, v_cl in enumerate(v_classes):\n",
    "        yoh_class[ix, v_cl] = 1\n",
    "    \n",
    "    return(yoh_class)"
   ]
  },
  {
   "cell_type": "code",
   "execution_count": 150,
   "metadata": {
    "colab": {
     "base_uri": "https://localhost:8080/",
     "height": 87
    },
    "colab_type": "code",
    "id": "ApsVQh9gv6NZ",
    "outputId": "4748f037-842b-4f95-f29c-1dacd716311e"
   },
   "outputs": [
    {
     "data": {
      "text/plain": [
       "array([[0., 1., 0., 0., 0.],\n",
       "       [0., 0., 0., 1., 0.],\n",
       "       [0., 0., 0., 0., 1.],\n",
       "       [0., 0., 1., 0., 0.]])"
      ]
     },
     "execution_count": 150,
     "metadata": {},
     "output_type": "execute_result"
    }
   ],
   "source": [
    "#Test one hot encoder code\n",
    "create_yoh_list([1,3,4,2],num_classes = 5)"
   ]
  },
  {
   "cell_type": "code",
   "execution_count": 151,
   "metadata": {
    "colab": {
     "base_uri": "https://localhost:8080/",
     "height": 35
    },
    "colab_type": "code",
    "id": "xIl8BWZev6Ng",
    "outputId": "1190af97-d1f0-417b-aaea-4958d677a698"
   },
   "outputs": [
    {
     "data": {
      "text/plain": [
       "'happy'"
      ]
     },
     "execution_count": 151,
     "metadata": {},
     "output_type": "execute_result"
    }
   ],
   "source": [
    "#Def class to text\n",
    "def class_to_text(cls):\n",
    "    dict_class = {0:'love', 1:'playful', 2:'happy',3:'sad', 4:'foodie'}\n",
    "    return dict_class[cls]\n",
    "\n",
    "class_to_text(2)"
   ]
  },
  {
   "cell_type": "code",
   "execution_count": 152,
   "metadata": {
    "colab": {
     "base_uri": "https://localhost:8080/",
     "height": 260
    },
    "colab_type": "code",
    "id": "Pks-CuTdv6Nm",
    "outputId": "b0ac20bb-2766-4cf0-e376-1a5265d7a7f6"
   },
   "outputs": [
    {
     "name": "stdout",
     "output_type": "stream",
     "text": [
      "<class 'pandas.core.frame.DataFrame'>\n",
      "Int64Index: 179 entries, 31 to 134\n",
      "Data columns (total 2 columns):\n",
      "text     179 non-null object\n",
      "class    179 non-null int64\n",
      "dtypes: int64(1), object(1)\n",
      "memory usage: 4.2+ KB\n",
      "<class 'pandas.core.frame.DataFrame'>\n",
      "Int64Index: 9 entries, 37 to 144\n",
      "Data columns (total 2 columns):\n",
      "text     9 non-null object\n",
      "class    9 non-null int64\n",
      "dtypes: int64(1), object(1)\n",
      "memory usage: 216.0+ bytes\n"
     ]
    }
   ],
   "source": [
    "#Random split dataset into Train and Validation\n",
    "train_data = all_data.sample(frac=0.95,random_state=1)\n",
    "valid_data = all_data.drop(train_data.index)\n",
    "\n",
    "train_data.info()\n",
    "valid_data.info()\n",
    "\n",
    "#Files To be used in Tensorflow pipeline dataset API\n",
    "train_data.to_csv(\"data_train.csv\", index=False, header=False)\n",
    "valid_data.to_csv(\"data_eval.csv\", index=False, header=False)"
   ]
  },
  {
   "cell_type": "code",
   "execution_count": 153,
   "metadata": {
    "colab": {},
    "colab_type": "code",
    "id": "2ilJSZ2nv6N2"
   },
   "outputs": [],
   "source": [
    "def add_engineered(inp):\n",
    "    return inp"
   ]
  },
  {
   "cell_type": "code",
   "execution_count": 154,
   "metadata": {
    "colab": {},
    "colab_type": "code",
    "id": "8PukNdBAv6Nt"
   },
   "outputs": [],
   "source": [
    "# Define your feature columns\n",
    "def create_feature_cols():\n",
    "    embedded_text_feature_column = hub.text_embedding_column(key=\"text\", \n",
    "                                    module_spec=\"https://tfhub.dev/google/nnlm-en-dim128/1\",\n",
    "                                    trainable=False)\n",
    "    return [embedded_text_feature_column]"
   ]
  },
  {
   "cell_type": "code",
   "execution_count": 155,
   "metadata": {},
   "outputs": [],
   "source": [
    "CSV_COLUMNS = train_data.columns  \n",
    "LABEL_COLUMN = 'class'\n",
    "DEFAULTS = [['no'],[0]]  #Default values\n",
    "\n",
    "def read_dataset(filename, mode, batch_size = 512):\n",
    "    def _input_fn(v_test=False):\n",
    "        def decode_csv(value_column):\n",
    "            columns = tf.decode_csv(value_column, record_defaults = DEFAULTS)\n",
    "            features = dict(zip(CSV_COLUMNS, columns))\n",
    "            label = features.pop(LABEL_COLUMN)\n",
    "            return add_engineered(features), label\n",
    "        \n",
    "        # Create list of files that match pattern\n",
    "        file_list = tf.gfile.Glob(filename)\n",
    "\n",
    "        # Create dataset from file list\n",
    "        dataset = tf.data.TextLineDataset(file_list).map(decode_csv)\n",
    "\n",
    "        if mode == tf.estimator.ModeKeys.TRAIN:\n",
    "            num_epochs = None # indefinitely\n",
    "            dataset = dataset.shuffle(buffer_size = 10 * batch_size)\n",
    "        else:\n",
    "            num_epochs = 1 # end-of-input after this\n",
    "\n",
    "        dataset = dataset.repeat(num_epochs).batch(batch_size)\n",
    "        batch_features, batch_labels = dataset.make_one_shot_iterator().get_next()\n",
    "        \n",
    "        #Begins - Uncomment for testing only -----------------------------------------------------<\n",
    "        if v_test == True:\n",
    "            with tf.Session() as sess:\n",
    "                print(sess.run(batch_features))\n",
    "        #End - Uncomment for testing only -----------------------------------------------------<\n",
    "        return batch_features, batch_labels\n",
    "    return _input_fn"
   ]
  },
  {
   "cell_type": "code",
   "execution_count": 156,
   "metadata": {},
   "outputs": [
    {
     "name": "stdout",
     "output_type": "stream",
     "text": [
      "{'text': array([b'How dare you ask that', b'I want chinese food',\n",
      "       b'you did not do your homework',\n",
      "       b'She is the cutest person I have ever seen',\n",
      "       b'I am at the baseball game', b'I love taking breaks', b'you suck',\n",
      "       b'Good joke', b'You are not qualified for this position',\n",
      "       b'she is happy', b'you are a loser',\n",
      "       b'Sounds like a fun plan ha ha',\n",
      "       b'I was waiting for her for two hours ',\n",
      "       b'I worked during my birthday', b'I want to eat',\n",
      "       b'cookies are good', b'where is the stadium', b'we made it',\n",
      "       b'food is life', b'this joke is killing me haha'], dtype=object)}\n"
     ]
    },
    {
     "data": {
      "text/plain": [
       "({'text': <tf.Tensor 'IteratorGetNext_5:0' shape=(?,) dtype=string>},\n",
       " <tf.Tensor 'IteratorGetNext_5:1' shape=(?,) dtype=int32>)"
      ]
     },
     "execution_count": 156,
     "metadata": {},
     "output_type": "execute_result"
    }
   ],
   "source": [
    "#Test dataset read function\n",
    "eval_file = os.getcwd() + \"\\data_train.csv\"\n",
    "fn_d = read_dataset(filename = eval_file,\n",
    "                    mode = tf.estimator.ModeKeys.EVAL,\n",
    "                    batch_size = 20)\n",
    "\n",
    "fn_d(v_test=True)"
   ]
  },
  {
   "cell_type": "code",
   "execution_count": 157,
   "metadata": {
    "colab": {},
    "colab_type": "code",
    "id": "Kr4eGcMdv6Ny"
   },
   "outputs": [],
   "source": [
    "# # Create pandas input function for training\n",
    "# def make_input_fn(df_f, num_epochs):\n",
    "#   return tf.estimator.inputs.pandas_input_fn(\n",
    "#     x = df_f,\n",
    "#     y = df_f['label'],\n",
    "#     batch_size = 128,\n",
    "#     num_epochs = num_epochs,\n",
    "#     shuffle = True,\n",
    "#     queue_capacity = 200,\n",
    "#     num_threads = 1\n",
    "#   )\n",
    "\n",
    "# #Input Function for Train and Validation Set\n",
    "# def get_validation_input_fn(data_set, num_epochs=1, shuffle=False):\n",
    "#   return tf.estimator.inputs.pandas_input_fn(\n",
    "#       x = data_set,\n",
    "#       y = data_set['label'],\n",
    "#       num_epochs=num_epochs,\n",
    "#       shuffle=shuffle)\n",
    "\n",
    "# Serving function for external call\n",
    "def serving_fn():\n",
    "    feature_placeholders  = {'text' : tf.placeholder(tf.string, [None])\n",
    "    }\n",
    "\n",
    "    #Features with transformation logic\n",
    "    features = {\n",
    "                key: tf.expand_dims(tensor, -1)\n",
    "                for key, tensor in feature_placeholders.items()\n",
    "            }\n",
    "    \n",
    "    #feat_changed = add_engineered(features.copy())\n",
    "    return tf.estimator.export.ServingInputReceiver(features, feature_placeholders )"
   ]
  },
  {
   "cell_type": "code",
   "execution_count": 164,
   "metadata": {
    "colab": {},
    "colab_type": "code",
    "id": "r3rCgfTyv6N-"
   },
   "outputs": [],
   "source": [
    "# Create estimator train and evaluate function\n",
    "def train_and_evaluate_dataset(output_dir, num_train_steps, train_file, eval_file):    \n",
    "##### Create Canned estimator instance\n",
    "    run_config = tf.estimator.RunConfig(save_checkpoints_secs = 40, \n",
    "                                        keep_checkpoint_max = 3)\n",
    "    estimator = tf.estimator.DNNClassifier(feature_columns=create_feature_cols(),\n",
    "                                          n_classes=5,\n",
    "                                          hidden_units=[256,128,64,32],\n",
    "                                          dropout = 0.3,\n",
    "                                          #optimizer=get_stepw_decay_optimizer)\n",
    "                                          optimizer=tf.train.AdamOptimizer(learning_rate=0.01),\n",
    "                                          config = run_config)\n",
    "    train_spec = tf.estimator.TrainSpec(input_fn = read_dataset(\n",
    "                                                filename = train_file,\n",
    "                                                mode = tf.estimator.ModeKeys.TRAIN,\n",
    "                                                batch_size = 128), \n",
    "                                      max_steps = num_train_steps)\n",
    "    exp = tf.estimator.LatestExporter(\"decision\", serving_fn)\n",
    "    eval_spec = tf.estimator.EvalSpec(input_fn = read_dataset(\n",
    "                                                filename = eval_file,\n",
    "                                                mode = tf.estimator.ModeKeys.EVAL,\n",
    "                                                batch_size = 128), \n",
    "                                    steps = None, \n",
    "                                    exporters = exp,\n",
    "                                    start_delay_secs = 1, # start evaluating after N seconds, \n",
    "                                    throttle_secs = 20)  # evaluate every N seconds\n",
    "    tf.estimator.train_and_evaluate(estimator, train_spec, eval_spec)"
   ]
  },
  {
   "cell_type": "code",
   "execution_count": 165,
   "metadata": {
    "colab": {
     "base_uri": "https://localhost:8080/",
     "height": 5220
    },
    "colab_type": "code",
    "id": "kXcYOz3Wv6OF",
    "outputId": "1b34e071-9c66-4f23-ad8a-02adb6dfe4ce"
   },
   "outputs": [
    {
     "name": "stdout",
     "output_type": "stream",
     "text": [
      "WARNING:tensorflow:Using temporary folder as model directory: C:\\Users\\hrafiq\\AppData\\Local\\Temp\\tmpok2g_4vx\n",
      "INFO:tensorflow:Using config: {'_service': None, '_evaluation_master': '', '_device_fn': None, '_master': '', '_log_step_count_steps': 100, '_keep_checkpoint_max': 3, '_save_checkpoints_secs': 40, '_keep_checkpoint_every_n_hours': 10000, '_cluster_spec': <tensorflow.python.training.server_lib.ClusterSpec object at 0x000001A42329DD30>, '_train_distribute': None, '_save_checkpoints_steps': None, '_save_summary_steps': 100, '_task_type': 'worker', '_task_id': 0, '_model_dir': 'C:\\\\Users\\\\hrafiq\\\\AppData\\\\Local\\\\Temp\\\\tmpok2g_4vx', '_tf_random_seed': None, '_global_id_in_cluster': 0, '_session_config': None, '_num_ps_replicas': 0, '_is_chief': True, '_num_worker_replicas': 1}\n",
      "INFO:tensorflow:Running training and evaluation locally (non-distributed).\n",
      "INFO:tensorflow:Start train and evaluate loop. The evaluate will happen after every checkpoint. Checkpoint frequency is determined based on RunConfig arguments: save_checkpoints_steps None or save_checkpoints_secs 40.\n",
      "INFO:tensorflow:Calling model_fn.\n",
      "INFO:tensorflow:Saver not created because there are no variables in the graph to restore\n",
      "INFO:tensorflow:Saver not created because there are no variables in the graph to restore\n",
      "INFO:tensorflow:Done calling model_fn.\n",
      "INFO:tensorflow:Create CheckpointSaverHook.\n",
      "INFO:tensorflow:Graph was finalized.\n",
      "INFO:tensorflow:Running local_init_op.\n",
      "INFO:tensorflow:Done running local_init_op.\n",
      "INFO:tensorflow:Saving checkpoints for 0 into C:\\Users\\hrafiq\\AppData\\Local\\Temp\\tmpok2g_4vx\\model.ckpt.\n",
      "INFO:tensorflow:loss = 206.61813, step = 1\n",
      "INFO:tensorflow:global_step/sec: 119.87\n",
      "INFO:tensorflow:loss = 2.6589427, step = 101 (0.835 sec)\n",
      "INFO:tensorflow:global_step/sec: 146.881\n",
      "INFO:tensorflow:loss = 2.443378, step = 201 (0.681 sec)\n",
      "INFO:tensorflow:global_step/sec: 161.901\n",
      "INFO:tensorflow:loss = 1.8612047, step = 301 (0.618 sec)\n",
      "INFO:tensorflow:global_step/sec: 154.145\n",
      "INFO:tensorflow:loss = 0.9859741, step = 401 (0.649 sec)\n",
      "INFO:tensorflow:global_step/sec: 153.433\n",
      "INFO:tensorflow:loss = 5.7416096, step = 501 (0.651 sec)\n",
      "INFO:tensorflow:global_step/sec: 128.189\n",
      "INFO:tensorflow:loss = 1.9076612, step = 601 (0.781 sec)\n",
      "INFO:tensorflow:global_step/sec: 156.319\n",
      "INFO:tensorflow:loss = 2.1752548, step = 701 (0.641 sec)\n",
      "INFO:tensorflow:global_step/sec: 165.942\n",
      "INFO:tensorflow:loss = 0.78839546, step = 801 (0.601 sec)\n",
      "INFO:tensorflow:global_step/sec: 152.962\n",
      "INFO:tensorflow:loss = 1.2986553, step = 901 (0.655 sec)\n",
      "INFO:tensorflow:global_step/sec: 139.68\n",
      "INFO:tensorflow:loss = 1.1678241, step = 1001 (0.716 sec)\n",
      "INFO:tensorflow:global_step/sec: 112.691\n",
      "INFO:tensorflow:loss = 1.4579496, step = 1101 (0.888 sec)\n",
      "INFO:tensorflow:global_step/sec: 108.404\n",
      "INFO:tensorflow:loss = 5.222659, step = 1201 (0.924 sec)\n",
      "INFO:tensorflow:global_step/sec: 113.849\n",
      "INFO:tensorflow:loss = 2.6754224, step = 1301 (0.875 sec)\n",
      "INFO:tensorflow:global_step/sec: 137.561\n",
      "INFO:tensorflow:loss = 0.9544407, step = 1401 (0.727 sec)\n",
      "INFO:tensorflow:global_step/sec: 129.186\n",
      "INFO:tensorflow:loss = 0.093742855, step = 1501 (0.774 sec)\n",
      "INFO:tensorflow:global_step/sec: 138.516\n",
      "INFO:tensorflow:loss = 2.4398584, step = 1601 (0.722 sec)\n",
      "INFO:tensorflow:global_step/sec: 111.681\n",
      "INFO:tensorflow:loss = 0.93017817, step = 1701 (0.895 sec)\n",
      "INFO:tensorflow:global_step/sec: 125.133\n",
      "INFO:tensorflow:loss = 0.9842626, step = 1801 (0.801 sec)\n",
      "INFO:tensorflow:global_step/sec: 134.228\n",
      "INFO:tensorflow:loss = 0.72243965, step = 1901 (0.744 sec)\n",
      "INFO:tensorflow:global_step/sec: 103.563\n",
      "INFO:tensorflow:loss = 12.235177, step = 2001 (0.965 sec)\n",
      "INFO:tensorflow:global_step/sec: 97.968\n",
      "INFO:tensorflow:loss = 1.3210112, step = 2101 (1.021 sec)\n",
      "INFO:tensorflow:global_step/sec: 110.079\n",
      "INFO:tensorflow:loss = 0.6991201, step = 2201 (0.909 sec)\n",
      "INFO:tensorflow:global_step/sec: 104.322\n",
      "INFO:tensorflow:loss = 2.274139, step = 2301 (0.961 sec)\n",
      "INFO:tensorflow:global_step/sec: 100.434\n",
      "INFO:tensorflow:loss = 2.6846018, step = 2401 (0.995 sec)\n",
      "INFO:tensorflow:global_step/sec: 106.551\n",
      "INFO:tensorflow:loss = 4.051119, step = 2501 (0.937 sec)\n",
      "INFO:tensorflow:global_step/sec: 91.2456\n",
      "INFO:tensorflow:loss = 1.2410836, step = 2601 (1.097 sec)\n",
      "INFO:tensorflow:global_step/sec: 138.132\n",
      "INFO:tensorflow:loss = 1.2973589, step = 2701 (0.723 sec)\n",
      "INFO:tensorflow:global_step/sec: 136.059\n",
      "INFO:tensorflow:loss = 1.6501018, step = 2801 (0.735 sec)\n",
      "INFO:tensorflow:global_step/sec: 139.29\n",
      "INFO:tensorflow:loss = 2.0201552, step = 2901 (0.718 sec)\n",
      "INFO:tensorflow:global_step/sec: 131.053\n",
      "INFO:tensorflow:loss = 1.2029719, step = 3001 (0.768 sec)\n",
      "INFO:tensorflow:global_step/sec: 82.7648\n",
      "INFO:tensorflow:loss = 0.8256749, step = 3101 (1.204 sec)\n",
      "INFO:tensorflow:global_step/sec: 122.07\n",
      "INFO:tensorflow:loss = 3.6657963, step = 3201 (0.818 sec)\n",
      "INFO:tensorflow:global_step/sec: 139.876\n",
      "INFO:tensorflow:loss = 0.25983503, step = 3301 (0.715 sec)\n",
      "INFO:tensorflow:global_step/sec: 136.993\n",
      "INFO:tensorflow:loss = 0.55012745, step = 3401 (0.730 sec)\n",
      "INFO:tensorflow:global_step/sec: 140.665\n",
      "INFO:tensorflow:loss = 2.9297707, step = 3501 (0.711 sec)\n",
      "INFO:tensorflow:global_step/sec: 141.463\n",
      "INFO:tensorflow:loss = 1.0201414, step = 3601 (0.707 sec)\n",
      "INFO:tensorflow:global_step/sec: 119.153\n",
      "INFO:tensorflow:loss = 0.7942153, step = 3701 (0.839 sec)\n",
      "INFO:tensorflow:global_step/sec: 137.182\n",
      "INFO:tensorflow:loss = 1.8813155, step = 3801 (0.729 sec)\n",
      "INFO:tensorflow:global_step/sec: 142.27\n",
      "INFO:tensorflow:loss = 1.6797695, step = 3901 (0.703 sec)\n",
      "INFO:tensorflow:global_step/sec: 142.067\n",
      "INFO:tensorflow:loss = 9.098373, step = 4001 (0.703 sec)\n",
      "INFO:tensorflow:global_step/sec: 138.902\n",
      "INFO:tensorflow:loss = 0.052564528, step = 4101 (0.720 sec)\n",
      "INFO:tensorflow:global_step/sec: 120.158\n",
      "INFO:tensorflow:loss = 1.1192973, step = 4201 (0.835 sec)\n",
      "INFO:tensorflow:global_step/sec: 94.2636\n",
      "INFO:tensorflow:loss = 0.00021991962, step = 4301 (1.060 sec)\n",
      "INFO:tensorflow:global_step/sec: 99.6323\n",
      "INFO:tensorflow:loss = 0.6280095, step = 4401 (1.006 sec)\n",
      "INFO:tensorflow:global_step/sec: 114.109\n",
      "INFO:tensorflow:loss = 0.71311414, step = 4501 (0.873 sec)\n",
      "INFO:tensorflow:global_step/sec: 129.019\n",
      "INFO:tensorflow:loss = 1.3599508, step = 4601 (0.774 sec)\n",
      "INFO:tensorflow:global_step/sec: 129.522\n",
      "INFO:tensorflow:loss = 0.74797285, step = 4701 (0.773 sec)\n",
      "INFO:tensorflow:global_step/sec: 144.748\n",
      "INFO:tensorflow:loss = 0.67724794, step = 4801 (0.691 sec)\n",
      "INFO:tensorflow:global_step/sec: 145.169\n",
      "INFO:tensorflow:loss = 2.4372709, step = 4901 (0.689 sec)\n",
      "INFO:tensorflow:Saving checkpoints for 4976 into C:\\Users\\hrafiq\\AppData\\Local\\Temp\\tmpok2g_4vx\\model.ckpt.\n",
      "INFO:tensorflow:Calling model_fn.\n",
      "INFO:tensorflow:Saver not created because there are no variables in the graph to restore\n",
      "INFO:tensorflow:Saver not created because there are no variables in the graph to restore\n",
      "INFO:tensorflow:Done calling model_fn.\n",
      "INFO:tensorflow:Starting evaluation at 2018-12-04-17:31:36\n",
      "INFO:tensorflow:Graph was finalized.\n",
      "INFO:tensorflow:Restoring parameters from C:\\Users\\hrafiq\\AppData\\Local\\Temp\\tmpok2g_4vx\\model.ckpt-4976\n",
      "INFO:tensorflow:Running local_init_op.\n",
      "INFO:tensorflow:Done running local_init_op.\n",
      "INFO:tensorflow:Finished evaluation at 2018-12-04-17:31:38\n",
      "INFO:tensorflow:Saving dict for global step 4976: accuracy = 1.0, average_loss = 1.5894564e-07, global_step = 4976, loss = 1.4305108e-06\n",
      "INFO:tensorflow:Saving 'checkpoint_path' summary for global step 4976: C:\\Users\\hrafiq\\AppData\\Local\\Temp\\tmpok2g_4vx\\model.ckpt-4976\n",
      "INFO:tensorflow:Calling model_fn.\n",
      "INFO:tensorflow:Saver not created because there are no variables in the graph to restore\n",
      "INFO:tensorflow:Saver not created because there are no variables in the graph to restore\n",
      "INFO:tensorflow:Done calling model_fn.\n",
      "INFO:tensorflow:Signatures INCLUDED in export for Eval: None\n",
      "INFO:tensorflow:Signatures INCLUDED in export for Classify: ['classification', 'serving_default']\n",
      "INFO:tensorflow:Signatures INCLUDED in export for Train: None\n",
      "INFO:tensorflow:Signatures INCLUDED in export for Regress: None\n",
      "INFO:tensorflow:Signatures INCLUDED in export for Predict: ['predict']\n",
      "INFO:tensorflow:Restoring parameters from C:\\Users\\hrafiq\\AppData\\Local\\Temp\\tmpok2g_4vx\\model.ckpt-4976\n",
      "INFO:tensorflow:Assets added to graph.\n"
     ]
    },
    {
     "name": "stdout",
     "output_type": "stream",
     "text": [
      "INFO:tensorflow:Assets written to: C:\\Users\\hrafiq\\AppData\\Local\\Temp\\tmpok2g_4vx\\export\\decision\\temp-b'1543944698'\\assets\n",
      "INFO:tensorflow:SavedModel written to: C:\\Users\\hrafiq\\AppData\\Local\\Temp\\tmpok2g_4vx\\export\\decision\\temp-b'1543944698'\\saved_model.pb\n",
      "INFO:tensorflow:global_step/sec: 13.4851\n",
      "INFO:tensorflow:loss = 0.7721937, step = 5001 (7.416 sec)\n",
      "INFO:tensorflow:global_step/sec: 140.665\n",
      "INFO:tensorflow:loss = 1.4177265, step = 5101 (0.711 sec)\n",
      "INFO:tensorflow:global_step/sec: 143.087\n",
      "INFO:tensorflow:loss = 6.8073373, step = 5201 (0.699 sec)\n",
      "INFO:tensorflow:global_step/sec: 146.02\n",
      "INFO:tensorflow:loss = 1.8989053, step = 5301 (0.685 sec)\n",
      "INFO:tensorflow:global_step/sec: 123.277\n",
      "INFO:tensorflow:loss = 1.503239, step = 5401 (0.811 sec)\n",
      "INFO:tensorflow:global_step/sec: 121.475\n",
      "INFO:tensorflow:loss = 0.7474178, step = 5501 (0.823 sec)\n",
      "INFO:tensorflow:global_step/sec: 102.184\n",
      "INFO:tensorflow:loss = 0.20886523, step = 5601 (0.980 sec)\n",
      "INFO:tensorflow:global_step/sec: 116.237\n",
      "INFO:tensorflow:loss = 0.31661588, step = 5701 (0.859 sec)\n",
      "INFO:tensorflow:global_step/sec: 119.87\n",
      "INFO:tensorflow:loss = 1.6024377, step = 5801 (0.834 sec)\n",
      "INFO:tensorflow:global_step/sec: 126.723\n",
      "INFO:tensorflow:loss = 0.7189835, step = 5901 (0.789 sec)\n",
      "INFO:tensorflow:global_step/sec: 119.582\n",
      "INFO:tensorflow:loss = 1.1943132, step = 6001 (0.836 sec)\n",
      "INFO:tensorflow:global_step/sec: 125.133\n",
      "INFO:tensorflow:loss = 0.7683058, step = 6101 (0.805 sec)\n",
      "INFO:tensorflow:global_step/sec: 98.2576\n",
      "INFO:tensorflow:loss = 0.0020304564, step = 6201 (1.012 sec)\n",
      "INFO:tensorflow:global_step/sec: 124.199\n",
      "INFO:tensorflow:loss = 1.5929573, step = 6301 (0.805 sec)\n",
      "INFO:tensorflow:global_step/sec: 126.083\n",
      "INFO:tensorflow:loss = 3.8885982, step = 6401 (0.794 sec)\n",
      "INFO:tensorflow:global_step/sec: 133.509\n",
      "INFO:tensorflow:loss = 1.1315022, step = 6501 (0.748 sec)\n",
      "INFO:tensorflow:global_step/sec: 137.561\n",
      "INFO:tensorflow:loss = 0.5172472, step = 6601 (0.727 sec)\n",
      "INFO:tensorflow:global_step/sec: 100.943\n",
      "INFO:tensorflow:loss = 0.7474971, step = 6701 (0.992 sec)\n",
      "INFO:tensorflow:global_step/sec: 93.1199\n",
      "INFO:tensorflow:loss = 8.013301, step = 6801 (1.074 sec)\n",
      "INFO:tensorflow:global_step/sec: 142.27\n",
      "INFO:tensorflow:loss = 2.3002203, step = 6901 (0.702 sec)\n",
      "INFO:tensorflow:global_step/sec: 143.705\n",
      "INFO:tensorflow:loss = 1.5496197, step = 7001 (0.696 sec)\n",
      "INFO:tensorflow:global_step/sec: 144.538\n",
      "INFO:tensorflow:loss = 0.828077, step = 7101 (0.692 sec)\n",
      "INFO:tensorflow:global_step/sec: 121.624\n",
      "INFO:tensorflow:loss = 2.621902, step = 7201 (0.822 sec)\n",
      "INFO:tensorflow:global_step/sec: 138.324\n",
      "INFO:tensorflow:loss = 1.2640883, step = 7301 (0.722 sec)\n",
      "INFO:tensorflow:global_step/sec: 137.561\n",
      "INFO:tensorflow:loss = 1.4699411, step = 7401 (0.728 sec)\n",
      "INFO:tensorflow:global_step/sec: 147.097\n",
      "INFO:tensorflow:loss = 2.11434, step = 7501 (0.680 sec)\n",
      "INFO:tensorflow:global_step/sec: 145.806\n",
      "INFO:tensorflow:loss = 0.89698774, step = 7601 (0.686 sec)\n",
      "INFO:tensorflow:global_step/sec: 145.806\n",
      "INFO:tensorflow:loss = 1.1357508, step = 7701 (0.686 sec)\n",
      "INFO:tensorflow:global_step/sec: 147.969\n",
      "INFO:tensorflow:loss = 2.4132867, step = 7801 (0.676 sec)\n",
      "INFO:tensorflow:global_step/sec: 149.522\n",
      "INFO:tensorflow:loss = 1.4522624, step = 7901 (0.669 sec)\n",
      "INFO:tensorflow:global_step/sec: 137.182\n",
      "INFO:tensorflow:loss = 1.3988374, step = 8001 (0.732 sec)\n",
      "INFO:tensorflow:global_step/sec: 147.532\n",
      "INFO:tensorflow:loss = 1.635715, step = 8101 (0.675 sec)\n",
      "INFO:tensorflow:global_step/sec: 147.75\n",
      "INFO:tensorflow:loss = 0.62829846, step = 8201 (0.677 sec)\n",
      "INFO:tensorflow:global_step/sec: 140.269\n",
      "INFO:tensorflow:loss = 1.6811502, step = 8301 (0.714 sec)\n",
      "INFO:tensorflow:global_step/sec: 92.3439\n",
      "INFO:tensorflow:loss = 2.1163924, step = 8401 (1.085 sec)\n",
      "INFO:tensorflow:global_step/sec: 102.922\n",
      "INFO:tensorflow:loss = 0.7615208, step = 8501 (0.969 sec)\n",
      "INFO:tensorflow:global_step/sec: 125.924\n",
      "INFO:tensorflow:loss = 0.66591936, step = 8601 (0.794 sec)\n",
      "INFO:tensorflow:global_step/sec: 129.019\n",
      "INFO:tensorflow:loss = 0.8598877, step = 8701 (0.776 sec)\n",
      "INFO:tensorflow:global_step/sec: 120.594\n",
      "INFO:tensorflow:loss = 0.7395362, step = 8801 (0.829 sec)\n",
      "INFO:tensorflow:global_step/sec: 110.2\n",
      "INFO:tensorflow:loss = 0.67563015, step = 8901 (0.906 sec)\n",
      "INFO:tensorflow:global_step/sec: 124.509\n",
      "INFO:tensorflow:loss = 2.335563, step = 9001 (0.803 sec)\n",
      "INFO:tensorflow:global_step/sec: 121.033\n",
      "INFO:tensorflow:loss = 2.3234506, step = 9101 (0.826 sec)\n",
      "INFO:tensorflow:Saving checkpoints for 9187 into C:\\Users\\hrafiq\\AppData\\Local\\Temp\\tmpok2g_4vx\\model.ckpt.\n",
      "INFO:tensorflow:Calling model_fn.\n",
      "INFO:tensorflow:Saver not created because there are no variables in the graph to restore\n",
      "INFO:tensorflow:Saver not created because there are no variables in the graph to restore\n",
      "INFO:tensorflow:Done calling model_fn.\n",
      "INFO:tensorflow:Starting evaluation at 2018-12-04-17:32:16\n",
      "INFO:tensorflow:Graph was finalized.\n",
      "INFO:tensorflow:Restoring parameters from C:\\Users\\hrafiq\\AppData\\Local\\Temp\\tmpok2g_4vx\\model.ckpt-9187\n",
      "INFO:tensorflow:Running local_init_op.\n",
      "INFO:tensorflow:Done running local_init_op.\n",
      "INFO:tensorflow:Finished evaluation at 2018-12-04-17:32:19\n",
      "INFO:tensorflow:Saving dict for global step 9187: accuracy = 1.0, average_loss = 0.00075250445, global_step = 9187, loss = 0.00677254\n",
      "INFO:tensorflow:Saving 'checkpoint_path' summary for global step 9187: C:\\Users\\hrafiq\\AppData\\Local\\Temp\\tmpok2g_4vx\\model.ckpt-9187\n",
      "INFO:tensorflow:Calling model_fn.\n",
      "INFO:tensorflow:Saver not created because there are no variables in the graph to restore\n",
      "INFO:tensorflow:Saver not created because there are no variables in the graph to restore\n",
      "INFO:tensorflow:Done calling model_fn.\n",
      "INFO:tensorflow:Signatures INCLUDED in export for Eval: None\n",
      "INFO:tensorflow:Signatures INCLUDED in export for Classify: ['classification', 'serving_default']\n",
      "INFO:tensorflow:Signatures INCLUDED in export for Train: None\n",
      "INFO:tensorflow:Signatures INCLUDED in export for Regress: None\n",
      "INFO:tensorflow:Signatures INCLUDED in export for Predict: ['predict']\n",
      "INFO:tensorflow:Restoring parameters from C:\\Users\\hrafiq\\AppData\\Local\\Temp\\tmpok2g_4vx\\model.ckpt-9187\n",
      "INFO:tensorflow:Assets added to graph.\n",
      "INFO:tensorflow:Assets written to: C:\\Users\\hrafiq\\AppData\\Local\\Temp\\tmpok2g_4vx\\export\\decision\\temp-b'1543944739'\\assets\n",
      "INFO:tensorflow:SavedModel written to: C:\\Users\\hrafiq\\AppData\\Local\\Temp\\tmpok2g_4vx\\export\\decision\\temp-b'1543944739'\\saved_model.pb\n",
      "INFO:tensorflow:global_step/sec: 12.5495\n",
      "INFO:tensorflow:loss = 0.6128991, step = 9201 (7.969 sec)\n",
      "INFO:tensorflow:global_step/sec: 118.869\n",
      "INFO:tensorflow:loss = 0.68049026, step = 9301 (0.840 sec)\n",
      "INFO:tensorflow:global_step/sec: 140.864\n",
      "INFO:tensorflow:loss = 0.70611537, step = 9401 (0.710 sec)\n",
      "INFO:tensorflow:global_step/sec: 119.153\n",
      "INFO:tensorflow:loss = 1.1703683, step = 9501 (0.839 sec)\n",
      "INFO:tensorflow:global_step/sec: 132.798\n",
      "INFO:tensorflow:loss = 2.0690055, step = 9601 (0.753 sec)\n",
      "INFO:tensorflow:global_step/sec: 124.199\n",
      "INFO:tensorflow:loss = 2.6308088, step = 9701 (0.804 sec)\n"
     ]
    },
    {
     "ename": "KeyboardInterrupt",
     "evalue": "",
     "output_type": "error",
     "traceback": [
      "\u001b[1;31m---------------------------------------------------------------------------\u001b[0m",
      "\u001b[1;31mKeyboardInterrupt\u001b[0m                         Traceback (most recent call last)",
      "\u001b[1;32m<ipython-input-165-521583e4d9bc>\u001b[0m in \u001b[0;36m<module>\u001b[1;34m()\u001b[0m\n\u001b[0;32m      3\u001b[0m \u001b[1;33m\u001b[0m\u001b[0m\n\u001b[0;32m      4\u001b[0m \u001b[1;31m#train_and_evaluate(None, num_train_steps=10000)\u001b[0m\u001b[1;33m\u001b[0m\u001b[1;33m\u001b[0m\u001b[0m\n\u001b[1;32m----> 5\u001b[1;33m \u001b[0mtrain_and_evaluate_dataset\u001b[0m\u001b[1;33m(\u001b[0m\u001b[1;32mNone\u001b[0m\u001b[1;33m,\u001b[0m \u001b[1;36m10000\u001b[0m\u001b[1;33m,\u001b[0m\u001b[0mtrain_file\u001b[0m\u001b[1;33m,\u001b[0m\u001b[0meval_file\u001b[0m\u001b[1;33m)\u001b[0m\u001b[1;33m\u001b[0m\u001b[0m\n\u001b[0m",
      "\u001b[1;32m<ipython-input-164-e235ee1a0e2c>\u001b[0m in \u001b[0;36mtrain_and_evaluate_dataset\u001b[1;34m(output_dir, num_train_steps, train_file, eval_file)\u001b[0m\n\u001b[0;32m     25\u001b[0m                                     \u001b[0mstart_delay_secs\u001b[0m \u001b[1;33m=\u001b[0m \u001b[1;36m1\u001b[0m\u001b[1;33m,\u001b[0m \u001b[1;31m# start evaluating after N seconds,\u001b[0m\u001b[1;33m\u001b[0m\u001b[0m\n\u001b[0;32m     26\u001b[0m                                     throttle_secs = 20)  # evaluate every N seconds\n\u001b[1;32m---> 27\u001b[1;33m     \u001b[0mtf\u001b[0m\u001b[1;33m.\u001b[0m\u001b[0mestimator\u001b[0m\u001b[1;33m.\u001b[0m\u001b[0mtrain_and_evaluate\u001b[0m\u001b[1;33m(\u001b[0m\u001b[0mestimator\u001b[0m\u001b[1;33m,\u001b[0m \u001b[0mtrain_spec\u001b[0m\u001b[1;33m,\u001b[0m \u001b[0meval_spec\u001b[0m\u001b[1;33m)\u001b[0m\u001b[1;33m\u001b[0m\u001b[0m\n\u001b[0m",
      "\u001b[1;32mc:\\users\\hrafiq\\appdata\\local\\programs\\python\\python35\\lib\\site-packages\\tensorflow\\python\\estimator\\training.py\u001b[0m in \u001b[0;36mtrain_and_evaluate\u001b[1;34m(estimator, train_spec, eval_spec)\u001b[0m\n\u001b[0;32m    449\u001b[0m         '(with task id 0).  Given task id {}'.format(config.task_id))\n\u001b[0;32m    450\u001b[0m \u001b[1;33m\u001b[0m\u001b[0m\n\u001b[1;32m--> 451\u001b[1;33m   \u001b[1;32mreturn\u001b[0m \u001b[0mexecutor\u001b[0m\u001b[1;33m.\u001b[0m\u001b[0mrun\u001b[0m\u001b[1;33m(\u001b[0m\u001b[1;33m)\u001b[0m\u001b[1;33m\u001b[0m\u001b[0m\n\u001b[0m\u001b[0;32m    452\u001b[0m \u001b[1;33m\u001b[0m\u001b[0m\n\u001b[0;32m    453\u001b[0m \u001b[1;33m\u001b[0m\u001b[0m\n",
      "\u001b[1;32mc:\\users\\hrafiq\\appdata\\local\\programs\\python\\python35\\lib\\site-packages\\tensorflow\\python\\estimator\\training.py\u001b[0m in \u001b[0;36mrun\u001b[1;34m(self)\u001b[0m\n\u001b[0;32m    588\u001b[0m         config.task_type != run_config_lib.TaskType.EVALUATOR):\n\u001b[0;32m    589\u001b[0m       \u001b[0mlogging\u001b[0m\u001b[1;33m.\u001b[0m\u001b[0minfo\u001b[0m\u001b[1;33m(\u001b[0m\u001b[1;34m'Running training and evaluation locally (non-distributed).'\u001b[0m\u001b[1;33m)\u001b[0m\u001b[1;33m\u001b[0m\u001b[0m\n\u001b[1;32m--> 590\u001b[1;33m       \u001b[1;32mreturn\u001b[0m \u001b[0mself\u001b[0m\u001b[1;33m.\u001b[0m\u001b[0mrun_local\u001b[0m\u001b[1;33m(\u001b[0m\u001b[1;33m)\u001b[0m\u001b[1;33m\u001b[0m\u001b[0m\n\u001b[0m\u001b[0;32m    591\u001b[0m \u001b[1;33m\u001b[0m\u001b[0m\n\u001b[0;32m    592\u001b[0m     \u001b[1;31m# Distributed case.\u001b[0m\u001b[1;33m\u001b[0m\u001b[1;33m\u001b[0m\u001b[0m\n",
      "\u001b[1;32mc:\\users\\hrafiq\\appdata\\local\\programs\\python\\python35\\lib\\site-packages\\tensorflow\\python\\estimator\\training.py\u001b[0m in \u001b[0;36mrun_local\u001b[1;34m(self)\u001b[0m\n\u001b[0;32m    689\u001b[0m         \u001b[0mmax_steps\u001b[0m\u001b[1;33m=\u001b[0m\u001b[0mself\u001b[0m\u001b[1;33m.\u001b[0m\u001b[0m_train_spec\u001b[0m\u001b[1;33m.\u001b[0m\u001b[0mmax_steps\u001b[0m\u001b[1;33m,\u001b[0m\u001b[1;33m\u001b[0m\u001b[0m\n\u001b[0;32m    690\u001b[0m         \u001b[0mhooks\u001b[0m\u001b[1;33m=\u001b[0m\u001b[0mtrain_hooks\u001b[0m\u001b[1;33m,\u001b[0m\u001b[1;33m\u001b[0m\u001b[0m\n\u001b[1;32m--> 691\u001b[1;33m         saving_listeners=saving_listeners)\n\u001b[0m\u001b[0;32m    692\u001b[0m \u001b[1;33m\u001b[0m\u001b[0m\n\u001b[0;32m    693\u001b[0m     eval_result = listener_for_eval.eval_result or _EvalResult(\n",
      "\u001b[1;32mc:\\users\\hrafiq\\appdata\\local\\programs\\python\\python35\\lib\\site-packages\\tensorflow\\python\\estimator\\estimator.py\u001b[0m in \u001b[0;36mtrain\u001b[1;34m(self, input_fn, hooks, steps, max_steps, saving_listeners)\u001b[0m\n\u001b[0;32m    374\u001b[0m \u001b[1;33m\u001b[0m\u001b[0m\n\u001b[0;32m    375\u001b[0m       \u001b[0msaving_listeners\u001b[0m \u001b[1;33m=\u001b[0m \u001b[0m_check_listeners_type\u001b[0m\u001b[1;33m(\u001b[0m\u001b[0msaving_listeners\u001b[0m\u001b[1;33m)\u001b[0m\u001b[1;33m\u001b[0m\u001b[0m\n\u001b[1;32m--> 376\u001b[1;33m       \u001b[0mloss\u001b[0m \u001b[1;33m=\u001b[0m \u001b[0mself\u001b[0m\u001b[1;33m.\u001b[0m\u001b[0m_train_model\u001b[0m\u001b[1;33m(\u001b[0m\u001b[0minput_fn\u001b[0m\u001b[1;33m,\u001b[0m \u001b[0mhooks\u001b[0m\u001b[1;33m,\u001b[0m \u001b[0msaving_listeners\u001b[0m\u001b[1;33m)\u001b[0m\u001b[1;33m\u001b[0m\u001b[0m\n\u001b[0m\u001b[0;32m    377\u001b[0m       \u001b[0mlogging\u001b[0m\u001b[1;33m.\u001b[0m\u001b[0minfo\u001b[0m\u001b[1;33m(\u001b[0m\u001b[1;34m'Loss for final step: %s.'\u001b[0m\u001b[1;33m,\u001b[0m \u001b[0mloss\u001b[0m\u001b[1;33m)\u001b[0m\u001b[1;33m\u001b[0m\u001b[0m\n\u001b[0;32m    378\u001b[0m       \u001b[1;32mreturn\u001b[0m \u001b[0mself\u001b[0m\u001b[1;33m\u001b[0m\u001b[0m\n",
      "\u001b[1;32mc:\\users\\hrafiq\\appdata\\local\\programs\\python\\python35\\lib\\site-packages\\tensorflow\\python\\estimator\\estimator.py\u001b[0m in \u001b[0;36m_train_model\u001b[1;34m(self, input_fn, hooks, saving_listeners)\u001b[0m\n\u001b[0;32m   1143\u001b[0m       \u001b[1;32mreturn\u001b[0m \u001b[0mself\u001b[0m\u001b[1;33m.\u001b[0m\u001b[0m_train_model_distributed\u001b[0m\u001b[1;33m(\u001b[0m\u001b[0minput_fn\u001b[0m\u001b[1;33m,\u001b[0m \u001b[0mhooks\u001b[0m\u001b[1;33m,\u001b[0m \u001b[0msaving_listeners\u001b[0m\u001b[1;33m)\u001b[0m\u001b[1;33m\u001b[0m\u001b[0m\n\u001b[0;32m   1144\u001b[0m     \u001b[1;32melse\u001b[0m\u001b[1;33m:\u001b[0m\u001b[1;33m\u001b[0m\u001b[0m\n\u001b[1;32m-> 1145\u001b[1;33m       \u001b[1;32mreturn\u001b[0m \u001b[0mself\u001b[0m\u001b[1;33m.\u001b[0m\u001b[0m_train_model_default\u001b[0m\u001b[1;33m(\u001b[0m\u001b[0minput_fn\u001b[0m\u001b[1;33m,\u001b[0m \u001b[0mhooks\u001b[0m\u001b[1;33m,\u001b[0m \u001b[0msaving_listeners\u001b[0m\u001b[1;33m)\u001b[0m\u001b[1;33m\u001b[0m\u001b[0m\n\u001b[0m\u001b[0;32m   1146\u001b[0m \u001b[1;33m\u001b[0m\u001b[0m\n\u001b[0;32m   1147\u001b[0m   \u001b[1;32mdef\u001b[0m \u001b[0m_train_model_default\u001b[0m\u001b[1;33m(\u001b[0m\u001b[0mself\u001b[0m\u001b[1;33m,\u001b[0m \u001b[0minput_fn\u001b[0m\u001b[1;33m,\u001b[0m \u001b[0mhooks\u001b[0m\u001b[1;33m,\u001b[0m \u001b[0msaving_listeners\u001b[0m\u001b[1;33m)\u001b[0m\u001b[1;33m:\u001b[0m\u001b[1;33m\u001b[0m\u001b[0m\n",
      "\u001b[1;32mc:\\users\\hrafiq\\appdata\\local\\programs\\python\\python35\\lib\\site-packages\\tensorflow\\python\\estimator\\estimator.py\u001b[0m in \u001b[0;36m_train_model_default\u001b[1;34m(self, input_fn, hooks, saving_listeners)\u001b[0m\n\u001b[0;32m   1171\u001b[0m       return self._train_with_estimator_spec(estimator_spec, worker_hooks,\n\u001b[0;32m   1172\u001b[0m                                              \u001b[0mhooks\u001b[0m\u001b[1;33m,\u001b[0m \u001b[0mglobal_step_tensor\u001b[0m\u001b[1;33m,\u001b[0m\u001b[1;33m\u001b[0m\u001b[0m\n\u001b[1;32m-> 1173\u001b[1;33m                                              saving_listeners)\n\u001b[0m\u001b[0;32m   1174\u001b[0m \u001b[1;33m\u001b[0m\u001b[0m\n\u001b[0;32m   1175\u001b[0m   \u001b[1;32mdef\u001b[0m \u001b[0m_train_model_distributed\u001b[0m\u001b[1;33m(\u001b[0m\u001b[0mself\u001b[0m\u001b[1;33m,\u001b[0m \u001b[0minput_fn\u001b[0m\u001b[1;33m,\u001b[0m \u001b[0mhooks\u001b[0m\u001b[1;33m,\u001b[0m \u001b[0msaving_listeners\u001b[0m\u001b[1;33m)\u001b[0m\u001b[1;33m:\u001b[0m\u001b[1;33m\u001b[0m\u001b[0m\n",
      "\u001b[1;32mc:\\users\\hrafiq\\appdata\\local\\programs\\python\\python35\\lib\\site-packages\\tensorflow\\python\\estimator\\estimator.py\u001b[0m in \u001b[0;36m_train_with_estimator_spec\u001b[1;34m(self, estimator_spec, worker_hooks, hooks, global_step_tensor, saving_listeners)\u001b[0m\n\u001b[0;32m   1449\u001b[0m       \u001b[0mloss\u001b[0m \u001b[1;33m=\u001b[0m \u001b[1;32mNone\u001b[0m\u001b[1;33m\u001b[0m\u001b[0m\n\u001b[0;32m   1450\u001b[0m       \u001b[1;32mwhile\u001b[0m \u001b[1;32mnot\u001b[0m \u001b[0mmon_sess\u001b[0m\u001b[1;33m.\u001b[0m\u001b[0mshould_stop\u001b[0m\u001b[1;33m(\u001b[0m\u001b[1;33m)\u001b[0m\u001b[1;33m:\u001b[0m\u001b[1;33m\u001b[0m\u001b[0m\n\u001b[1;32m-> 1451\u001b[1;33m         \u001b[0m_\u001b[0m\u001b[1;33m,\u001b[0m \u001b[0mloss\u001b[0m \u001b[1;33m=\u001b[0m \u001b[0mmon_sess\u001b[0m\u001b[1;33m.\u001b[0m\u001b[0mrun\u001b[0m\u001b[1;33m(\u001b[0m\u001b[1;33m[\u001b[0m\u001b[0mestimator_spec\u001b[0m\u001b[1;33m.\u001b[0m\u001b[0mtrain_op\u001b[0m\u001b[1;33m,\u001b[0m \u001b[0mestimator_spec\u001b[0m\u001b[1;33m.\u001b[0m\u001b[0mloss\u001b[0m\u001b[1;33m]\u001b[0m\u001b[1;33m)\u001b[0m\u001b[1;33m\u001b[0m\u001b[0m\n\u001b[0m\u001b[0;32m   1452\u001b[0m     \u001b[1;32mreturn\u001b[0m \u001b[0mloss\u001b[0m\u001b[1;33m\u001b[0m\u001b[0m\n\u001b[0;32m   1453\u001b[0m \u001b[1;33m\u001b[0m\u001b[0m\n",
      "\u001b[1;32mc:\\users\\hrafiq\\appdata\\local\\programs\\python\\python35\\lib\\site-packages\\tensorflow\\python\\training\\monitored_session.py\u001b[0m in \u001b[0;36mrun\u001b[1;34m(self, fetches, feed_dict, options, run_metadata)\u001b[0m\n\u001b[0;32m    581\u001b[0m                           \u001b[0mfeed_dict\u001b[0m\u001b[1;33m=\u001b[0m\u001b[0mfeed_dict\u001b[0m\u001b[1;33m,\u001b[0m\u001b[1;33m\u001b[0m\u001b[0m\n\u001b[0;32m    582\u001b[0m                           \u001b[0moptions\u001b[0m\u001b[1;33m=\u001b[0m\u001b[0moptions\u001b[0m\u001b[1;33m,\u001b[0m\u001b[1;33m\u001b[0m\u001b[0m\n\u001b[1;32m--> 583\u001b[1;33m                           run_metadata=run_metadata)\n\u001b[0m\u001b[0;32m    584\u001b[0m \u001b[1;33m\u001b[0m\u001b[0m\n\u001b[0;32m    585\u001b[0m   \u001b[1;32mdef\u001b[0m \u001b[0mrun_step_fn\u001b[0m\u001b[1;33m(\u001b[0m\u001b[0mself\u001b[0m\u001b[1;33m,\u001b[0m \u001b[0mstep_fn\u001b[0m\u001b[1;33m)\u001b[0m\u001b[1;33m:\u001b[0m\u001b[1;33m\u001b[0m\u001b[0m\n",
      "\u001b[1;32mc:\\users\\hrafiq\\appdata\\local\\programs\\python\\python35\\lib\\site-packages\\tensorflow\\python\\training\\monitored_session.py\u001b[0m in \u001b[0;36mrun\u001b[1;34m(self, fetches, feed_dict, options, run_metadata)\u001b[0m\n\u001b[0;32m   1057\u001b[0m                               \u001b[0mfeed_dict\u001b[0m\u001b[1;33m=\u001b[0m\u001b[0mfeed_dict\u001b[0m\u001b[1;33m,\u001b[0m\u001b[1;33m\u001b[0m\u001b[0m\n\u001b[0;32m   1058\u001b[0m                               \u001b[0moptions\u001b[0m\u001b[1;33m=\u001b[0m\u001b[0moptions\u001b[0m\u001b[1;33m,\u001b[0m\u001b[1;33m\u001b[0m\u001b[0m\n\u001b[1;32m-> 1059\u001b[1;33m                               run_metadata=run_metadata)\n\u001b[0m\u001b[0;32m   1060\u001b[0m       \u001b[1;32mexcept\u001b[0m \u001b[0m_PREEMPTION_ERRORS\u001b[0m \u001b[1;32mas\u001b[0m \u001b[0me\u001b[0m\u001b[1;33m:\u001b[0m\u001b[1;33m\u001b[0m\u001b[0m\n\u001b[0;32m   1061\u001b[0m         logging.info('An error was raised. This may be due to a preemption in '\n",
      "\u001b[1;32mc:\\users\\hrafiq\\appdata\\local\\programs\\python\\python35\\lib\\site-packages\\tensorflow\\python\\training\\monitored_session.py\u001b[0m in \u001b[0;36mrun\u001b[1;34m(self, *args, **kwargs)\u001b[0m\n\u001b[0;32m   1133\u001b[0m   \u001b[1;32mdef\u001b[0m \u001b[0mrun\u001b[0m\u001b[1;33m(\u001b[0m\u001b[0mself\u001b[0m\u001b[1;33m,\u001b[0m \u001b[1;33m*\u001b[0m\u001b[0margs\u001b[0m\u001b[1;33m,\u001b[0m \u001b[1;33m**\u001b[0m\u001b[0mkwargs\u001b[0m\u001b[1;33m)\u001b[0m\u001b[1;33m:\u001b[0m\u001b[1;33m\u001b[0m\u001b[0m\n\u001b[0;32m   1134\u001b[0m     \u001b[1;32mtry\u001b[0m\u001b[1;33m:\u001b[0m\u001b[1;33m\u001b[0m\u001b[0m\n\u001b[1;32m-> 1135\u001b[1;33m       \u001b[1;32mreturn\u001b[0m \u001b[0mself\u001b[0m\u001b[1;33m.\u001b[0m\u001b[0m_sess\u001b[0m\u001b[1;33m.\u001b[0m\u001b[0mrun\u001b[0m\u001b[1;33m(\u001b[0m\u001b[1;33m*\u001b[0m\u001b[0margs\u001b[0m\u001b[1;33m,\u001b[0m \u001b[1;33m**\u001b[0m\u001b[0mkwargs\u001b[0m\u001b[1;33m)\u001b[0m\u001b[1;33m\u001b[0m\u001b[0m\n\u001b[0m\u001b[0;32m   1136\u001b[0m     \u001b[1;32mexcept\u001b[0m \u001b[0m_PREEMPTION_ERRORS\u001b[0m\u001b[1;33m:\u001b[0m\u001b[1;33m\u001b[0m\u001b[0m\n\u001b[0;32m   1137\u001b[0m       \u001b[1;32mraise\u001b[0m\u001b[1;33m\u001b[0m\u001b[0m\n",
      "\u001b[1;32mc:\\users\\hrafiq\\appdata\\local\\programs\\python\\python35\\lib\\site-packages\\tensorflow\\python\\training\\monitored_session.py\u001b[0m in \u001b[0;36mrun\u001b[1;34m(self, fetches, feed_dict, options, run_metadata)\u001b[0m\n\u001b[0;32m   1205\u001b[0m                                   \u001b[0mfeed_dict\u001b[0m\u001b[1;33m=\u001b[0m\u001b[0mfeed_dict\u001b[0m\u001b[1;33m,\u001b[0m\u001b[1;33m\u001b[0m\u001b[0m\n\u001b[0;32m   1206\u001b[0m                                   \u001b[0moptions\u001b[0m\u001b[1;33m=\u001b[0m\u001b[0moptions\u001b[0m\u001b[1;33m,\u001b[0m\u001b[1;33m\u001b[0m\u001b[0m\n\u001b[1;32m-> 1207\u001b[1;33m                                   run_metadata=run_metadata)\n\u001b[0m\u001b[0;32m   1208\u001b[0m \u001b[1;33m\u001b[0m\u001b[0m\n\u001b[0;32m   1209\u001b[0m     \u001b[1;32mfor\u001b[0m \u001b[0mhook\u001b[0m \u001b[1;32min\u001b[0m \u001b[0mself\u001b[0m\u001b[1;33m.\u001b[0m\u001b[0m_hooks\u001b[0m\u001b[1;33m:\u001b[0m\u001b[1;33m\u001b[0m\u001b[0m\n",
      "\u001b[1;32mc:\\users\\hrafiq\\appdata\\local\\programs\\python\\python35\\lib\\site-packages\\tensorflow\\python\\training\\monitored_session.py\u001b[0m in \u001b[0;36mrun\u001b[1;34m(self, *args, **kwargs)\u001b[0m\n\u001b[0;32m    985\u001b[0m \u001b[1;33m\u001b[0m\u001b[0m\n\u001b[0;32m    986\u001b[0m   \u001b[1;32mdef\u001b[0m \u001b[0mrun\u001b[0m\u001b[1;33m(\u001b[0m\u001b[0mself\u001b[0m\u001b[1;33m,\u001b[0m \u001b[1;33m*\u001b[0m\u001b[0margs\u001b[0m\u001b[1;33m,\u001b[0m \u001b[1;33m**\u001b[0m\u001b[0mkwargs\u001b[0m\u001b[1;33m)\u001b[0m\u001b[1;33m:\u001b[0m\u001b[1;33m\u001b[0m\u001b[0m\n\u001b[1;32m--> 987\u001b[1;33m     \u001b[1;32mreturn\u001b[0m \u001b[0mself\u001b[0m\u001b[1;33m.\u001b[0m\u001b[0m_sess\u001b[0m\u001b[1;33m.\u001b[0m\u001b[0mrun\u001b[0m\u001b[1;33m(\u001b[0m\u001b[1;33m*\u001b[0m\u001b[0margs\u001b[0m\u001b[1;33m,\u001b[0m \u001b[1;33m**\u001b[0m\u001b[0mkwargs\u001b[0m\u001b[1;33m)\u001b[0m\u001b[1;33m\u001b[0m\u001b[0m\n\u001b[0m\u001b[0;32m    988\u001b[0m \u001b[1;33m\u001b[0m\u001b[0m\n\u001b[0;32m    989\u001b[0m   \u001b[1;32mdef\u001b[0m \u001b[0mrun_step_fn\u001b[0m\u001b[1;33m(\u001b[0m\u001b[0mself\u001b[0m\u001b[1;33m,\u001b[0m \u001b[0mstep_fn\u001b[0m\u001b[1;33m,\u001b[0m \u001b[0mraw_session\u001b[0m\u001b[1;33m,\u001b[0m \u001b[0mrun_with_hooks\u001b[0m\u001b[1;33m)\u001b[0m\u001b[1;33m:\u001b[0m\u001b[1;33m\u001b[0m\u001b[0m\n",
      "\u001b[1;32mc:\\users\\hrafiq\\appdata\\local\\programs\\python\\python35\\lib\\site-packages\\tensorflow\\python\\client\\session.py\u001b[0m in \u001b[0;36mrun\u001b[1;34m(self, fetches, feed_dict, options, run_metadata)\u001b[0m\n\u001b[0;32m    875\u001b[0m     \u001b[1;32mtry\u001b[0m\u001b[1;33m:\u001b[0m\u001b[1;33m\u001b[0m\u001b[0m\n\u001b[0;32m    876\u001b[0m       result = self._run(None, fetches, feed_dict, options_ptr,\n\u001b[1;32m--> 877\u001b[1;33m                          run_metadata_ptr)\n\u001b[0m\u001b[0;32m    878\u001b[0m       \u001b[1;32mif\u001b[0m \u001b[0mrun_metadata\u001b[0m\u001b[1;33m:\u001b[0m\u001b[1;33m\u001b[0m\u001b[0m\n\u001b[0;32m    879\u001b[0m         \u001b[0mproto_data\u001b[0m \u001b[1;33m=\u001b[0m \u001b[0mtf_session\u001b[0m\u001b[1;33m.\u001b[0m\u001b[0mTF_GetBuffer\u001b[0m\u001b[1;33m(\u001b[0m\u001b[0mrun_metadata_ptr\u001b[0m\u001b[1;33m)\u001b[0m\u001b[1;33m\u001b[0m\u001b[0m\n",
      "\u001b[1;32mc:\\users\\hrafiq\\appdata\\local\\programs\\python\\python35\\lib\\site-packages\\tensorflow\\python\\client\\session.py\u001b[0m in \u001b[0;36m_run\u001b[1;34m(self, handle, fetches, feed_dict, options, run_metadata)\u001b[0m\n\u001b[0;32m   1098\u001b[0m     \u001b[1;32mif\u001b[0m \u001b[0mfinal_fetches\u001b[0m \u001b[1;32mor\u001b[0m \u001b[0mfinal_targets\u001b[0m \u001b[1;32mor\u001b[0m \u001b[1;33m(\u001b[0m\u001b[0mhandle\u001b[0m \u001b[1;32mand\u001b[0m \u001b[0mfeed_dict_tensor\u001b[0m\u001b[1;33m)\u001b[0m\u001b[1;33m:\u001b[0m\u001b[1;33m\u001b[0m\u001b[0m\n\u001b[0;32m   1099\u001b[0m       results = self._do_run(handle, final_targets, final_fetches,\n\u001b[1;32m-> 1100\u001b[1;33m                              feed_dict_tensor, options, run_metadata)\n\u001b[0m\u001b[0;32m   1101\u001b[0m     \u001b[1;32melse\u001b[0m\u001b[1;33m:\u001b[0m\u001b[1;33m\u001b[0m\u001b[0m\n\u001b[0;32m   1102\u001b[0m       \u001b[0mresults\u001b[0m \u001b[1;33m=\u001b[0m \u001b[1;33m[\u001b[0m\u001b[1;33m]\u001b[0m\u001b[1;33m\u001b[0m\u001b[0m\n",
      "\u001b[1;32mc:\\users\\hrafiq\\appdata\\local\\programs\\python\\python35\\lib\\site-packages\\tensorflow\\python\\client\\session.py\u001b[0m in \u001b[0;36m_do_run\u001b[1;34m(self, handle, target_list, fetch_list, feed_dict, options, run_metadata)\u001b[0m\n\u001b[0;32m   1270\u001b[0m     \u001b[1;32mif\u001b[0m \u001b[0mhandle\u001b[0m \u001b[1;32mis\u001b[0m \u001b[1;32mNone\u001b[0m\u001b[1;33m:\u001b[0m\u001b[1;33m\u001b[0m\u001b[0m\n\u001b[0;32m   1271\u001b[0m       return self._do_call(_run_fn, feeds, fetches, targets, options,\n\u001b[1;32m-> 1272\u001b[1;33m                            run_metadata)\n\u001b[0m\u001b[0;32m   1273\u001b[0m     \u001b[1;32melse\u001b[0m\u001b[1;33m:\u001b[0m\u001b[1;33m\u001b[0m\u001b[0m\n\u001b[0;32m   1274\u001b[0m       \u001b[1;32mreturn\u001b[0m \u001b[0mself\u001b[0m\u001b[1;33m.\u001b[0m\u001b[0m_do_call\u001b[0m\u001b[1;33m(\u001b[0m\u001b[0m_prun_fn\u001b[0m\u001b[1;33m,\u001b[0m \u001b[0mhandle\u001b[0m\u001b[1;33m,\u001b[0m \u001b[0mfeeds\u001b[0m\u001b[1;33m,\u001b[0m \u001b[0mfetches\u001b[0m\u001b[1;33m)\u001b[0m\u001b[1;33m\u001b[0m\u001b[0m\n",
      "\u001b[1;32mc:\\users\\hrafiq\\appdata\\local\\programs\\python\\python35\\lib\\site-packages\\tensorflow\\python\\client\\session.py\u001b[0m in \u001b[0;36m_do_call\u001b[1;34m(self, fn, *args)\u001b[0m\n\u001b[0;32m   1276\u001b[0m   \u001b[1;32mdef\u001b[0m \u001b[0m_do_call\u001b[0m\u001b[1;33m(\u001b[0m\u001b[0mself\u001b[0m\u001b[1;33m,\u001b[0m \u001b[0mfn\u001b[0m\u001b[1;33m,\u001b[0m \u001b[1;33m*\u001b[0m\u001b[0margs\u001b[0m\u001b[1;33m)\u001b[0m\u001b[1;33m:\u001b[0m\u001b[1;33m\u001b[0m\u001b[0m\n\u001b[0;32m   1277\u001b[0m     \u001b[1;32mtry\u001b[0m\u001b[1;33m:\u001b[0m\u001b[1;33m\u001b[0m\u001b[0m\n\u001b[1;32m-> 1278\u001b[1;33m       \u001b[1;32mreturn\u001b[0m \u001b[0mfn\u001b[0m\u001b[1;33m(\u001b[0m\u001b[1;33m*\u001b[0m\u001b[0margs\u001b[0m\u001b[1;33m)\u001b[0m\u001b[1;33m\u001b[0m\u001b[0m\n\u001b[0m\u001b[0;32m   1279\u001b[0m     \u001b[1;32mexcept\u001b[0m \u001b[0merrors\u001b[0m\u001b[1;33m.\u001b[0m\u001b[0mOpError\u001b[0m \u001b[1;32mas\u001b[0m \u001b[0me\u001b[0m\u001b[1;33m:\u001b[0m\u001b[1;33m\u001b[0m\u001b[0m\n\u001b[0;32m   1280\u001b[0m       \u001b[0mmessage\u001b[0m \u001b[1;33m=\u001b[0m \u001b[0mcompat\u001b[0m\u001b[1;33m.\u001b[0m\u001b[0mas_text\u001b[0m\u001b[1;33m(\u001b[0m\u001b[0me\u001b[0m\u001b[1;33m.\u001b[0m\u001b[0mmessage\u001b[0m\u001b[1;33m)\u001b[0m\u001b[1;33m\u001b[0m\u001b[0m\n",
      "\u001b[1;32mc:\\users\\hrafiq\\appdata\\local\\programs\\python\\python35\\lib\\site-packages\\tensorflow\\python\\client\\session.py\u001b[0m in \u001b[0;36m_run_fn\u001b[1;34m(feed_dict, fetch_list, target_list, options, run_metadata)\u001b[0m\n\u001b[0;32m   1261\u001b[0m       \u001b[0mself\u001b[0m\u001b[1;33m.\u001b[0m\u001b[0m_extend_graph\u001b[0m\u001b[1;33m(\u001b[0m\u001b[1;33m)\u001b[0m\u001b[1;33m\u001b[0m\u001b[0m\n\u001b[0;32m   1262\u001b[0m       return self._call_tf_sessionrun(\n\u001b[1;32m-> 1263\u001b[1;33m           options, feed_dict, fetch_list, target_list, run_metadata)\n\u001b[0m\u001b[0;32m   1264\u001b[0m \u001b[1;33m\u001b[0m\u001b[0m\n\u001b[0;32m   1265\u001b[0m     \u001b[1;32mdef\u001b[0m \u001b[0m_prun_fn\u001b[0m\u001b[1;33m(\u001b[0m\u001b[0mhandle\u001b[0m\u001b[1;33m,\u001b[0m \u001b[0mfeed_dict\u001b[0m\u001b[1;33m,\u001b[0m \u001b[0mfetch_list\u001b[0m\u001b[1;33m)\u001b[0m\u001b[1;33m:\u001b[0m\u001b[1;33m\u001b[0m\u001b[0m\n",
      "\u001b[1;32mc:\\users\\hrafiq\\appdata\\local\\programs\\python\\python35\\lib\\site-packages\\tensorflow\\python\\client\\session.py\u001b[0m in \u001b[0;36m_call_tf_sessionrun\u001b[1;34m(self, options, feed_dict, fetch_list, target_list, run_metadata)\u001b[0m\n\u001b[0;32m   1348\u001b[0m     return tf_session.TF_SessionRun_wrapper(\n\u001b[0;32m   1349\u001b[0m         \u001b[0mself\u001b[0m\u001b[1;33m.\u001b[0m\u001b[0m_session\u001b[0m\u001b[1;33m,\u001b[0m \u001b[0moptions\u001b[0m\u001b[1;33m,\u001b[0m \u001b[0mfeed_dict\u001b[0m\u001b[1;33m,\u001b[0m \u001b[0mfetch_list\u001b[0m\u001b[1;33m,\u001b[0m \u001b[0mtarget_list\u001b[0m\u001b[1;33m,\u001b[0m\u001b[1;33m\u001b[0m\u001b[0m\n\u001b[1;32m-> 1350\u001b[1;33m         run_metadata)\n\u001b[0m\u001b[0;32m   1351\u001b[0m \u001b[1;33m\u001b[0m\u001b[0m\n\u001b[0;32m   1352\u001b[0m   \u001b[1;32mdef\u001b[0m \u001b[0m_call_tf_sessionprun\u001b[0m\u001b[1;33m(\u001b[0m\u001b[0mself\u001b[0m\u001b[1;33m,\u001b[0m \u001b[0mhandle\u001b[0m\u001b[1;33m,\u001b[0m \u001b[0mfeed_dict\u001b[0m\u001b[1;33m,\u001b[0m \u001b[0mfetch_list\u001b[0m\u001b[1;33m)\u001b[0m\u001b[1;33m:\u001b[0m\u001b[1;33m\u001b[0m\u001b[0m\n",
      "\u001b[1;31mKeyboardInterrupt\u001b[0m: "
     ]
    }
   ],
   "source": [
    "train_file = os.getcwd() + \"\\data_train.csv\"\n",
    "eval_file = os.getcwd() + \"\\data_eval.csv\"\n",
    "\n",
    "train_and_evaluate_dataset(None, 10000,train_file,eval_file)"
   ]
  },
  {
   "cell_type": "code",
   "execution_count": 0,
   "metadata": {
    "colab": {},
    "colab_type": "code",
    "id": "nYTPz8Hdv6OL"
   },
   "outputs": [],
   "source": [
    "from google.datalab.ml import TensorBoard\n",
    "OUTDIR='/tmp/tmp5qwzs4y8'\n",
    "print(OUTDIR)\n",
    "TensorBoard().start(OUTDIR)"
   ]
  },
  {
   "cell_type": "code",
   "execution_count": 0,
   "metadata": {
    "colab": {},
    "colab_type": "code",
    "id": "dfZSxLwr2HE3"
   },
   "outputs": [],
   "source": []
  }
 ],
 "metadata": {
  "accelerator": "GPU",
  "colab": {
   "collapsed_sections": [],
   "name": "TextClassif_TF_hub_NNM_retrain.ipynb",
   "provenance": [],
   "version": "0.3.2"
  },
  "kernelspec": {
   "display_name": "Python 3",
   "language": "python",
   "name": "python3"
  },
  "language_info": {
   "codemirror_mode": {
    "name": "ipython",
    "version": 3
   },
   "file_extension": ".py",
   "mimetype": "text/x-python",
   "name": "python",
   "nbconvert_exporter": "python",
   "pygments_lexer": "ipython3",
   "version": "3.5.4"
  }
 },
 "nbformat": 4,
 "nbformat_minor": 1
}
