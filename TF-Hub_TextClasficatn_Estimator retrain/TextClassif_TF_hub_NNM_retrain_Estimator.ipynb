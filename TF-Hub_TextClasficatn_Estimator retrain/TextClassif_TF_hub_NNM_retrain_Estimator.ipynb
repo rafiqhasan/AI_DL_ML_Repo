{
  "nbformat": 4,
  "nbformat_minor": 0,
  "metadata": {
    "colab": {
      "name": "TextClassif_TF_hub_NNM_retrain.ipynb",
      "version": "0.3.2",
      "provenance": [],
      "collapsed_sections": []
    },
    "kernelspec": {
      "name": "python3",
      "display_name": "Python 3"
    },
    "accelerator": "GPU"
  },
  "cells": [
    {
      "metadata": {
        "id": "zkqXJZsh2Mng",
        "colab_type": "code",
        "colab": {
          "base_uri": "https://localhost:8080/",
          "height": 1840
        },
        "outputId": "aa9949dc-ef67-46b0-8e77-104d525035db"
      },
      "cell_type": "code",
      "source": [
        "%%bash\n",
        "pip install datalab\n",
        "pip install tensorflow-gpu"
      ],
      "execution_count": 50,
      "outputs": [
        {
          "output_type": "stream",
          "text": [
            "Collecting datalab\n",
            "  Downloading https://files.pythonhosted.org/packages/34/20/3b4963045b1f5ebb79253a2b22225530faecf563f293a19acbbbbc097ddf/datalab-1.1.4.tar.gz (1.3MB)\n",
            "Collecting configparser>=3.5.0 (from datalab)\n",
            "  Downloading https://files.pythonhosted.org/packages/7c/69/c2ce7e91c89dc073eb1aa74c0621c3eefbffe8216b3f9af9d3885265c01c/configparser-3.5.0.tar.gz\n",
            "Collecting mock>=2.0.0 (from datalab)\n",
            "  Downloading https://files.pythonhosted.org/packages/e6/35/f187bdf23be87092bd0f1200d43d23076cee4d0dec109f195173fd3ebc79/mock-2.0.0-py2.py3-none-any.whl (56kB)\n",
            "Requirement already satisfied: future>=0.16.0 in /usr/local/lib/python3.6/dist-packages (from datalab) (0.16.0)\n",
            "Collecting google-cloud>=0.30.0 (from datalab)\n",
            "  Downloading https://files.pythonhosted.org/packages/ba/b1/7c54d1950e7808df06642274e677dbcedba57f75307adf2e5ad8d39e5e0e/google_cloud-0.34.0-py2.py3-none-any.whl\n",
            "Requirement already satisfied: google-api-python-client>=1.6.2 in /usr/local/lib/python3.6/dist-packages (from datalab) (1.6.7)\n",
            "Requirement already satisfied: seaborn>=0.7.0 in /usr/local/lib/python3.6/dist-packages (from datalab) (0.7.1)\n",
            "Requirement already satisfied: plotly>=1.12.5 in /usr/local/lib/python3.6/dist-packages (from datalab) (1.12.12)\n",
            "Requirement already satisfied: httplib2>=0.10.3 in /usr/local/lib/python3.6/dist-packages (from datalab) (0.11.3)\n",
            "Requirement already satisfied: oauth2client>=2.2.0 in /usr/local/lib/python3.6/dist-packages (from datalab) (4.1.3)\n",
            "Requirement already satisfied: pandas>=0.22.0 in /usr/local/lib/python3.6/dist-packages (from datalab) (0.22.0)\n",
            "Requirement already satisfied: google_auth_httplib2>=0.0.2 in /usr/local/lib/python3.6/dist-packages (from datalab) (0.0.3)\n",
            "Collecting pandas-profiling>=1.0.0a2 (from datalab)\n",
            "  Downloading https://files.pythonhosted.org/packages/a7/7c/84f15ee705793a3cdd43bc65e6166d65d36f743b815ea517b02582989533/pandas_profiling-1.4.1-py2.py3-none-any.whl\n",
            "Requirement already satisfied: python-dateutil>=2.5.0 in /usr/local/lib/python3.6/dist-packages (from datalab) (2.5.3)\n",
            "Requirement already satisfied: pytz>=2015.4 in /usr/local/lib/python3.6/dist-packages (from datalab) (2018.7)\n",
            "Requirement already satisfied: pyyaml>=3.11 in /usr/local/lib/python3.6/dist-packages (from datalab) (3.13)\n",
            "Requirement already satisfied: requests>=2.9.1 in /usr/local/lib/python3.6/dist-packages (from datalab) (2.18.4)\n",
            "Requirement already satisfied: scikit-image>=0.13.0 in /usr/local/lib/python3.6/dist-packages (from datalab) (0.13.1)\n",
            "Requirement already satisfied: scikit-learn>=0.18.2 in /usr/local/lib/python3.6/dist-packages (from datalab) (0.19.2)\n",
            "Requirement already satisfied: ipykernel>=4.5.2 in /usr/local/lib/python3.6/dist-packages (from datalab) (4.6.1)\n",
            "Requirement already satisfied: psutil>=4.3.0 in /usr/local/lib/python3.6/dist-packages (from datalab) (5.4.8)\n",
            "Requirement already satisfied: jsonschema>=2.6.0 in /usr/local/lib/python3.6/dist-packages (from datalab) (2.6.0)\n",
            "Collecting six==1.10.0 (from datalab)\n",
            "  Downloading https://files.pythonhosted.org/packages/c8/0a/b6723e1bc4c516cb687841499455a8505b44607ab535be01091c0f24f079/six-1.10.0-py2.py3-none-any.whl\n",
            "Requirement already satisfied: urllib3>=1.22 in /usr/local/lib/python3.6/dist-packages (from datalab) (1.22)\n",
            "Collecting pbr>=0.11 (from mock>=2.0.0->datalab)\n",
            "  Downloading https://files.pythonhosted.org/packages/f3/04/fddc1c2dd75b256eda4d360024692231a2c19a0c61ad7f4a162407c1ab58/pbr-5.1.1-py2.py3-none-any.whl (106kB)\n",
            "Requirement already satisfied: uritemplate<4dev,>=3.0.0 in /usr/local/lib/python3.6/dist-packages (from google-api-python-client>=1.6.2->datalab) (3.0.0)\n",
            "Requirement already satisfied: pyasn1>=0.1.7 in /usr/local/lib/python3.6/dist-packages (from oauth2client>=2.2.0->datalab) (0.4.4)\n",
            "Requirement already satisfied: rsa>=3.1.4 in /usr/local/lib/python3.6/dist-packages (from oauth2client>=2.2.0->datalab) (4.0)\n",
            "Requirement already satisfied: pyasn1-modules>=0.0.5 in /usr/local/lib/python3.6/dist-packages (from oauth2client>=2.2.0->datalab) (0.2.2)\n",
            "Requirement already satisfied: numpy>=1.9.0 in /usr/local/lib/python3.6/dist-packages (from pandas>=0.22.0->datalab) (1.14.6)\n",
            "Requirement already satisfied: google-auth in /usr/local/lib/python3.6/dist-packages (from google_auth_httplib2>=0.0.2->datalab) (1.4.2)\n",
            "Requirement already satisfied: jinja2>=2.8 in /usr/local/lib/python3.6/dist-packages (from pandas-profiling>=1.0.0a2->datalab) (2.10)\n",
            "Requirement already satisfied: matplotlib>=1.4 in /usr/local/lib/python3.6/dist-packages (from pandas-profiling>=1.0.0a2->datalab) (2.1.2)\n",
            "Requirement already satisfied: idna<2.7,>=2.5 in /usr/local/lib/python3.6/dist-packages (from requests>=2.9.1->datalab) (2.6)\n",
            "Requirement already satisfied: chardet<3.1.0,>=3.0.2 in /usr/local/lib/python3.6/dist-packages (from requests>=2.9.1->datalab) (3.0.4)\n",
            "Requirement already satisfied: certifi>=2017.4.17 in /usr/local/lib/python3.6/dist-packages (from requests>=2.9.1->datalab) (2018.10.15)\n",
            "Requirement already satisfied: scipy>=0.17.0 in /usr/local/lib/python3.6/dist-packages (from scikit-image>=0.13.0->datalab) (1.1.0)\n",
            "Requirement already satisfied: pillow>=2.1.0 in /usr/local/lib/python3.6/dist-packages (from scikit-image>=0.13.0->datalab) (4.0.0)\n",
            "Requirement already satisfied: networkx>=1.8 in /usr/local/lib/python3.6/dist-packages (from scikit-image>=0.13.0->datalab) (2.2)\n",
            "Requirement already satisfied: PyWavelets>=0.4.0 in /usr/local/lib/python3.6/dist-packages (from scikit-image>=0.13.0->datalab) (1.0.1)\n",
            "Requirement already satisfied: jupyter-client in /usr/local/lib/python3.6/dist-packages (from ipykernel>=4.5.2->datalab) (5.2.3)\n",
            "Requirement already satisfied: traitlets>=4.1.0 in /usr/local/lib/python3.6/dist-packages (from ipykernel>=4.5.2->datalab) (4.3.2)\n",
            "Requirement already satisfied: tornado>=4.0 in /usr/local/lib/python3.6/dist-packages (from ipykernel>=4.5.2->datalab) (4.5.3)\n",
            "Requirement already satisfied: ipython>=4.0.0 in /usr/local/lib/python3.6/dist-packages (from ipykernel>=4.5.2->datalab) (5.5.0)\n",
            "Requirement already satisfied: cachetools>=2.0.0 in /usr/local/lib/python3.6/dist-packages (from google-auth->google_auth_httplib2>=0.0.2->datalab) (3.0.0)\n",
            "Requirement already satisfied: MarkupSafe>=0.23 in /usr/local/lib/python3.6/dist-packages (from jinja2>=2.8->pandas-profiling>=1.0.0a2->datalab) (1.1.0)\n",
            "Requirement already satisfied: cycler>=0.10 in /usr/local/lib/python3.6/dist-packages (from matplotlib>=1.4->pandas-profiling>=1.0.0a2->datalab) (0.10.0)\n",
            "Requirement already satisfied: pyparsing!=2.0.4,!=2.1.2,!=2.1.6,>=2.0.1 in /usr/local/lib/python3.6/dist-packages (from matplotlib>=1.4->pandas-profiling>=1.0.0a2->datalab) (2.3.0)\n",
            "Requirement already satisfied: olefile in /usr/local/lib/python3.6/dist-packages (from pillow>=2.1.0->scikit-image>=0.13.0->datalab) (0.46)\n",
            "Requirement already satisfied: decorator>=4.3.0 in /usr/local/lib/python3.6/dist-packages (from networkx>=1.8->scikit-image>=0.13.0->datalab) (4.3.0)\n",
            "Requirement already satisfied: pyzmq>=13 in /usr/local/lib/python3.6/dist-packages (from jupyter-client->ipykernel>=4.5.2->datalab) (17.0.0)\n",
            "Requirement already satisfied: jupyter-core in /usr/local/lib/python3.6/dist-packages (from jupyter-client->ipykernel>=4.5.2->datalab) (4.4.0)\n",
            "Requirement already satisfied: ipython-genutils in /usr/local/lib/python3.6/dist-packages (from traitlets>=4.1.0->ipykernel>=4.5.2->datalab) (0.2.0)\n",
            "Requirement already satisfied: simplegeneric>0.8 in /usr/local/lib/python3.6/dist-packages (from ipython>=4.0.0->ipykernel>=4.5.2->datalab) (0.8.1)\n",
            "Requirement already satisfied: pickleshare in /usr/local/lib/python3.6/dist-packages (from ipython>=4.0.0->ipykernel>=4.5.2->datalab) (0.7.5)\n",
            "Requirement already satisfied: pexpect; sys_platform != \"win32\" in /usr/local/lib/python3.6/dist-packages (from ipython>=4.0.0->ipykernel>=4.5.2->datalab) (4.6.0)\n",
            "Requirement already satisfied: prompt-toolkit<2.0.0,>=1.0.4 in /usr/local/lib/python3.6/dist-packages (from ipython>=4.0.0->ipykernel>=4.5.2->datalab) (1.0.15)\n",
            "Requirement already satisfied: setuptools>=18.5 in /usr/local/lib/python3.6/dist-packages (from ipython>=4.0.0->ipykernel>=4.5.2->datalab) (40.6.2)\n",
            "Requirement already satisfied: pygments in /usr/local/lib/python3.6/dist-packages (from ipython>=4.0.0->ipykernel>=4.5.2->datalab) (2.1.3)\n",
            "Requirement already satisfied: ptyprocess>=0.5 in /usr/local/lib/python3.6/dist-packages (from pexpect; sys_platform != \"win32\"->ipython>=4.0.0->ipykernel>=4.5.2->datalab) (0.6.0)\n",
            "Requirement already satisfied: wcwidth in /usr/local/lib/python3.6/dist-packages (from prompt-toolkit<2.0.0,>=1.0.4->ipython>=4.0.0->ipykernel>=4.5.2->datalab) (0.1.7)\n",
            "Building wheels for collected packages: datalab, configparser\n",
            "  Running setup.py bdist_wheel for datalab: started\n",
            "  Running setup.py bdist_wheel for datalab: finished with status 'done'\n",
            "  Stored in directory: /root/.cache/pip/wheels/a0/49/91/b042b0fc2f6f1b418c0d4adc9aee43af3e1b6784367c6700df\n",
            "  Running setup.py bdist_wheel for configparser: started\n",
            "  Running setup.py bdist_wheel for configparser: finished with status 'done'\n",
            "  Stored in directory: /root/.cache/pip/wheels/a3/61/79/424ef897a2f3b14684a7de5d89e8600b460b89663e6ce9d17c\n",
            "Successfully built datalab configparser\n",
            "Installing collected packages: configparser, six, pbr, mock, google-cloud, pandas-profiling, datalab\n",
            "  Found existing installation: six 1.11.0\n",
            "    Uninstalling six-1.11.0:\n",
            "      Successfully uninstalled six-1.11.0\n",
            "Successfully installed configparser-3.5.0 datalab-1.1.4 google-cloud-0.34.0 mock-2.0.0 pandas-profiling-1.4.1 pbr-5.1.1 six-1.10.0\n",
            "Collecting tensorflow-gpu\n",
            "  Downloading https://files.pythonhosted.org/packages/55/7e/bec4d62e9dc95e828922c6cec38acd9461af8abe749f7c9def25ec4b2fdb/tensorflow_gpu-1.12.0-cp36-cp36m-manylinux1_x86_64.whl (281.7MB)\n",
            "Requirement already satisfied: astor>=0.6.0 in /usr/local/lib/python3.6/dist-packages (from tensorflow-gpu) (0.7.1)\n",
            "Requirement already satisfied: absl-py>=0.1.6 in /usr/local/lib/python3.6/dist-packages (from tensorflow-gpu) (0.6.1)\n",
            "Requirement already satisfied: gast>=0.2.0 in /usr/local/lib/python3.6/dist-packages (from tensorflow-gpu) (0.2.0)\n",
            "Requirement already satisfied: protobuf>=3.6.1 in /usr/local/lib/python3.6/dist-packages (from tensorflow-gpu) (3.6.1)\n",
            "Requirement already satisfied: tensorboard<1.13.0,>=1.12.0 in /usr/local/lib/python3.6/dist-packages (from tensorflow-gpu) (1.12.0)\n",
            "Requirement already satisfied: numpy>=1.13.3 in /usr/local/lib/python3.6/dist-packages (from tensorflow-gpu) (1.14.6)\n",
            "Requirement already satisfied: wheel>=0.26 in /usr/local/lib/python3.6/dist-packages (from tensorflow-gpu) (0.32.3)\n",
            "Requirement already satisfied: keras-applications>=1.0.6 in /usr/local/lib/python3.6/dist-packages (from tensorflow-gpu) (1.0.6)\n",
            "Requirement already satisfied: six>=1.10.0 in /usr/local/lib/python3.6/dist-packages (from tensorflow-gpu) (1.10.0)\n",
            "Requirement already satisfied: grpcio>=1.8.6 in /usr/local/lib/python3.6/dist-packages (from tensorflow-gpu) (1.15.0)\n",
            "Requirement already satisfied: termcolor>=1.1.0 in /usr/local/lib/python3.6/dist-packages (from tensorflow-gpu) (1.1.0)\n",
            "Requirement already satisfied: keras-preprocessing>=1.0.5 in /usr/local/lib/python3.6/dist-packages (from tensorflow-gpu) (1.0.5)\n",
            "Requirement already satisfied: setuptools in /usr/local/lib/python3.6/dist-packages (from protobuf>=3.6.1->tensorflow-gpu) (40.6.2)\n",
            "Requirement already satisfied: markdown>=2.6.8 in /usr/local/lib/python3.6/dist-packages (from tensorboard<1.13.0,>=1.12.0->tensorflow-gpu) (3.0.1)\n",
            "Requirement already satisfied: werkzeug>=0.11.10 in /usr/local/lib/python3.6/dist-packages (from tensorboard<1.13.0,>=1.12.0->tensorflow-gpu) (0.14.1)\n",
            "Requirement already satisfied: h5py in /usr/local/lib/python3.6/dist-packages (from keras-applications>=1.0.6->tensorflow-gpu) (2.8.0)\n",
            "Installing collected packages: tensorflow-gpu\n",
            "Successfully installed tensorflow-gpu-1.12.0\n"
          ],
          "name": "stdout"
        },
        {
          "output_type": "stream",
          "text": [
            "spacy 2.0.17 has requirement numpy>=1.15.0, but you'll have numpy 1.14.6 which is incompatible.\n",
            "google-colab 0.0.1a1 has requirement six~=1.11.0, but you'll have six 1.10.0 which is incompatible.\n",
            "tcmalloc: large alloc 1073750016 bytes == 0x50c00000 @  0x7f601bbdb2a4 0x591a07 0x5b5d56 0x502e9a 0x506859 0x502209 0x502f3d 0x506859 0x504c28 0x502540 0x502f3d 0x506859 0x504c28 0x502540 0x502f3d 0x506859 0x504c28 0x502540 0x502f3d 0x507641 0x502209 0x502f3d 0x506859 0x504c28 0x502540 0x502f3d 0x507641 0x504c28 0x502540 0x502f3d 0x507641\n"
          ],
          "name": "stderr"
        }
      ]
    },
    {
      "metadata": {
        "id": "Llj1Q9Umv6NE",
        "colab_type": "code",
        "outputId": "ccfcb8b7-3b64-48cc-8a01-cd5b3563321d",
        "colab": {
          "base_uri": "https://localhost:8080/",
          "height": 35
        }
      },
      "cell_type": "code",
      "source": [
        "#Import required libraries\n",
        "import tensorflow as tf\n",
        "import tensorflow_hub as hub\n",
        "import pandas as pd\n",
        "import numpy as np\n",
        "\n",
        "# from keras.models import Sequential\n",
        "# from nltk.tokenize import word_tokenize\n",
        "# from sklearn.metrics.pairwise import cosine_similarity\n",
        "# from sklearn.feature_extraction.text import TfidfVectorizer\n",
        "# from sklearn.model_selection import train_test_split, cross_val_score\n",
        "# from sklearn.ensemble import RandomForestClassifier, GradientBoostingClassifier\n",
        "# from sklearn.naive_bayes import GaussianNB\n",
        "# from xgboost.sklearn import XGBClassifier\n",
        "# https://machinelearningmastery.com/clean-text-machine-learning-python/\n",
        "print(tf.__version__)"
      ],
      "execution_count": 51,
      "outputs": [
        {
          "output_type": "stream",
          "text": [
            "1.12.0\n"
          ],
          "name": "stdout"
        }
      ]
    },
    {
      "metadata": {
        "id": "mqoC1EoBw_ko",
        "colab_type": "code",
        "outputId": "a58f06bd-70a0-4a56-98e2-2c33a77b8c5e",
        "colab": {
          "base_uri": "https://localhost:8080/",
          "height": 124
        }
      },
      "cell_type": "code",
      "source": [
        "from google.colab import drive\n",
        "drive.mount('/content/drive')"
      ],
      "execution_count": 3,
      "outputs": [
        {
          "output_type": "stream",
          "text": [
            "Go to this URL in a browser: https://accounts.google.com/o/oauth2/auth?client_id=947318989803-6bn6qk8qdgf4n4g3pfee6491hc0brc4i.apps.googleusercontent.com&redirect_uri=urn%3Aietf%3Awg%3Aoauth%3A2.0%3Aoob&scope=email%20https%3A%2F%2Fwww.googleapis.com%2Fauth%2Fdocs.test%20https%3A%2F%2Fwww.googleapis.com%2Fauth%2Fdrive%20https%3A%2F%2Fwww.googleapis.com%2Fauth%2Fdrive.photos.readonly%20https%3A%2F%2Fwww.googleapis.com%2Fauth%2Fpeopleapi.readonly&response_type=code\n",
            "\n",
            "Enter your authorization code:\n",
            "··········\n",
            "Mounted at /content/drive\n"
          ],
          "name": "stdout"
        }
      ]
    },
    {
      "metadata": {
        "id": "hxUQv_5o5Vos",
        "colab_type": "code",
        "colab": {
          "base_uri": "https://localhost:8080/",
          "height": 555
        },
        "outputId": "41ae365d-2a54-459e-f316-c5d1f6738d83"
      },
      "cell_type": "code",
      "source": [
        "#Check available devices\n",
        "from tensorflow.python.client import device_lib\n",
        "print(device_lib.list_local_devices())"
      ],
      "execution_count": 52,
      "outputs": [
        {
          "output_type": "stream",
          "text": [
            "[name: \"/device:CPU:0\"\n",
            "device_type: \"CPU\"\n",
            "memory_limit: 268435456\n",
            "locality {\n",
            "}\n",
            "incarnation: 6625221293321700420\n",
            ", name: \"/device:XLA_CPU:0\"\n",
            "device_type: \"XLA_CPU\"\n",
            "memory_limit: 17179869184\n",
            "locality {\n",
            "}\n",
            "incarnation: 12717716568918420733\n",
            "physical_device_desc: \"device: XLA_CPU device\"\n",
            ", name: \"/device:XLA_GPU:0\"\n",
            "device_type: \"XLA_GPU\"\n",
            "memory_limit: 17179869184\n",
            "locality {\n",
            "}\n",
            "incarnation: 6945412640120490886\n",
            "physical_device_desc: \"device: XLA_GPU device\"\n",
            ", name: \"/device:GPU:0\"\n",
            "device_type: \"GPU\"\n",
            "memory_limit: 11281553818\n",
            "locality {\n",
            "  bus_id: 1\n",
            "  links {\n",
            "  }\n",
            "}\n",
            "incarnation: 17914494300379395380\n",
            "physical_device_desc: \"device: 0, name: Tesla K80, pci bus id: 0000:00:04.0, compute capability: 3.7\"\n",
            "]\n"
          ],
          "name": "stdout"
        }
      ]
    },
    {
      "metadata": {
        "id": "EzMoluWFv6NM",
        "colab_type": "code",
        "outputId": "4f046231-3f46-4cae-d90e-4e390dcd267e",
        "colab": {
          "base_uri": "https://localhost:8080/",
          "height": 202
        }
      },
      "cell_type": "code",
      "source": [
        "#Load training data\n",
        "all_data = pd.read_csv('drive/My Drive/Colab Notebooks/train_data.csv')\n",
        "all_data.head()"
      ],
      "execution_count": 53,
      "outputs": [
        {
          "output_type": "execute_result",
          "data": {
            "text/html": [
              "<div>\n",
              "<style scoped>\n",
              "    .dataframe tbody tr th:only-of-type {\n",
              "        vertical-align: middle;\n",
              "    }\n",
              "\n",
              "    .dataframe tbody tr th {\n",
              "        vertical-align: top;\n",
              "    }\n",
              "\n",
              "    .dataframe thead th {\n",
              "        text-align: right;\n",
              "    }\n",
              "</style>\n",
              "<table border=\"1\" class=\"dataframe\">\n",
              "  <thead>\n",
              "    <tr style=\"text-align: right;\">\n",
              "      <th></th>\n",
              "      <th>text</th>\n",
              "      <th>label</th>\n",
              "    </tr>\n",
              "  </thead>\n",
              "  <tbody>\n",
              "    <tr>\n",
              "      <th>0</th>\n",
              "      <td>never talk to me again</td>\n",
              "      <td>3</td>\n",
              "    </tr>\n",
              "    <tr>\n",
              "      <th>1</th>\n",
              "      <td>I am proud of your achievements</td>\n",
              "      <td>2</td>\n",
              "    </tr>\n",
              "    <tr>\n",
              "      <th>2</th>\n",
              "      <td>It is the worst day in my life</td>\n",
              "      <td>3</td>\n",
              "    </tr>\n",
              "    <tr>\n",
              "      <th>3</th>\n",
              "      <td>Miss you so much</td>\n",
              "      <td>0</td>\n",
              "    </tr>\n",
              "    <tr>\n",
              "      <th>4</th>\n",
              "      <td>food is life</td>\n",
              "      <td>4</td>\n",
              "    </tr>\n",
              "  </tbody>\n",
              "</table>\n",
              "</div>"
            ],
            "text/plain": [
              "                              text  label\n",
              "0           never talk to me again      3\n",
              "1  I am proud of your achievements      2\n",
              "2   It is the worst day in my life      3\n",
              "3                 Miss you so much      0\n",
              "4                     food is life      4"
            ]
          },
          "metadata": {
            "tags": []
          },
          "execution_count": 53
        }
      ]
    },
    {
      "metadata": {
        "id": "uwqk1Jz_v6NW",
        "colab_type": "code",
        "colab": {}
      },
      "cell_type": "code",
      "source": [
        "#Create one hot encoding of labels\n",
        "def create_yoh_list(v_classes, num_classes):\n",
        "    yoh_class = np.zeros((len(v_classes),num_classes))\n",
        "    \n",
        "    for ix, v_cl in enumerate(v_classes):\n",
        "        yoh_class[ix, v_cl] = 1\n",
        "    \n",
        "    return(yoh_class)"
      ],
      "execution_count": 0,
      "outputs": []
    },
    {
      "metadata": {
        "id": "ApsVQh9gv6NZ",
        "colab_type": "code",
        "outputId": "4748f037-842b-4f95-f29c-1dacd716311e",
        "colab": {
          "base_uri": "https://localhost:8080/",
          "height": 87
        }
      },
      "cell_type": "code",
      "source": [
        "#Test one hot encoder code\n",
        "create_yoh_list([1,3,4,2],num_classes = 5)"
      ],
      "execution_count": 55,
      "outputs": [
        {
          "output_type": "execute_result",
          "data": {
            "text/plain": [
              "array([[0., 1., 0., 0., 0.],\n",
              "       [0., 0., 0., 1., 0.],\n",
              "       [0., 0., 0., 0., 1.],\n",
              "       [0., 0., 1., 0., 0.]])"
            ]
          },
          "metadata": {
            "tags": []
          },
          "execution_count": 55
        }
      ]
    },
    {
      "metadata": {
        "id": "xIl8BWZev6Ng",
        "colab_type": "code",
        "outputId": "1190af97-d1f0-417b-aaea-4958d677a698",
        "colab": {
          "base_uri": "https://localhost:8080/",
          "height": 35
        }
      },
      "cell_type": "code",
      "source": [
        "#Def class to text\n",
        "def class_to_text(cls):\n",
        "    dict_class = {0:'love', 1:'playful', 2:'happy',3:'sad', 4:'foodie'}\n",
        "    return dict_class[cls]\n",
        "\n",
        "class_to_text(2)"
      ],
      "execution_count": 56,
      "outputs": [
        {
          "output_type": "execute_result",
          "data": {
            "text/plain": [
              "'happy'"
            ]
          },
          "metadata": {
            "tags": []
          },
          "execution_count": 56
        }
      ]
    },
    {
      "metadata": {
        "id": "Pks-CuTdv6Nm",
        "colab_type": "code",
        "outputId": "b0ac20bb-2766-4cf0-e376-1a5265d7a7f6",
        "colab": {
          "base_uri": "https://localhost:8080/",
          "height": 260
        }
      },
      "cell_type": "code",
      "source": [
        "#Random split dataset into Train and Validation\n",
        "train_data = all_data.sample(frac=0.95,random_state=1)\n",
        "valid_data = all_data.drop(train_data.index)\n",
        "\n",
        "train_data.info()\n",
        "valid_data.info()"
      ],
      "execution_count": 67,
      "outputs": [
        {
          "output_type": "stream",
          "text": [
            "<class 'pandas.core.frame.DataFrame'>\n",
            "Int64Index: 179 entries, 31 to 134\n",
            "Data columns (total 2 columns):\n",
            "text     179 non-null object\n",
            "label    179 non-null int64\n",
            "dtypes: int64(1), object(1)\n",
            "memory usage: 4.2+ KB\n",
            "<class 'pandas.core.frame.DataFrame'>\n",
            "Int64Index: 9 entries, 37 to 144\n",
            "Data columns (total 2 columns):\n",
            "text     9 non-null object\n",
            "label    9 non-null int64\n",
            "dtypes: int64(1), object(1)\n",
            "memory usage: 216.0+ bytes\n"
          ],
          "name": "stdout"
        }
      ]
    },
    {
      "metadata": {
        "id": "8PukNdBAv6Nt",
        "colab_type": "code",
        "colab": {}
      },
      "cell_type": "code",
      "source": [
        "# Define your feature columns\n",
        "def create_feature_cols():\n",
        "    embedded_text_feature_column = hub.text_embedding_column(key=\"text\", \n",
        "                                    module_spec=\"https://tfhub.dev/google/nnlm-en-dim128/1\",\n",
        "                                    trainable=False)\n",
        "    return [embedded_text_feature_column]"
      ],
      "execution_count": 0,
      "outputs": []
    },
    {
      "metadata": {
        "id": "Kr4eGcMdv6Ny",
        "colab_type": "code",
        "colab": {}
      },
      "cell_type": "code",
      "source": [
        "# Create pandas input function for training\n",
        "def make_input_fn(df_f, num_epochs):\n",
        "  return tf.estimator.inputs.pandas_input_fn(\n",
        "    x = df_f,\n",
        "    y = df_f['label'],\n",
        "    batch_size = 128,\n",
        "    num_epochs = num_epochs,\n",
        "    shuffle = True,\n",
        "    queue_capacity = 200,\n",
        "    num_threads = 1\n",
        "  )\n",
        "\n",
        "#Input Function for Train and Validation Set\n",
        "def get_validation_input_fn(data_set, num_epochs=1, shuffle=False):\n",
        "  return tf.estimator.inputs.pandas_input_fn(\n",
        "      x = data_set,\n",
        "      y = data_set['label'],\n",
        "      num_epochs=num_epochs,\n",
        "      shuffle=shuffle)\n",
        "\n",
        "# Serving function for external call\n",
        "def serving_fn():\n",
        "    feature_placeholders  = {'text' : tf.placeholder(tf.string, [None])\n",
        "    }\n",
        "\n",
        "    #Features with transformation logic\n",
        "    features = {\n",
        "                key: tf.expand_dims(tensor, -1)\n",
        "                for key, tensor in feature_placeholders.items()\n",
        "            }\n",
        "    \n",
        "    #feat_changed = add_engineered(features.copy())\n",
        "    return tf.estimator.export.ServingInputReceiver(features, feature_placeholders )"
      ],
      "execution_count": 0,
      "outputs": []
    },
    {
      "metadata": {
        "id": "2ilJSZ2nv6N2",
        "colab_type": "code",
        "colab": {}
      },
      "cell_type": "code",
      "source": [
        "def add_engineered(inp):\n",
        "    pass"
      ],
      "execution_count": 0,
      "outputs": []
    },
    {
      "metadata": {
        "id": "r3rCgfTyv6N-",
        "colab_type": "code",
        "colab": {}
      },
      "cell_type": "code",
      "source": [
        "# Create estimator train and evaluate function\n",
        "def train_and_evaluate(output_dir, num_train_steps):    \n",
        "##### Create Canned estimator instance\n",
        "    run_config = tf.estimator.RunConfig(save_checkpoints_secs = 40, \n",
        "                                        keep_checkpoint_max = 3)\n",
        "    estimator = tf.estimator.DNNClassifier(feature_columns=create_feature_cols(),\n",
        "                                          n_classes=5,\n",
        "                                          hidden_units=[256,128,64,32],\n",
        "                                          dropout = 0.3,\n",
        "                                          #optimizer=get_stepw_decay_optimizer)\n",
        "                                          optimizer=tf.train.AdamOptimizer(learning_rate=0.01),\n",
        "                                          config = run_config)\n",
        "    train_spec = tf.estimator.TrainSpec(input_fn = make_input_fn(train_data, None), \n",
        "                                      max_steps = num_train_steps)\n",
        "    exp = tf.estimator.LatestExporter(\"decision\", serving_fn)\n",
        "    eval_spec = tf.estimator.EvalSpec(input_fn = get_validation_input_fn(valid_data, 1), \n",
        "                                    steps = None, \n",
        "                                    exporters = exp,\n",
        "                                    start_delay_secs = 1, # start evaluating after N seconds, \n",
        "                                    throttle_secs = 20)  # evaluate every N seconds\n",
        "    tf.estimator.train_and_evaluate(estimator, train_spec, eval_spec)"
      ],
      "execution_count": 0,
      "outputs": []
    },
    {
      "metadata": {
        "id": "kXcYOz3Wv6OF",
        "colab_type": "code",
        "outputId": "1b34e071-9c66-4f23-ad8a-02adb6dfe4ce",
        "colab": {
          "base_uri": "https://localhost:8080/",
          "height": 5220
        }
      },
      "cell_type": "code",
      "source": [
        "train_and_evaluate(None, num_train_steps=10000)"
      ],
      "execution_count": 73,
      "outputs": [
        {
          "output_type": "stream",
          "text": [
            "WARNING:tensorflow:Using temporary folder as model directory: /tmp/tmp9mzo_fdl\n",
            "INFO:tensorflow:Using config: {'_model_dir': '/tmp/tmp9mzo_fdl', '_tf_random_seed': None, '_save_summary_steps': 100, '_save_checkpoints_steps': None, '_save_checkpoints_secs': 40, '_session_config': allow_soft_placement: true\n",
            "graph_options {\n",
            "  rewrite_options {\n",
            "    meta_optimizer_iterations: ONE\n",
            "  }\n",
            "}\n",
            ", '_keep_checkpoint_max': 3, '_keep_checkpoint_every_n_hours': 10000, '_log_step_count_steps': 100, '_train_distribute': None, '_device_fn': None, '_protocol': None, '_eval_distribute': None, '_experimental_distribute': None, '_service': None, '_cluster_spec': <tensorflow.python.training.server_lib.ClusterSpec object at 0x7fee1716a160>, '_task_type': 'worker', '_task_id': 0, '_global_id_in_cluster': 0, '_master': '', '_evaluation_master': '', '_is_chief': True, '_num_ps_replicas': 0, '_num_worker_replicas': 1}\n",
            "INFO:tensorflow:Not using Distribute Coordinator.\n",
            "INFO:tensorflow:Running training and evaluation locally (non-distributed).\n",
            "INFO:tensorflow:Start train and evaluate loop. The evaluate will happen after every checkpoint. Checkpoint frequency is determined based on RunConfig arguments: save_checkpoints_steps None or save_checkpoints_secs 40.\n",
            "INFO:tensorflow:Calling model_fn.\n",
            "INFO:tensorflow:Saver not created because there are no variables in the graph to restore\n",
            "INFO:tensorflow:Saver not created because there are no variables in the graph to restore\n",
            "INFO:tensorflow:Done calling model_fn.\n",
            "INFO:tensorflow:Create CheckpointSaverHook.\n",
            "INFO:tensorflow:Graph was finalized.\n",
            "INFO:tensorflow:Running local_init_op.\n",
            "INFO:tensorflow:Done running local_init_op.\n",
            "INFO:tensorflow:Saving checkpoints for 0 into /tmp/tmp9mzo_fdl/model.ckpt.\n",
            "INFO:tensorflow:loss = 203.70361, step = 0\n",
            "INFO:tensorflow:global_step/sec: 106.477\n",
            "INFO:tensorflow:loss = 3.1768165, step = 100 (0.943 sec)\n",
            "INFO:tensorflow:global_step/sec: 125.402\n",
            "INFO:tensorflow:loss = 1.0925437, step = 200 (0.800 sec)\n",
            "INFO:tensorflow:global_step/sec: 130.493\n",
            "INFO:tensorflow:loss = 2.4487624, step = 300 (0.764 sec)\n",
            "INFO:tensorflow:global_step/sec: 127.795\n",
            "INFO:tensorflow:loss = 1.6769483, step = 400 (0.785 sec)\n",
            "INFO:tensorflow:global_step/sec: 130.756\n",
            "INFO:tensorflow:loss = 4.395006, step = 500 (0.761 sec)\n",
            "INFO:tensorflow:global_step/sec: 129.491\n",
            "INFO:tensorflow:loss = 32.325813, step = 600 (0.775 sec)\n",
            "INFO:tensorflow:global_step/sec: 128.182\n",
            "INFO:tensorflow:loss = 2.7167962, step = 700 (0.778 sec)\n",
            "INFO:tensorflow:global_step/sec: 132.423\n",
            "INFO:tensorflow:loss = 6.7985706, step = 800 (0.758 sec)\n",
            "INFO:tensorflow:global_step/sec: 132.059\n",
            "INFO:tensorflow:loss = 8.958116, step = 900 (0.753 sec)\n",
            "INFO:tensorflow:global_step/sec: 130.686\n",
            "INFO:tensorflow:loss = 0.5189018, step = 1000 (0.767 sec)\n",
            "INFO:tensorflow:global_step/sec: 130.795\n",
            "INFO:tensorflow:loss = 0.07092723, step = 1100 (0.765 sec)\n",
            "INFO:tensorflow:global_step/sec: 131.434\n",
            "INFO:tensorflow:loss = 1.0175716, step = 1200 (0.759 sec)\n",
            "INFO:tensorflow:global_step/sec: 129.613\n",
            "INFO:tensorflow:loss = 0.4298158, step = 1300 (0.774 sec)\n",
            "INFO:tensorflow:global_step/sec: 129.108\n",
            "INFO:tensorflow:loss = 1.9938691, step = 1400 (0.772 sec)\n",
            "INFO:tensorflow:global_step/sec: 126.795\n",
            "INFO:tensorflow:loss = 0.019303849, step = 1500 (0.791 sec)\n",
            "INFO:tensorflow:global_step/sec: 130.53\n",
            "INFO:tensorflow:loss = 3.929469, step = 1600 (0.763 sec)\n",
            "INFO:tensorflow:global_step/sec: 126.076\n",
            "INFO:tensorflow:loss = 6.256454, step = 1700 (0.798 sec)\n",
            "INFO:tensorflow:global_step/sec: 124.98\n",
            "INFO:tensorflow:loss = 5.238001, step = 1800 (0.795 sec)\n",
            "INFO:tensorflow:global_step/sec: 124.106\n",
            "INFO:tensorflow:loss = 0.37576282, step = 1900 (0.808 sec)\n",
            "INFO:tensorflow:global_step/sec: 123.089\n",
            "INFO:tensorflow:loss = 1.3987495, step = 2000 (0.810 sec)\n",
            "INFO:tensorflow:global_step/sec: 120.086\n",
            "INFO:tensorflow:loss = 2.061232, step = 2100 (0.832 sec)\n",
            "INFO:tensorflow:global_step/sec: 121.676\n",
            "INFO:tensorflow:loss = 3.8370848, step = 2200 (0.823 sec)\n",
            "INFO:tensorflow:global_step/sec: 129.644\n",
            "INFO:tensorflow:loss = 1.4661428, step = 2300 (0.772 sec)\n",
            "INFO:tensorflow:global_step/sec: 135.302\n",
            "INFO:tensorflow:loss = 3.0090976, step = 2400 (0.738 sec)\n",
            "INFO:tensorflow:global_step/sec: 133.908\n",
            "INFO:tensorflow:loss = 6.6339035, step = 2500 (0.750 sec)\n",
            "INFO:tensorflow:global_step/sec: 137.171\n",
            "INFO:tensorflow:loss = 1.9773284, step = 2600 (0.729 sec)\n",
            "INFO:tensorflow:global_step/sec: 133.428\n",
            "INFO:tensorflow:loss = 6.2200933, step = 2700 (0.749 sec)\n",
            "INFO:tensorflow:global_step/sec: 126.54\n",
            "INFO:tensorflow:loss = 2.257641, step = 2800 (0.788 sec)\n",
            "INFO:tensorflow:global_step/sec: 127.115\n",
            "INFO:tensorflow:loss = 1.1920928e-07, step = 2900 (0.789 sec)\n",
            "INFO:tensorflow:global_step/sec: 133.444\n",
            "INFO:tensorflow:loss = 1.4134872, step = 3000 (0.749 sec)\n",
            "INFO:tensorflow:global_step/sec: 132.297\n",
            "INFO:tensorflow:loss = 3.6119847e-05, step = 3100 (0.757 sec)\n",
            "INFO:tensorflow:global_step/sec: 132.505\n",
            "INFO:tensorflow:loss = 14.70492, step = 3200 (0.754 sec)\n",
            "INFO:tensorflow:global_step/sec: 133.811\n",
            "INFO:tensorflow:loss = 2.1584017, step = 3300 (0.749 sec)\n",
            "INFO:tensorflow:global_step/sec: 133.371\n",
            "INFO:tensorflow:loss = 1.5723062, step = 3400 (0.749 sec)\n",
            "INFO:tensorflow:global_step/sec: 127.903\n",
            "INFO:tensorflow:loss = 2.7848787, step = 3500 (0.780 sec)\n",
            "INFO:tensorflow:global_step/sec: 126.95\n",
            "INFO:tensorflow:loss = 3.3297234, step = 3600 (0.790 sec)\n",
            "INFO:tensorflow:global_step/sec: 135.32\n",
            "INFO:tensorflow:loss = 1.1680049, step = 3700 (0.736 sec)\n",
            "INFO:tensorflow:global_step/sec: 131.546\n",
            "INFO:tensorflow:loss = 0.7485287, step = 3800 (0.763 sec)\n",
            "INFO:tensorflow:global_step/sec: 130.846\n",
            "INFO:tensorflow:loss = 2.6539927, step = 3900 (0.765 sec)\n",
            "INFO:tensorflow:global_step/sec: 131.165\n",
            "INFO:tensorflow:loss = 1.2495427, step = 4000 (0.760 sec)\n",
            "INFO:tensorflow:global_step/sec: 129.967\n",
            "INFO:tensorflow:loss = 2.7565656, step = 4100 (0.769 sec)\n",
            "INFO:tensorflow:global_step/sec: 128.845\n",
            "INFO:tensorflow:loss = 3.6046143, step = 4200 (0.775 sec)\n",
            "INFO:tensorflow:global_step/sec: 128.967\n",
            "INFO:tensorflow:loss = 0.0013735393, step = 4300 (0.778 sec)\n",
            "INFO:tensorflow:global_step/sec: 127.841\n",
            "INFO:tensorflow:loss = 0.5759015, step = 4400 (0.783 sec)\n",
            "INFO:tensorflow:global_step/sec: 126.529\n",
            "INFO:tensorflow:loss = 0.597962, step = 4500 (0.790 sec)\n",
            "INFO:tensorflow:global_step/sec: 130.636\n",
            "INFO:tensorflow:loss = 18.641367, step = 4600 (0.763 sec)\n",
            "INFO:tensorflow:global_step/sec: 129.996\n",
            "INFO:tensorflow:loss = 9.202174, step = 4700 (0.774 sec)\n",
            "INFO:tensorflow:global_step/sec: 129.248\n",
            "INFO:tensorflow:loss = 2.4196076, step = 4800 (0.772 sec)\n",
            "INFO:tensorflow:global_step/sec: 132.511\n",
            "INFO:tensorflow:loss = 1.7185231, step = 4900 (0.756 sec)\n",
            "INFO:tensorflow:global_step/sec: 131.019\n",
            "INFO:tensorflow:loss = 0.009426608, step = 5000 (0.760 sec)\n",
            "INFO:tensorflow:global_step/sec: 130.868\n",
            "INFO:tensorflow:loss = 1.2326124, step = 5100 (0.767 sec)\n",
            "INFO:tensorflow:Saving checkpoints for 5142 into /tmp/tmp9mzo_fdl/model.ckpt.\n",
            "INFO:tensorflow:Calling model_fn.\n",
            "INFO:tensorflow:Saver not created because there are no variables in the graph to restore\n",
            "INFO:tensorflow:Saver not created because there are no variables in the graph to restore\n",
            "INFO:tensorflow:Done calling model_fn.\n",
            "INFO:tensorflow:Starting evaluation at 2018-12-03-17:27:31\n",
            "INFO:tensorflow:Graph was finalized.\n",
            "INFO:tensorflow:Restoring parameters from /tmp/tmp9mzo_fdl/model.ckpt-5142\n",
            "INFO:tensorflow:Running local_init_op.\n",
            "INFO:tensorflow:Done running local_init_op.\n",
            "INFO:tensorflow:Finished evaluation at 2018-12-03-17:27:33\n",
            "INFO:tensorflow:Saving dict for global step 5142: accuracy = 0.8888889, average_loss = 0.9250057, global_step = 5142, loss = 8.325051\n",
            "INFO:tensorflow:Saving 'checkpoint_path' summary for global step 5142: /tmp/tmp9mzo_fdl/model.ckpt-5142\n",
            "INFO:tensorflow:Calling model_fn.\n",
            "INFO:tensorflow:Saver not created because there are no variables in the graph to restore\n",
            "INFO:tensorflow:Saver not created because there are no variables in the graph to restore\n",
            "INFO:tensorflow:Done calling model_fn.\n",
            "INFO:tensorflow:Signatures INCLUDED in export for Classify: ['serving_default', 'classification']\n",
            "INFO:tensorflow:Signatures INCLUDED in export for Regress: None\n",
            "INFO:tensorflow:Signatures INCLUDED in export for Predict: ['predict']\n",
            "INFO:tensorflow:Signatures INCLUDED in export for Train: None\n",
            "INFO:tensorflow:Signatures INCLUDED in export for Eval: None\n",
            "INFO:tensorflow:Restoring parameters from /tmp/tmp9mzo_fdl/model.ckpt-5142\n",
            "INFO:tensorflow:Assets added to graph.\n",
            "INFO:tensorflow:Assets written to: /tmp/tmp9mzo_fdl/export/decision/temp-b'1543858053'/assets\n",
            "INFO:tensorflow:SavedModel written to: /tmp/tmp9mzo_fdl/export/decision/temp-b'1543858053'/saved_model.pb\n",
            "INFO:tensorflow:global_step/sec: 11.2419\n",
            "INFO:tensorflow:loss = 1.4624074, step = 5200 (8.892 sec)\n",
            "INFO:tensorflow:global_step/sec: 127.885\n",
            "INFO:tensorflow:loss = 0.93234086, step = 5300 (0.785 sec)\n",
            "INFO:tensorflow:global_step/sec: 134.84\n",
            "INFO:tensorflow:loss = 1.9001672, step = 5400 (0.741 sec)\n",
            "INFO:tensorflow:global_step/sec: 134.935\n",
            "INFO:tensorflow:loss = 1.8563938, step = 5500 (0.742 sec)\n",
            "INFO:tensorflow:global_step/sec: 134.261\n",
            "INFO:tensorflow:loss = 4.5232534, step = 5600 (0.748 sec)\n",
            "INFO:tensorflow:global_step/sec: 130.513\n",
            "INFO:tensorflow:loss = 1.1607192, step = 5700 (0.761 sec)\n",
            "INFO:tensorflow:global_step/sec: 138.558\n",
            "INFO:tensorflow:loss = 0.9179897, step = 5800 (0.721 sec)\n",
            "INFO:tensorflow:global_step/sec: 132.886\n",
            "INFO:tensorflow:loss = 1.6648922, step = 5900 (0.752 sec)\n",
            "INFO:tensorflow:global_step/sec: 130.436\n",
            "INFO:tensorflow:loss = 1.7275438, step = 6000 (0.772 sec)\n",
            "INFO:tensorflow:global_step/sec: 128.345\n",
            "INFO:tensorflow:loss = 0.06868842, step = 6100 (0.774 sec)\n",
            "INFO:tensorflow:global_step/sec: 130.109\n",
            "INFO:tensorflow:loss = 0.06885525, step = 6200 (0.772 sec)\n",
            "INFO:tensorflow:global_step/sec: 129.11\n",
            "INFO:tensorflow:loss = 3.3436399, step = 6300 (0.774 sec)\n",
            "INFO:tensorflow:global_step/sec: 124.397\n",
            "INFO:tensorflow:loss = 1.2240255, step = 6400 (0.801 sec)\n",
            "INFO:tensorflow:global_step/sec: 125.652\n",
            "INFO:tensorflow:loss = 0.786999, step = 6500 (0.800 sec)\n",
            "INFO:tensorflow:global_step/sec: 128.866\n",
            "INFO:tensorflow:loss = 33.97712, step = 6600 (0.775 sec)\n",
            "INFO:tensorflow:global_step/sec: 128.64\n",
            "INFO:tensorflow:loss = 1.728523, step = 6700 (0.778 sec)\n",
            "INFO:tensorflow:global_step/sec: 127.712\n",
            "INFO:tensorflow:loss = 1.6519634, step = 6800 (0.783 sec)\n",
            "INFO:tensorflow:global_step/sec: 124.079\n",
            "INFO:tensorflow:loss = 4.8030605, step = 6900 (0.806 sec)\n",
            "INFO:tensorflow:global_step/sec: 132.127\n",
            "INFO:tensorflow:loss = 3.7742898, step = 7000 (0.756 sec)\n",
            "INFO:tensorflow:global_step/sec: 130.21\n",
            "INFO:tensorflow:loss = 0.39108157, step = 7100 (0.767 sec)\n",
            "INFO:tensorflow:global_step/sec: 130.406\n",
            "INFO:tensorflow:loss = 1.8145648, step = 7200 (0.768 sec)\n",
            "INFO:tensorflow:global_step/sec: 127.963\n",
            "INFO:tensorflow:loss = 2.4850497, step = 7300 (0.779 sec)\n",
            "INFO:tensorflow:global_step/sec: 132.86\n",
            "INFO:tensorflow:loss = 0.021798423, step = 7400 (0.751 sec)\n",
            "INFO:tensorflow:global_step/sec: 130.188\n",
            "INFO:tensorflow:loss = 1.1573106, step = 7500 (0.771 sec)\n",
            "INFO:tensorflow:global_step/sec: 130.512\n",
            "INFO:tensorflow:loss = 1.9960277, step = 7600 (0.763 sec)\n",
            "INFO:tensorflow:global_step/sec: 129.439\n",
            "INFO:tensorflow:loss = 4.81637, step = 7700 (0.774 sec)\n",
            "INFO:tensorflow:global_step/sec: 132.669\n",
            "INFO:tensorflow:loss = 2.3392997, step = 7800 (0.754 sec)\n",
            "INFO:tensorflow:global_step/sec: 131.043\n",
            "INFO:tensorflow:loss = 1.8200415, step = 7900 (0.763 sec)\n",
            "INFO:tensorflow:global_step/sec: 131.096\n",
            "INFO:tensorflow:loss = 4.421254, step = 8000 (0.766 sec)\n",
            "INFO:tensorflow:global_step/sec: 130.294\n",
            "INFO:tensorflow:loss = 1.3014112, step = 8100 (0.765 sec)\n",
            "INFO:tensorflow:global_step/sec: 132.91\n",
            "INFO:tensorflow:loss = 0.4475519, step = 8200 (0.754 sec)\n",
            "INFO:tensorflow:global_step/sec: 130.417\n",
            "INFO:tensorflow:loss = 1.133089, step = 8300 (0.766 sec)\n",
            "INFO:tensorflow:global_step/sec: 131.737\n",
            "INFO:tensorflow:loss = 1.5335226, step = 8400 (0.757 sec)\n",
            "INFO:tensorflow:global_step/sec: 131.191\n",
            "INFO:tensorflow:loss = 0.35205486, step = 8500 (0.766 sec)\n",
            "INFO:tensorflow:global_step/sec: 132.732\n",
            "INFO:tensorflow:loss = 0.20234677, step = 8600 (0.752 sec)\n",
            "INFO:tensorflow:global_step/sec: 131.072\n",
            "INFO:tensorflow:loss = 0.9958685, step = 8700 (0.765 sec)\n",
            "INFO:tensorflow:global_step/sec: 130.892\n",
            "INFO:tensorflow:loss = 2.7475326, step = 8800 (0.761 sec)\n",
            "INFO:tensorflow:global_step/sec: 131.505\n",
            "INFO:tensorflow:loss = 0.0021637012, step = 8900 (0.760 sec)\n",
            "INFO:tensorflow:global_step/sec: 129.556\n",
            "INFO:tensorflow:loss = 0.8253218, step = 9000 (0.776 sec)\n",
            "INFO:tensorflow:global_step/sec: 129.782\n",
            "INFO:tensorflow:loss = 26.079037, step = 9100 (0.767 sec)\n",
            "INFO:tensorflow:global_step/sec: 129.746\n",
            "INFO:tensorflow:loss = 0.0, step = 9200 (0.775 sec)\n",
            "INFO:tensorflow:global_step/sec: 132.142\n",
            "INFO:tensorflow:loss = 28.01008, step = 9300 (0.758 sec)\n",
            "INFO:tensorflow:Saving checkpoints for 9302 into /tmp/tmp9mzo_fdl/model.ckpt.\n",
            "INFO:tensorflow:Calling model_fn.\n",
            "INFO:tensorflow:Saver not created because there are no variables in the graph to restore\n",
            "INFO:tensorflow:Saver not created because there are no variables in the graph to restore\n",
            "INFO:tensorflow:Done calling model_fn.\n",
            "INFO:tensorflow:Starting evaluation at 2018-12-03-17:28:11\n",
            "INFO:tensorflow:Graph was finalized.\n",
            "INFO:tensorflow:Restoring parameters from /tmp/tmp9mzo_fdl/model.ckpt-9302\n",
            "INFO:tensorflow:Running local_init_op.\n",
            "INFO:tensorflow:Done running local_init_op.\n",
            "INFO:tensorflow:Finished evaluation at 2018-12-03-17:28:13\n",
            "INFO:tensorflow:Saving dict for global step 9302: accuracy = 0.7777778, average_loss = 3.264139, global_step = 9302, loss = 29.37725\n",
            "INFO:tensorflow:Saving 'checkpoint_path' summary for global step 9302: /tmp/tmp9mzo_fdl/model.ckpt-9302\n",
            "INFO:tensorflow:Calling model_fn.\n",
            "INFO:tensorflow:Saver not created because there are no variables in the graph to restore\n",
            "INFO:tensorflow:Saver not created because there are no variables in the graph to restore\n",
            "INFO:tensorflow:Done calling model_fn.\n",
            "INFO:tensorflow:Signatures INCLUDED in export for Classify: ['serving_default', 'classification']\n",
            "INFO:tensorflow:Signatures INCLUDED in export for Regress: None\n",
            "INFO:tensorflow:Signatures INCLUDED in export for Predict: ['predict']\n",
            "INFO:tensorflow:Signatures INCLUDED in export for Train: None\n",
            "INFO:tensorflow:Signatures INCLUDED in export for Eval: None\n",
            "INFO:tensorflow:Restoring parameters from /tmp/tmp9mzo_fdl/model.ckpt-9302\n",
            "INFO:tensorflow:Assets added to graph.\n",
            "INFO:tensorflow:Assets written to: /tmp/tmp9mzo_fdl/export/decision/temp-b'1543858093'/assets\n",
            "INFO:tensorflow:SavedModel written to: /tmp/tmp9mzo_fdl/export/decision/temp-b'1543858093'/saved_model.pb\n",
            "INFO:tensorflow:global_step/sec: 11.0775\n",
            "INFO:tensorflow:loss = 1.4007659, step = 9400 (9.025 sec)\n",
            "INFO:tensorflow:global_step/sec: 129.922\n",
            "INFO:tensorflow:loss = 1.3173149, step = 9500 (0.772 sec)\n",
            "INFO:tensorflow:global_step/sec: 126\n",
            "INFO:tensorflow:loss = 2.0519714, step = 9600 (0.790 sec)\n",
            "INFO:tensorflow:global_step/sec: 124.336\n",
            "INFO:tensorflow:loss = 31.375366, step = 9700 (0.805 sec)\n",
            "INFO:tensorflow:global_step/sec: 126.62\n",
            "INFO:tensorflow:loss = 6.647518, step = 9800 (0.791 sec)\n",
            "INFO:tensorflow:global_step/sec: 119.767\n",
            "INFO:tensorflow:loss = 0.78968817, step = 9900 (0.835 sec)\n",
            "INFO:tensorflow:Saving checkpoints for 10000 into /tmp/tmp9mzo_fdl/model.ckpt.\n",
            "INFO:tensorflow:Skip the current checkpoint eval due to throttle secs (20 secs).\n",
            "INFO:tensorflow:Calling model_fn.\n",
            "INFO:tensorflow:Saver not created because there are no variables in the graph to restore\n",
            "INFO:tensorflow:Saver not created because there are no variables in the graph to restore\n",
            "INFO:tensorflow:Done calling model_fn.\n",
            "INFO:tensorflow:Starting evaluation at 2018-12-03-17:28:25\n",
            "INFO:tensorflow:Graph was finalized.\n",
            "INFO:tensorflow:Restoring parameters from /tmp/tmp9mzo_fdl/model.ckpt-10000\n",
            "INFO:tensorflow:Running local_init_op.\n",
            "INFO:tensorflow:Done running local_init_op.\n",
            "INFO:tensorflow:Finished evaluation at 2018-12-03-17:28:27\n",
            "INFO:tensorflow:Saving dict for global step 10000: accuracy = 0.8888889, average_loss = 8.47957, global_step = 10000, loss = 76.31613\n",
            "INFO:tensorflow:Saving 'checkpoint_path' summary for global step 10000: /tmp/tmp9mzo_fdl/model.ckpt-10000\n",
            "INFO:tensorflow:Calling model_fn.\n",
            "INFO:tensorflow:Saver not created because there are no variables in the graph to restore\n",
            "INFO:tensorflow:Saver not created because there are no variables in the graph to restore\n",
            "INFO:tensorflow:Done calling model_fn.\n",
            "INFO:tensorflow:Signatures INCLUDED in export for Classify: ['serving_default', 'classification']\n",
            "INFO:tensorflow:Signatures INCLUDED in export for Regress: None\n",
            "INFO:tensorflow:Signatures INCLUDED in export for Predict: ['predict']\n",
            "INFO:tensorflow:Signatures INCLUDED in export for Train: None\n",
            "INFO:tensorflow:Signatures INCLUDED in export for Eval: None\n",
            "INFO:tensorflow:Restoring parameters from /tmp/tmp9mzo_fdl/model.ckpt-10000\n",
            "INFO:tensorflow:Assets added to graph.\n",
            "INFO:tensorflow:Assets written to: /tmp/tmp9mzo_fdl/export/decision/temp-b'1543858107'/assets\n",
            "INFO:tensorflow:SavedModel written to: /tmp/tmp9mzo_fdl/export/decision/temp-b'1543858107'/saved_model.pb\n",
            "INFO:tensorflow:Loss for final step: 1.587849.\n"
          ],
          "name": "stdout"
        }
      ]
    },
    {
      "metadata": {
        "id": "nYTPz8Hdv6OL",
        "colab_type": "code",
        "colab": {}
      },
      "cell_type": "code",
      "source": [
        "from google.datalab.ml import TensorBoard\n",
        "OUTDIR='/tmp/tmp5qwzs4y8'\n",
        "print(OUTDIR)\n",
        "TensorBoard().start(OUTDIR)"
      ],
      "execution_count": 0,
      "outputs": []
    },
    {
      "metadata": {
        "id": "dfZSxLwr2HE3",
        "colab_type": "code",
        "colab": {}
      },
      "cell_type": "code",
      "source": [
        ""
      ],
      "execution_count": 0,
      "outputs": []
    }
  ]
}