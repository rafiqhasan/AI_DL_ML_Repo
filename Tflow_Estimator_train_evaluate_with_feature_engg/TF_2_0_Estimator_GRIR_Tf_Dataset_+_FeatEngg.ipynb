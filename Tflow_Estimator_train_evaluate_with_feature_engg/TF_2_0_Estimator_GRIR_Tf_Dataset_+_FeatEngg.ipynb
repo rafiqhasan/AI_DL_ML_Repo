{
  "nbformat": 4,
  "nbformat_minor": 0,
  "metadata": {
    "kernelspec": {
      "name": "python3",
      "display_name": "Python 3"
    },
    "language_info": {
      "codemirror_mode": {
        "name": "ipython",
        "version": 3
      },
      "file_extension": ".py",
      "mimetype": "text/x-python",
      "name": "python",
      "nbconvert_exporter": "python",
      "pygments_lexer": "ipython3",
      "version": "3.5.4"
    },
    "colab": {
      "name": "TF 2.0 Estimator - GRIR - Tf.Dataset + FeatEngg.ipynb",
      "provenance": [],
      "collapsed_sections": []
    },
    "accelerator": "GPU"
  },
  "cells": [
    {
      "cell_type": "code",
      "metadata": {
        "id": "fbmyXUGrCsDG",
        "colab_type": "code",
        "colab": {
          "base_uri": "https://localhost:8080/",
          "height": 665
        },
        "outputId": "87d57259-4608-4b3f-fd79-f7f1c7d051fb"
      },
      "source": [
        "%%bash\n",
        "pip install --upgrade tensorflow-gpu"
      ],
      "execution_count": 1,
      "outputs": [
        {
          "output_type": "stream",
          "text": [
            "Collecting tensorflow-gpu\n",
            "  Downloading https://files.pythonhosted.org/packages/25/44/47f0722aea081697143fbcf5d2aa60d1aee4aaacb5869aee2b568974777b/tensorflow_gpu-2.0.0-cp36-cp36m-manylinux2010_x86_64.whl (380.8MB)\n",
            "Requirement already satisfied, skipping upgrade: gast==0.2.2 in /usr/local/lib/python3.6/dist-packages (from tensorflow-gpu) (0.2.2)\n",
            "Requirement already satisfied, skipping upgrade: wheel>=0.26 in /usr/local/lib/python3.6/dist-packages (from tensorflow-gpu) (0.33.6)\n",
            "Requirement already satisfied, skipping upgrade: keras-preprocessing>=1.0.5 in /usr/local/lib/python3.6/dist-packages (from tensorflow-gpu) (1.1.0)\n",
            "Requirement already satisfied, skipping upgrade: protobuf>=3.6.1 in /usr/local/lib/python3.6/dist-packages (from tensorflow-gpu) (3.10.0)\n",
            "Requirement already satisfied, skipping upgrade: termcolor>=1.1.0 in /usr/local/lib/python3.6/dist-packages (from tensorflow-gpu) (1.1.0)\n",
            "Requirement already satisfied, skipping upgrade: astor>=0.6.0 in /usr/local/lib/python3.6/dist-packages (from tensorflow-gpu) (0.8.0)\n",
            "Requirement already satisfied, skipping upgrade: absl-py>=0.7.0 in /usr/local/lib/python3.6/dist-packages (from tensorflow-gpu) (0.8.1)\n",
            "Collecting tensorflow-estimator<2.1.0,>=2.0.0\n",
            "  Downloading https://files.pythonhosted.org/packages/fc/08/8b927337b7019c374719145d1dceba21a8bb909b93b1ad6f8fb7d22c1ca1/tensorflow_estimator-2.0.1-py2.py3-none-any.whl (449kB)\n",
            "Requirement already satisfied, skipping upgrade: google-pasta>=0.1.6 in /usr/local/lib/python3.6/dist-packages (from tensorflow-gpu) (0.1.7)\n",
            "Requirement already satisfied, skipping upgrade: six>=1.10.0 in /usr/local/lib/python3.6/dist-packages (from tensorflow-gpu) (1.12.0)\n",
            "Requirement already satisfied, skipping upgrade: wrapt>=1.11.1 in /usr/local/lib/python3.6/dist-packages (from tensorflow-gpu) (1.11.2)\n",
            "Collecting tensorboard<2.1.0,>=2.0.0\n",
            "  Downloading https://files.pythonhosted.org/packages/9b/a6/e8ffa4e2ddb216449d34cfcb825ebb38206bee5c4553d69e7bc8bc2c5d64/tensorboard-2.0.0-py3-none-any.whl (3.8MB)\n",
            "Requirement already satisfied, skipping upgrade: grpcio>=1.8.6 in /usr/local/lib/python3.6/dist-packages (from tensorflow-gpu) (1.15.0)\n",
            "Requirement already satisfied, skipping upgrade: keras-applications>=1.0.8 in /usr/local/lib/python3.6/dist-packages (from tensorflow-gpu) (1.0.8)\n",
            "Requirement already satisfied, skipping upgrade: opt-einsum>=2.3.2 in /usr/local/lib/python3.6/dist-packages (from tensorflow-gpu) (3.1.0)\n",
            "Requirement already satisfied, skipping upgrade: numpy<2.0,>=1.16.0 in /usr/local/lib/python3.6/dist-packages (from tensorflow-gpu) (1.17.3)\n",
            "Requirement already satisfied, skipping upgrade: setuptools in /usr/local/lib/python3.6/dist-packages (from protobuf>=3.6.1->tensorflow-gpu) (41.4.0)\n",
            "Requirement already satisfied, skipping upgrade: werkzeug>=0.11.15 in /usr/local/lib/python3.6/dist-packages (from tensorboard<2.1.0,>=2.0.0->tensorflow-gpu) (0.16.0)\n",
            "Requirement already satisfied, skipping upgrade: markdown>=2.6.8 in /usr/local/lib/python3.6/dist-packages (from tensorboard<2.1.0,>=2.0.0->tensorflow-gpu) (3.1.1)\n",
            "Requirement already satisfied, skipping upgrade: h5py in /usr/local/lib/python3.6/dist-packages (from keras-applications>=1.0.8->tensorflow-gpu) (2.8.0)\n",
            "Installing collected packages: tensorflow-estimator, tensorboard, tensorflow-gpu\n",
            "  Found existing installation: tensorflow-estimator 1.15.1\n",
            "    Uninstalling tensorflow-estimator-1.15.1:\n",
            "      Successfully uninstalled tensorflow-estimator-1.15.1\n",
            "  Found existing installation: tensorboard 1.15.0\n",
            "    Uninstalling tensorboard-1.15.0:\n",
            "      Successfully uninstalled tensorboard-1.15.0\n",
            "Successfully installed tensorboard-2.0.0 tensorflow-estimator-2.0.1 tensorflow-gpu-2.0.0\n"
          ],
          "name": "stdout"
        },
        {
          "output_type": "stream",
          "text": [
            "ERROR: tensorflow 1.15.0 has requirement tensorboard<1.16.0,>=1.15.0, but you'll have tensorboard 2.0.0 which is incompatible.\n",
            "ERROR: tensorflow 1.15.0 has requirement tensorflow-estimator==1.15.1, but you'll have tensorflow-estimator 2.0.1 which is incompatible.\n"
          ],
          "name": "stderr"
        }
      ]
    },
    {
      "cell_type": "code",
      "metadata": {
        "id": "aw_k7nsP_Jd5",
        "colab_type": "code",
        "outputId": "103b98b7-30f2-4e7a-eaa7-fdf16923f40d",
        "colab": {
          "base_uri": "https://localhost:8080/",
          "height": 35
        }
      },
      "source": [
        "import pandas as pd\n",
        "import matplotlib.pyplot as plt\n",
        "import tensorflow as tf\n",
        "import numpy as np\n",
        "import seaborn as sns\n",
        "import scipy\n",
        "import os\n",
        "from sklearn.model_selection import train_test_split\n",
        "from sklearn import preprocessing\n",
        "from tensorflow.python.training import training_util\n",
        "\n",
        "print(tf.__version__)"
      ],
      "execution_count": 3,
      "outputs": [
        {
          "output_type": "stream",
          "text": [
            "2.0.0\n"
          ],
          "name": "stdout"
        }
      ]
    },
    {
      "cell_type": "code",
      "metadata": {
        "id": "44nC_gVrCl7A",
        "colab_type": "code",
        "colab": {
          "base_uri": "https://localhost:8080/",
          "height": 129
        },
        "outputId": "f5787a60-9dd5-46c1-b599-8190d65823e8"
      },
      "source": [
        "#Mount GDrive\n",
        "from google.colab import drive\n",
        "drive.mount('/content/drive')"
      ],
      "execution_count": 4,
      "outputs": [
        {
          "output_type": "stream",
          "text": [
            "Go to this URL in a browser: https://accounts.google.com/o/oauth2/auth?client_id=947318989803-6bn6qk8qdgf4n4g3pfee6491hc0brc4i.apps.googleusercontent.com&redirect_uri=urn%3Aietf%3Awg%3Aoauth%3A2.0%3Aoob&scope=email%20https%3A%2F%2Fwww.googleapis.com%2Fauth%2Fdocs.test%20https%3A%2F%2Fwww.googleapis.com%2Fauth%2Fdrive%20https%3A%2F%2Fwww.googleapis.com%2Fauth%2Fdrive.photos.readonly%20https%3A%2F%2Fwww.googleapis.com%2Fauth%2Fpeopleapi.readonly&response_type=code\n",
            "\n",
            "Enter your authorization code:\n",
            "··········\n",
            "Mounted at /content/drive\n"
          ],
          "name": "stdout"
        }
      ]
    },
    {
      "cell_type": "code",
      "metadata": {
        "id": "prZMoUGODQyQ",
        "colab_type": "code",
        "colab": {}
      },
      "source": [
        "##Copy data to local\n",
        "%%bash\n",
        "cp '/content/drive/My Drive/Colab Notebooks/TF Keras 2.0 GRIR - CMLE + FeatEngg/GRIR_GCP_Data.csv' 'GRIR_GCP_Data.csv'"
      ],
      "execution_count": 0,
      "outputs": []
    },
    {
      "cell_type": "code",
      "metadata": {
        "id": "IVeqN-Fl_JeD",
        "colab_type": "code",
        "colab": {}
      },
      "source": [
        "df = pd.read_csv(\"GRIR_GCP_Data.csv\", sep=\",\")"
      ],
      "execution_count": 0,
      "outputs": []
    },
    {
      "cell_type": "code",
      "metadata": {
        "id": "lIaVWu6d_JeM",
        "colab_type": "code",
        "outputId": "9cfd62a2-1b6a-4df6-db6a-cd9e3b92958a",
        "colab": {
          "base_uri": "https://localhost:8080/",
          "height": 363
        }
      },
      "source": [
        "df.head(10)"
      ],
      "execution_count": 7,
      "outputs": [
        {
          "output_type": "execute_result",
          "data": {
            "text/html": [
              "<div>\n",
              "<style scoped>\n",
              "    .dataframe tbody tr th:only-of-type {\n",
              "        vertical-align: middle;\n",
              "    }\n",
              "\n",
              "    .dataframe tbody tr th {\n",
              "        vertical-align: top;\n",
              "    }\n",
              "\n",
              "    .dataframe thead th {\n",
              "        text-align: right;\n",
              "    }\n",
              "</style>\n",
              "<table border=\"1\" class=\"dataframe\">\n",
              "  <thead>\n",
              "    <tr style=\"text-align: right;\">\n",
              "      <th></th>\n",
              "      <th>WERKS</th>\n",
              "      <th>SCENARIO</th>\n",
              "      <th>KTOKK</th>\n",
              "      <th>VSTATU</th>\n",
              "      <th>VPATD</th>\n",
              "      <th>EKORG</th>\n",
              "      <th>EKGRP</th>\n",
              "      <th>TOTGRQTY</th>\n",
              "      <th>TOTIRQTY</th>\n",
              "      <th>NODLGR</th>\n",
              "      <th>NODLIR</th>\n",
              "      <th>DIFGRIRD</th>\n",
              "      <th>DIFGRIRV</th>\n",
              "      <th>STATUS</th>\n",
              "    </tr>\n",
              "  </thead>\n",
              "  <tbody>\n",
              "    <tr>\n",
              "      <th>0</th>\n",
              "      <td>ML01</td>\n",
              "      <td>3</td>\n",
              "      <td>1</td>\n",
              "      <td>1</td>\n",
              "      <td>30</td>\n",
              "      <td>1</td>\n",
              "      <td>A</td>\n",
              "      <td>0</td>\n",
              "      <td>80</td>\n",
              "      <td>0</td>\n",
              "      <td>90</td>\n",
              "      <td>-80</td>\n",
              "      <td>-38100</td>\n",
              "      <td>1</td>\n",
              "    </tr>\n",
              "    <tr>\n",
              "      <th>1</th>\n",
              "      <td>ML01</td>\n",
              "      <td>3</td>\n",
              "      <td>1</td>\n",
              "      <td>1</td>\n",
              "      <td>30</td>\n",
              "      <td>1</td>\n",
              "      <td>A</td>\n",
              "      <td>0</td>\n",
              "      <td>107</td>\n",
              "      <td>0</td>\n",
              "      <td>177</td>\n",
              "      <td>-107</td>\n",
              "      <td>-41600</td>\n",
              "      <td>0</td>\n",
              "    </tr>\n",
              "    <tr>\n",
              "      <th>2</th>\n",
              "      <td>ML01</td>\n",
              "      <td>3</td>\n",
              "      <td>1</td>\n",
              "      <td>1</td>\n",
              "      <td>30</td>\n",
              "      <td>1</td>\n",
              "      <td>A</td>\n",
              "      <td>0</td>\n",
              "      <td>107</td>\n",
              "      <td>0</td>\n",
              "      <td>152</td>\n",
              "      <td>-107</td>\n",
              "      <td>-27600</td>\n",
              "      <td>1</td>\n",
              "    </tr>\n",
              "    <tr>\n",
              "      <th>3</th>\n",
              "      <td>ML01</td>\n",
              "      <td>3</td>\n",
              "      <td>1</td>\n",
              "      <td>1</td>\n",
              "      <td>30</td>\n",
              "      <td>1</td>\n",
              "      <td>A</td>\n",
              "      <td>0</td>\n",
              "      <td>96</td>\n",
              "      <td>0</td>\n",
              "      <td>79</td>\n",
              "      <td>-96</td>\n",
              "      <td>-13800</td>\n",
              "      <td>1</td>\n",
              "    </tr>\n",
              "    <tr>\n",
              "      <th>4</th>\n",
              "      <td>ML01</td>\n",
              "      <td>3</td>\n",
              "      <td>1</td>\n",
              "      <td>1</td>\n",
              "      <td>30</td>\n",
              "      <td>1</td>\n",
              "      <td>A</td>\n",
              "      <td>0</td>\n",
              "      <td>146</td>\n",
              "      <td>0</td>\n",
              "      <td>192</td>\n",
              "      <td>-146</td>\n",
              "      <td>-73500</td>\n",
              "      <td>0</td>\n",
              "    </tr>\n",
              "    <tr>\n",
              "      <th>5</th>\n",
              "      <td>ML01</td>\n",
              "      <td>3</td>\n",
              "      <td>1</td>\n",
              "      <td>1</td>\n",
              "      <td>60</td>\n",
              "      <td>1</td>\n",
              "      <td>A</td>\n",
              "      <td>0</td>\n",
              "      <td>189</td>\n",
              "      <td>0</td>\n",
              "      <td>139</td>\n",
              "      <td>-189</td>\n",
              "      <td>-26600</td>\n",
              "      <td>1</td>\n",
              "    </tr>\n",
              "    <tr>\n",
              "      <th>6</th>\n",
              "      <td>ML01</td>\n",
              "      <td>3</td>\n",
              "      <td>1</td>\n",
              "      <td>1</td>\n",
              "      <td>60</td>\n",
              "      <td>1</td>\n",
              "      <td>A</td>\n",
              "      <td>0</td>\n",
              "      <td>183</td>\n",
              "      <td>0</td>\n",
              "      <td>48</td>\n",
              "      <td>-183</td>\n",
              "      <td>-69200</td>\n",
              "      <td>0</td>\n",
              "    </tr>\n",
              "    <tr>\n",
              "      <th>7</th>\n",
              "      <td>ML01</td>\n",
              "      <td>3</td>\n",
              "      <td>1</td>\n",
              "      <td>1</td>\n",
              "      <td>60</td>\n",
              "      <td>1</td>\n",
              "      <td>A</td>\n",
              "      <td>0</td>\n",
              "      <td>159</td>\n",
              "      <td>0</td>\n",
              "      <td>195</td>\n",
              "      <td>-159</td>\n",
              "      <td>-73600</td>\n",
              "      <td>0</td>\n",
              "    </tr>\n",
              "    <tr>\n",
              "      <th>8</th>\n",
              "      <td>ML01</td>\n",
              "      <td>3</td>\n",
              "      <td>1</td>\n",
              "      <td>1</td>\n",
              "      <td>60</td>\n",
              "      <td>1</td>\n",
              "      <td>A</td>\n",
              "      <td>0</td>\n",
              "      <td>185</td>\n",
              "      <td>0</td>\n",
              "      <td>79</td>\n",
              "      <td>-185</td>\n",
              "      <td>-59500</td>\n",
              "      <td>0</td>\n",
              "    </tr>\n",
              "    <tr>\n",
              "      <th>9</th>\n",
              "      <td>ML01</td>\n",
              "      <td>3</td>\n",
              "      <td>1</td>\n",
              "      <td>1</td>\n",
              "      <td>60</td>\n",
              "      <td>1</td>\n",
              "      <td>A</td>\n",
              "      <td>0</td>\n",
              "      <td>91</td>\n",
              "      <td>0</td>\n",
              "      <td>168</td>\n",
              "      <td>-91</td>\n",
              "      <td>-4700</td>\n",
              "      <td>1</td>\n",
              "    </tr>\n",
              "  </tbody>\n",
              "</table>\n",
              "</div>"
            ],
            "text/plain": [
              "  WERKS  SCENARIO  KTOKK  VSTATU  ...  NODLIR  DIFGRIRD DIFGRIRV  STATUS\n",
              "0  ML01         3      1       1  ...      90       -80   -38100       1\n",
              "1  ML01         3      1       1  ...     177      -107   -41600       0\n",
              "2  ML01         3      1       1  ...     152      -107   -27600       1\n",
              "3  ML01         3      1       1  ...      79       -96   -13800       1\n",
              "4  ML01         3      1       1  ...     192      -146   -73500       0\n",
              "5  ML01         3      1       1  ...     139      -189   -26600       1\n",
              "6  ML01         3      1       1  ...      48      -183   -69200       0\n",
              "7  ML01         3      1       1  ...     195      -159   -73600       0\n",
              "8  ML01         3      1       1  ...      79      -185   -59500       0\n",
              "9  ML01         3      1       1  ...     168       -91    -4700       1\n",
              "\n",
              "[10 rows x 14 columns]"
            ]
          },
          "metadata": {
            "tags": []
          },
          "execution_count": 7
        }
      ]
    },
    {
      "cell_type": "code",
      "metadata": {
        "id": "zv0m6eiT_JeU",
        "colab_type": "code",
        "outputId": "8a7eba90-fa9a-4813-a8bd-c52d8faafd0e",
        "colab": {
          "base_uri": "https://localhost:8080/",
          "height": 300
        }
      },
      "source": [
        "df.describe()"
      ],
      "execution_count": 8,
      "outputs": [
        {
          "output_type": "execute_result",
          "data": {
            "text/html": [
              "<div>\n",
              "<style scoped>\n",
              "    .dataframe tbody tr th:only-of-type {\n",
              "        vertical-align: middle;\n",
              "    }\n",
              "\n",
              "    .dataframe tbody tr th {\n",
              "        vertical-align: top;\n",
              "    }\n",
              "\n",
              "    .dataframe thead th {\n",
              "        text-align: right;\n",
              "    }\n",
              "</style>\n",
              "<table border=\"1\" class=\"dataframe\">\n",
              "  <thead>\n",
              "    <tr style=\"text-align: right;\">\n",
              "      <th></th>\n",
              "      <th>SCENARIO</th>\n",
              "      <th>KTOKK</th>\n",
              "      <th>VSTATU</th>\n",
              "      <th>VPATD</th>\n",
              "      <th>EKORG</th>\n",
              "      <th>TOTGRQTY</th>\n",
              "      <th>TOTIRQTY</th>\n",
              "      <th>NODLGR</th>\n",
              "      <th>NODLIR</th>\n",
              "      <th>DIFGRIRD</th>\n",
              "      <th>DIFGRIRV</th>\n",
              "      <th>STATUS</th>\n",
              "    </tr>\n",
              "  </thead>\n",
              "  <tbody>\n",
              "    <tr>\n",
              "      <th>count</th>\n",
              "      <td>8279.000000</td>\n",
              "      <td>8279.000000</td>\n",
              "      <td>8279.000000</td>\n",
              "      <td>8279.000000</td>\n",
              "      <td>8279.000000</td>\n",
              "      <td>8279.000000</td>\n",
              "      <td>8279.000000</td>\n",
              "      <td>8279.000000</td>\n",
              "      <td>8279.000000</td>\n",
              "      <td>8279.000000</td>\n",
              "      <td>8279.000000</td>\n",
              "      <td>8279.000000</td>\n",
              "    </tr>\n",
              "    <tr>\n",
              "      <th>mean</th>\n",
              "      <td>2.565286</td>\n",
              "      <td>1.497886</td>\n",
              "      <td>1.119097</td>\n",
              "      <td>60.264525</td>\n",
              "      <td>1.333374</td>\n",
              "      <td>65.938398</td>\n",
              "      <td>94.098563</td>\n",
              "      <td>103.070419</td>\n",
              "      <td>89.499819</td>\n",
              "      <td>-28.160164</td>\n",
              "      <td>-6716.334461</td>\n",
              "      <td>0.391835</td>\n",
              "    </tr>\n",
              "    <tr>\n",
              "      <th>std</th>\n",
              "      <td>1.096595</td>\n",
              "      <td>0.500026</td>\n",
              "      <td>0.323922</td>\n",
              "      <td>24.387448</td>\n",
              "      <td>0.471447</td>\n",
              "      <td>62.960829</td>\n",
              "      <td>62.449709</td>\n",
              "      <td>81.968329</td>\n",
              "      <td>75.005213</td>\n",
              "      <td>63.224655</td>\n",
              "      <td>22797.380084</td>\n",
              "      <td>0.488190</td>\n",
              "    </tr>\n",
              "    <tr>\n",
              "      <th>min</th>\n",
              "      <td>1.000000</td>\n",
              "      <td>1.000000</td>\n",
              "      <td>1.000000</td>\n",
              "      <td>30.000000</td>\n",
              "      <td>1.000000</td>\n",
              "      <td>0.000000</td>\n",
              "      <td>0.000000</td>\n",
              "      <td>0.000000</td>\n",
              "      <td>0.000000</td>\n",
              "      <td>-200.000000</td>\n",
              "      <td>-75000.000000</td>\n",
              "      <td>0.000000</td>\n",
              "    </tr>\n",
              "    <tr>\n",
              "      <th>25%</th>\n",
              "      <td>2.000000</td>\n",
              "      <td>1.000000</td>\n",
              "      <td>1.000000</td>\n",
              "      <td>30.000000</td>\n",
              "      <td>1.000000</td>\n",
              "      <td>0.000000</td>\n",
              "      <td>54.000000</td>\n",
              "      <td>0.000000</td>\n",
              "      <td>10.000000</td>\n",
              "      <td>-56.000000</td>\n",
              "      <td>-9600.000000</td>\n",
              "      <td>0.000000</td>\n",
              "    </tr>\n",
              "    <tr>\n",
              "      <th>50%</th>\n",
              "      <td>3.000000</td>\n",
              "      <td>1.000000</td>\n",
              "      <td>1.000000</td>\n",
              "      <td>60.000000</td>\n",
              "      <td>1.000000</td>\n",
              "      <td>55.000000</td>\n",
              "      <td>99.000000</td>\n",
              "      <td>112.000000</td>\n",
              "      <td>82.000000</td>\n",
              "      <td>-2.000000</td>\n",
              "      <td>-546.000000</td>\n",
              "      <td>0.000000</td>\n",
              "    </tr>\n",
              "    <tr>\n",
              "      <th>75%</th>\n",
              "      <td>4.000000</td>\n",
              "      <td>2.000000</td>\n",
              "      <td>1.000000</td>\n",
              "      <td>90.000000</td>\n",
              "      <td>2.000000</td>\n",
              "      <td>121.000000</td>\n",
              "      <td>146.000000</td>\n",
              "      <td>172.000000</td>\n",
              "      <td>154.000000</td>\n",
              "      <td>11.000000</td>\n",
              "      <td>5482.000000</td>\n",
              "      <td>1.000000</td>\n",
              "    </tr>\n",
              "    <tr>\n",
              "      <th>max</th>\n",
              "      <td>4.000000</td>\n",
              "      <td>2.000000</td>\n",
              "      <td>2.000000</td>\n",
              "      <td>90.000000</td>\n",
              "      <td>2.000000</td>\n",
              "      <td>200.000000</td>\n",
              "      <td>200.000000</td>\n",
              "      <td>268.000000</td>\n",
              "      <td>242.000000</td>\n",
              "      <td>74.000000</td>\n",
              "      <td>59200.000000</td>\n",
              "      <td>1.000000</td>\n",
              "    </tr>\n",
              "  </tbody>\n",
              "</table>\n",
              "</div>"
            ],
            "text/plain": [
              "          SCENARIO        KTOKK  ...      DIFGRIRV       STATUS\n",
              "count  8279.000000  8279.000000  ...   8279.000000  8279.000000\n",
              "mean      2.565286     1.497886  ...  -6716.334461     0.391835\n",
              "std       1.096595     0.500026  ...  22797.380084     0.488190\n",
              "min       1.000000     1.000000  ... -75000.000000     0.000000\n",
              "25%       2.000000     1.000000  ...  -9600.000000     0.000000\n",
              "50%       3.000000     1.000000  ...   -546.000000     0.000000\n",
              "75%       4.000000     2.000000  ...   5482.000000     1.000000\n",
              "max       4.000000     2.000000  ...  59200.000000     1.000000\n",
              "\n",
              "[8 rows x 12 columns]"
            ]
          },
          "metadata": {
            "tags": []
          },
          "execution_count": 8
        }
      ]
    },
    {
      "cell_type": "code",
      "metadata": {
        "id": "WKox01CN_JeZ",
        "colab_type": "code",
        "outputId": "464c617d-8353-4bf5-8822-952708387f67",
        "colab": {
          "base_uri": "https://localhost:8080/",
          "height": 91
        }
      },
      "source": [
        "df.columns"
      ],
      "execution_count": 9,
      "outputs": [
        {
          "output_type": "execute_result",
          "data": {
            "text/plain": [
              "Index(['WERKS', 'SCENARIO', 'KTOKK', 'VSTATU', 'VPATD', 'EKORG', 'EKGRP',\n",
              "       'TOTGRQTY', 'TOTIRQTY', 'NODLGR', 'NODLIR', 'DIFGRIRD', 'DIFGRIRV',\n",
              "       'STATUS'],\n",
              "      dtype='object')"
            ]
          },
          "metadata": {
            "tags": []
          },
          "execution_count": 9
        }
      ]
    },
    {
      "cell_type": "code",
      "metadata": {
        "id": "HodTmX7J_Jef",
        "colab_type": "code",
        "outputId": "a3f19e0e-7944-4143-bff4-b9269ca71271",
        "colab": {
          "base_uri": "https://localhost:8080/",
          "height": 225
        }
      },
      "source": [
        "#Facet1\n",
        "g = sns.FacetGrid(df, col=\"SCENARIO\")\n",
        "g = g.map(plt.hist, \"TOTGRQTY\")\n",
        "plt.show()"
      ],
      "execution_count": 10,
      "outputs": [
        {
          "output_type": "display_data",
          "data": {
            "image/png": "[encoded data removed]",
            "text/plain": [
              "<Figure size 864x216 with 4 Axes>"
            ]
          },
          "metadata": {
            "tags": []
          }
        }
      ]
    },
    {
      "cell_type": "code",
      "metadata": {
        "id": "HElyPLN1_Jej",
        "colab_type": "code",
        "outputId": "966a5d55-043b-4250-9a73-a5525f31fead",
        "colab": {
          "base_uri": "https://localhost:8080/",
          "height": 225
        }
      },
      "source": [
        "#Facet1\n",
        "g = sns.FacetGrid(df, col=\"SCENARIO\")\n",
        "g = g.map(plt.hist, \"TOTIRQTY\")\n",
        "plt.show()"
      ],
      "execution_count": 11,
      "outputs": [
        {
          "output_type": "display_data",
          "data": {
            "image/png": "[encoded data removed]",
            "text/plain": [
              "<Figure size 864x216 with 4 Axes>"
            ]
          },
          "metadata": {
            "tags": []
          }
        }
      ]
    },
    {
      "cell_type": "code",
      "metadata": {
        "id": "E26qooOX_Jen",
        "colab_type": "code",
        "outputId": "41b47f02-f1e6-4945-e375-f5b5aaa78b97",
        "colab": {
          "base_uri": "https://localhost:8080/",
          "height": 206
        }
      },
      "source": [
        "#Filter out scenario = 3 ( It has TOTGRQTY == 0 )\n",
        "df_s1 = df[df['SCENARIO'].eq(3) & df['TOTGRQTY'].eq(0)]\n",
        "df_s1.head()"
      ],
      "execution_count": 12,
      "outputs": [
        {
          "output_type": "execute_result",
          "data": {
            "text/html": [
              "<div>\n",
              "<style scoped>\n",
              "    .dataframe tbody tr th:only-of-type {\n",
              "        vertical-align: middle;\n",
              "    }\n",
              "\n",
              "    .dataframe tbody tr th {\n",
              "        vertical-align: top;\n",
              "    }\n",
              "\n",
              "    .dataframe thead th {\n",
              "        text-align: right;\n",
              "    }\n",
              "</style>\n",
              "<table border=\"1\" class=\"dataframe\">\n",
              "  <thead>\n",
              "    <tr style=\"text-align: right;\">\n",
              "      <th></th>\n",
              "      <th>WERKS</th>\n",
              "      <th>SCENARIO</th>\n",
              "      <th>KTOKK</th>\n",
              "      <th>VSTATU</th>\n",
              "      <th>VPATD</th>\n",
              "      <th>EKORG</th>\n",
              "      <th>EKGRP</th>\n",
              "      <th>TOTGRQTY</th>\n",
              "      <th>TOTIRQTY</th>\n",
              "      <th>NODLGR</th>\n",
              "      <th>NODLIR</th>\n",
              "      <th>DIFGRIRD</th>\n",
              "      <th>DIFGRIRV</th>\n",
              "      <th>STATUS</th>\n",
              "    </tr>\n",
              "  </thead>\n",
              "  <tbody>\n",
              "    <tr>\n",
              "      <th>0</th>\n",
              "      <td>ML01</td>\n",
              "      <td>3</td>\n",
              "      <td>1</td>\n",
              "      <td>1</td>\n",
              "      <td>30</td>\n",
              "      <td>1</td>\n",
              "      <td>A</td>\n",
              "      <td>0</td>\n",
              "      <td>80</td>\n",
              "      <td>0</td>\n",
              "      <td>90</td>\n",
              "      <td>-80</td>\n",
              "      <td>-38100</td>\n",
              "      <td>1</td>\n",
              "    </tr>\n",
              "    <tr>\n",
              "      <th>1</th>\n",
              "      <td>ML01</td>\n",
              "      <td>3</td>\n",
              "      <td>1</td>\n",
              "      <td>1</td>\n",
              "      <td>30</td>\n",
              "      <td>1</td>\n",
              "      <td>A</td>\n",
              "      <td>0</td>\n",
              "      <td>107</td>\n",
              "      <td>0</td>\n",
              "      <td>177</td>\n",
              "      <td>-107</td>\n",
              "      <td>-41600</td>\n",
              "      <td>0</td>\n",
              "    </tr>\n",
              "    <tr>\n",
              "      <th>2</th>\n",
              "      <td>ML01</td>\n",
              "      <td>3</td>\n",
              "      <td>1</td>\n",
              "      <td>1</td>\n",
              "      <td>30</td>\n",
              "      <td>1</td>\n",
              "      <td>A</td>\n",
              "      <td>0</td>\n",
              "      <td>107</td>\n",
              "      <td>0</td>\n",
              "      <td>152</td>\n",
              "      <td>-107</td>\n",
              "      <td>-27600</td>\n",
              "      <td>1</td>\n",
              "    </tr>\n",
              "    <tr>\n",
              "      <th>3</th>\n",
              "      <td>ML01</td>\n",
              "      <td>3</td>\n",
              "      <td>1</td>\n",
              "      <td>1</td>\n",
              "      <td>30</td>\n",
              "      <td>1</td>\n",
              "      <td>A</td>\n",
              "      <td>0</td>\n",
              "      <td>96</td>\n",
              "      <td>0</td>\n",
              "      <td>79</td>\n",
              "      <td>-96</td>\n",
              "      <td>-13800</td>\n",
              "      <td>1</td>\n",
              "    </tr>\n",
              "    <tr>\n",
              "      <th>4</th>\n",
              "      <td>ML01</td>\n",
              "      <td>3</td>\n",
              "      <td>1</td>\n",
              "      <td>1</td>\n",
              "      <td>30</td>\n",
              "      <td>1</td>\n",
              "      <td>A</td>\n",
              "      <td>0</td>\n",
              "      <td>146</td>\n",
              "      <td>0</td>\n",
              "      <td>192</td>\n",
              "      <td>-146</td>\n",
              "      <td>-73500</td>\n",
              "      <td>0</td>\n",
              "    </tr>\n",
              "  </tbody>\n",
              "</table>\n",
              "</div>"
            ],
            "text/plain": [
              "  WERKS  SCENARIO  KTOKK  VSTATU  ...  NODLIR  DIFGRIRD DIFGRIRV  STATUS\n",
              "0  ML01         3      1       1  ...      90       -80   -38100       1\n",
              "1  ML01         3      1       1  ...     177      -107   -41600       0\n",
              "2  ML01         3      1       1  ...     152      -107   -27600       1\n",
              "3  ML01         3      1       1  ...      79       -96   -13800       1\n",
              "4  ML01         3      1       1  ...     192      -146   -73500       0\n",
              "\n",
              "[5 rows x 14 columns]"
            ]
          },
          "metadata": {
            "tags": []
          },
          "execution_count": 12
        }
      ]
    },
    {
      "cell_type": "code",
      "metadata": {
        "id": "Z55eZEyw_Jet",
        "colab_type": "code",
        "outputId": "959bc5f6-960f-4e2b-ab86-a45fdff9d208",
        "colab": {
          "base_uri": "https://localhost:8080/",
          "height": 368
        }
      },
      "source": [
        "#Mark some columns as categorical so that TF treats them as categorical\n",
        "for col_cat in ['SCENARIO','KTOKK','VSTATU','EKORG']:\n",
        "    df[col_cat] = df[col_cat].astype('str') #Very important to keep this as STR -> Tensorflow treats only STR as categorical\n",
        "    \n",
        "df.info()"
      ],
      "execution_count": 13,
      "outputs": [
        {
          "output_type": "stream",
          "text": [
            "<class 'pandas.core.frame.DataFrame'>\n",
            "RangeIndex: 8279 entries, 0 to 8278\n",
            "Data columns (total 14 columns):\n",
            "WERKS       8279 non-null object\n",
            "SCENARIO    8279 non-null object\n",
            "KTOKK       8279 non-null object\n",
            "VSTATU      8279 non-null object\n",
            "VPATD       8279 non-null int64\n",
            "EKORG       8279 non-null object\n",
            "EKGRP       8279 non-null object\n",
            "TOTGRQTY    8279 non-null int64\n",
            "TOTIRQTY    8279 non-null int64\n",
            "NODLGR      8279 non-null int64\n",
            "NODLIR      8279 non-null int64\n",
            "DIFGRIRD    8279 non-null int64\n",
            "DIFGRIRV    8279 non-null int64\n",
            "STATUS      8279 non-null int64\n",
            "dtypes: int64(8), object(6)\n",
            "memory usage: 905.6+ KB\n"
          ],
          "name": "stdout"
        }
      ]
    },
    {
      "cell_type": "code",
      "metadata": {
        "id": "5etI4hqJ_Jez",
        "colab_type": "code",
        "outputId": "a61100a6-8639-4373-c7d5-965bcc2336c0",
        "colab": {
          "base_uri": "https://localhost:8080/",
          "height": 363
        }
      },
      "source": [
        "#Split dataset -> Split 10 times and choose the one with best P values( Significance test )\n",
        "p_res = {}\n",
        "t_res = []\n",
        "for i in range(10):\n",
        "    np.random.seed(seed=i) #makes result reproducible\n",
        "    msk = np.random.rand(len(df)) < 0.8\n",
        "    X_train = df[msk]\n",
        "    X_test = df[~msk]\n",
        "\n",
        "    #Run Significance Tests on both the distributions( Train and Test ) for all numerical attributes\n",
        "    p_res = {}\n",
        "    for c_ in X_train.columns:\n",
        "        if not X_train[c_].dtype == 'object':\n",
        "            try:\n",
        "                _, a = scipy.stats.ks_2samp(X_train[c_].values,X_test[c_].values)\n",
        "                #print('P-value for column {} is {}'.format(c_.upper(), a))\n",
        "                p_res['Random'] = i\n",
        "                p_res[c_] = a\n",
        "            except:\n",
        "                p_res['Random'] = i\n",
        "                p_res[c_] = 'Error'\n",
        "    t_res.append(p_res)\n",
        "\n",
        "p_df = pd.DataFrame(t_res)\n",
        "p_df"
      ],
      "execution_count": 14,
      "outputs": [
        {
          "output_type": "execute_result",
          "data": {
            "text/html": [
              "<div>\n",
              "<style scoped>\n",
              "    .dataframe tbody tr th:only-of-type {\n",
              "        vertical-align: middle;\n",
              "    }\n",
              "\n",
              "    .dataframe tbody tr th {\n",
              "        vertical-align: top;\n",
              "    }\n",
              "\n",
              "    .dataframe thead th {\n",
              "        text-align: right;\n",
              "    }\n",
              "</style>\n",
              "<table border=\"1\" class=\"dataframe\">\n",
              "  <thead>\n",
              "    <tr style=\"text-align: right;\">\n",
              "      <th></th>\n",
              "      <th>Random</th>\n",
              "      <th>VPATD</th>\n",
              "      <th>TOTGRQTY</th>\n",
              "      <th>TOTIRQTY</th>\n",
              "      <th>NODLGR</th>\n",
              "      <th>NODLIR</th>\n",
              "      <th>DIFGRIRD</th>\n",
              "      <th>DIFGRIRV</th>\n",
              "      <th>STATUS</th>\n",
              "    </tr>\n",
              "  </thead>\n",
              "  <tbody>\n",
              "    <tr>\n",
              "      <th>0</th>\n",
              "      <td>0</td>\n",
              "      <td>1.0</td>\n",
              "      <td>1.0</td>\n",
              "      <td>1.0</td>\n",
              "      <td>1.0</td>\n",
              "      <td>1.0</td>\n",
              "      <td>1.0</td>\n",
              "      <td>1.0</td>\n",
              "      <td>1.0</td>\n",
              "    </tr>\n",
              "    <tr>\n",
              "      <th>1</th>\n",
              "      <td>1</td>\n",
              "      <td>1.0</td>\n",
              "      <td>1.0</td>\n",
              "      <td>1.0</td>\n",
              "      <td>1.0</td>\n",
              "      <td>1.0</td>\n",
              "      <td>1.0</td>\n",
              "      <td>1.0</td>\n",
              "      <td>1.0</td>\n",
              "    </tr>\n",
              "    <tr>\n",
              "      <th>2</th>\n",
              "      <td>2</td>\n",
              "      <td>1.0</td>\n",
              "      <td>1.0</td>\n",
              "      <td>1.0</td>\n",
              "      <td>1.0</td>\n",
              "      <td>1.0</td>\n",
              "      <td>1.0</td>\n",
              "      <td>1.0</td>\n",
              "      <td>1.0</td>\n",
              "    </tr>\n",
              "    <tr>\n",
              "      <th>3</th>\n",
              "      <td>3</td>\n",
              "      <td>1.0</td>\n",
              "      <td>1.0</td>\n",
              "      <td>1.0</td>\n",
              "      <td>1.0</td>\n",
              "      <td>1.0</td>\n",
              "      <td>1.0</td>\n",
              "      <td>1.0</td>\n",
              "      <td>1.0</td>\n",
              "    </tr>\n",
              "    <tr>\n",
              "      <th>4</th>\n",
              "      <td>4</td>\n",
              "      <td>1.0</td>\n",
              "      <td>1.0</td>\n",
              "      <td>1.0</td>\n",
              "      <td>1.0</td>\n",
              "      <td>1.0</td>\n",
              "      <td>1.0</td>\n",
              "      <td>1.0</td>\n",
              "      <td>1.0</td>\n",
              "    </tr>\n",
              "    <tr>\n",
              "      <th>5</th>\n",
              "      <td>5</td>\n",
              "      <td>1.0</td>\n",
              "      <td>1.0</td>\n",
              "      <td>1.0</td>\n",
              "      <td>1.0</td>\n",
              "      <td>1.0</td>\n",
              "      <td>1.0</td>\n",
              "      <td>1.0</td>\n",
              "      <td>1.0</td>\n",
              "    </tr>\n",
              "    <tr>\n",
              "      <th>6</th>\n",
              "      <td>6</td>\n",
              "      <td>1.0</td>\n",
              "      <td>1.0</td>\n",
              "      <td>1.0</td>\n",
              "      <td>1.0</td>\n",
              "      <td>1.0</td>\n",
              "      <td>1.0</td>\n",
              "      <td>1.0</td>\n",
              "      <td>1.0</td>\n",
              "    </tr>\n",
              "    <tr>\n",
              "      <th>7</th>\n",
              "      <td>7</td>\n",
              "      <td>1.0</td>\n",
              "      <td>1.0</td>\n",
              "      <td>1.0</td>\n",
              "      <td>1.0</td>\n",
              "      <td>1.0</td>\n",
              "      <td>1.0</td>\n",
              "      <td>1.0</td>\n",
              "      <td>1.0</td>\n",
              "    </tr>\n",
              "    <tr>\n",
              "      <th>8</th>\n",
              "      <td>8</td>\n",
              "      <td>1.0</td>\n",
              "      <td>1.0</td>\n",
              "      <td>1.0</td>\n",
              "      <td>1.0</td>\n",
              "      <td>1.0</td>\n",
              "      <td>1.0</td>\n",
              "      <td>1.0</td>\n",
              "      <td>1.0</td>\n",
              "    </tr>\n",
              "    <tr>\n",
              "      <th>9</th>\n",
              "      <td>9</td>\n",
              "      <td>1.0</td>\n",
              "      <td>1.0</td>\n",
              "      <td>1.0</td>\n",
              "      <td>1.0</td>\n",
              "      <td>1.0</td>\n",
              "      <td>1.0</td>\n",
              "      <td>1.0</td>\n",
              "      <td>1.0</td>\n",
              "    </tr>\n",
              "  </tbody>\n",
              "</table>\n",
              "</div>"
            ],
            "text/plain": [
              "   Random  VPATD  TOTGRQTY  TOTIRQTY  ...  NODLIR  DIFGRIRD  DIFGRIRV  STATUS\n",
              "0       0    1.0       1.0       1.0  ...     1.0       1.0       1.0     1.0\n",
              "1       1    1.0       1.0       1.0  ...     1.0       1.0       1.0     1.0\n",
              "2       2    1.0       1.0       1.0  ...     1.0       1.0       1.0     1.0\n",
              "3       3    1.0       1.0       1.0  ...     1.0       1.0       1.0     1.0\n",
              "4       4    1.0       1.0       1.0  ...     1.0       1.0       1.0     1.0\n",
              "5       5    1.0       1.0       1.0  ...     1.0       1.0       1.0     1.0\n",
              "6       6    1.0       1.0       1.0  ...     1.0       1.0       1.0     1.0\n",
              "7       7    1.0       1.0       1.0  ...     1.0       1.0       1.0     1.0\n",
              "8       8    1.0       1.0       1.0  ...     1.0       1.0       1.0     1.0\n",
              "9       9    1.0       1.0       1.0  ...     1.0       1.0       1.0     1.0\n",
              "\n",
              "[10 rows x 9 columns]"
            ]
          },
          "metadata": {
            "tags": []
          },
          "execution_count": 14
        }
      ]
    },
    {
      "cell_type": "code",
      "metadata": {
        "id": "CxWOjv-3_Je4",
        "colab_type": "code",
        "colab": {}
      },
      "source": [
        "#Prepare train and test data set\n",
        "np.random.seed(seed=2) #makes result reproducible\n",
        "msk = np.random.rand(len(df)) < 0.8\n",
        "traindf = df[msk]\n",
        "evaldf = df[~msk]\n",
        "#evaldf[evaldf['STATUS'] == 1]"
      ],
      "execution_count": 0,
      "outputs": []
    },
    {
      "cell_type": "code",
      "metadata": {
        "id": "_BWytDWF_Je9",
        "colab_type": "code",
        "outputId": "e0a23273-79cb-4e4d-ec1c-f51a922c4fbd",
        "colab": {
          "base_uri": "https://localhost:8080/",
          "height": 368
        }
      },
      "source": [
        "traindf.info()"
      ],
      "execution_count": 16,
      "outputs": [
        {
          "output_type": "stream",
          "text": [
            "<class 'pandas.core.frame.DataFrame'>\n",
            "Int64Index: 6629 entries, 0 to 8278\n",
            "Data columns (total 14 columns):\n",
            "WERKS       6629 non-null object\n",
            "SCENARIO    6629 non-null object\n",
            "KTOKK       6629 non-null object\n",
            "VSTATU      6629 non-null object\n",
            "VPATD       6629 non-null int64\n",
            "EKORG       6629 non-null object\n",
            "EKGRP       6629 non-null object\n",
            "TOTGRQTY    6629 non-null int64\n",
            "TOTIRQTY    6629 non-null int64\n",
            "NODLGR      6629 non-null int64\n",
            "NODLIR      6629 non-null int64\n",
            "DIFGRIRD    6629 non-null int64\n",
            "DIFGRIRV    6629 non-null int64\n",
            "STATUS      6629 non-null int64\n",
            "dtypes: int64(8), object(6)\n",
            "memory usage: 776.8+ KB\n"
          ],
          "name": "stdout"
        }
      ]
    },
    {
      "cell_type": "code",
      "metadata": {
        "id": "qTlicUey_JfC",
        "colab_type": "code",
        "outputId": "54d51b43-1c37-4eae-a08d-3dd271df28fe",
        "colab": {
          "base_uri": "https://localhost:8080/",
          "height": 368
        }
      },
      "source": [
        "evaldf.info()"
      ],
      "execution_count": 17,
      "outputs": [
        {
          "output_type": "stream",
          "text": [
            "<class 'pandas.core.frame.DataFrame'>\n",
            "Int64Index: 1650 entries, 16 to 8272\n",
            "Data columns (total 14 columns):\n",
            "WERKS       1650 non-null object\n",
            "SCENARIO    1650 non-null object\n",
            "KTOKK       1650 non-null object\n",
            "VSTATU      1650 non-null object\n",
            "VPATD       1650 non-null int64\n",
            "EKORG       1650 non-null object\n",
            "EKGRP       1650 non-null object\n",
            "TOTGRQTY    1650 non-null int64\n",
            "TOTIRQTY    1650 non-null int64\n",
            "NODLGR      1650 non-null int64\n",
            "NODLIR      1650 non-null int64\n",
            "DIFGRIRD    1650 non-null int64\n",
            "DIFGRIRV    1650 non-null int64\n",
            "STATUS      1650 non-null int64\n",
            "dtypes: int64(8), object(6)\n",
            "memory usage: 193.4+ KB\n"
          ],
          "name": "stdout"
        }
      ]
    },
    {
      "cell_type": "code",
      "metadata": {
        "id": "RRYzPyO7_JfF",
        "colab_type": "code",
        "colab": {}
      },
      "source": [
        "#Files To be used in Tensorflow pipeline dataset API\n",
        "traindf.to_csv(\"grir_train.csv\", index=False, header=False)\n",
        "evaldf.to_csv(\"grir_eval.csv\", index=False, header=False)"
      ],
      "execution_count": 0,
      "outputs": []
    },
    {
      "cell_type": "code",
      "metadata": {
        "id": "eCPrxoyQ_JfI",
        "colab_type": "code",
        "colab": {}
      },
      "source": [
        "######################################## Tensorflow Pipeline building and Modeling ############################################"
      ],
      "execution_count": 0,
      "outputs": []
    },
    {
      "cell_type": "code",
      "metadata": {
        "id": "Uv2BtsdYNZZE",
        "colab_type": "code",
        "colab": {}
      },
      "source": [
        "def feature_engg_features(features):\n",
        "  #Add new features\n",
        "  features['grminusirbyvpatd'] = ( features['TOTGRQTY'] - features['TOTIRQTY'] ) / features['VPATD']\n",
        "\n",
        "  return(features)\n",
        "\n",
        "def feature_engg(features, label):\n",
        "  #Add new features\n",
        "  features = feature_engg_features(features)\n",
        "\n",
        "  return(features, label)"
      ],
      "execution_count": 0,
      "outputs": []
    },
    {
      "cell_type": "code",
      "metadata": {
        "id": "Pgct6iSr_Jfl",
        "colab_type": "code",
        "outputId": "fd8a4e1e-cdc3-4792-f61d-145bec6fd389",
        "colab": {
          "base_uri": "https://localhost:8080/",
          "height": 91
        }
      },
      "source": [
        "traindf.columns"
      ],
      "execution_count": 23,
      "outputs": [
        {
          "output_type": "execute_result",
          "data": {
            "text/plain": [
              "Index(['WERKS', 'SCENARIO', 'KTOKK', 'VSTATU', 'VPATD', 'EKORG', 'EKGRP',\n",
              "       'TOTGRQTY', 'TOTIRQTY', 'NODLGR', 'NODLIR', 'DIFGRIRD', 'DIFGRIRV',\n",
              "       'STATUS'],\n",
              "      dtype='object')"
            ]
          },
          "metadata": {
            "tags": []
          },
          "execution_count": 23
        }
      ]
    },
    {
      "cell_type": "code",
      "metadata": {
        "id": "bmnkD8Bd_Jfp",
        "colab_type": "code",
        "colab": {}
      },
      "source": [
        "# Determine CSV, label, and key columns\n",
        "#Columns in training sheet -> Can have extra columns too\n",
        "CSV_COLUMNS = traindf.columns\n",
        "LABEL_COLUMN = 'STATUS'\n",
        "\n",
        "# Set default values for each CSV column( Including Y column )\n",
        "DEFAULTS = [[\"ML01\"], ['0'], ['0'],[\"0\"],[-1],[\"-1\"],[\"-1\"],[0],[0],[0],[0],[0],[0],[0]]\n",
        "\n",
        "def make_input_fn(filename, mode, vnum_epochs = None, batch_size = 512):\n",
        "    def _input_fn(v_test=False):     \n",
        "        # Create list of files that match pattern\n",
        "        file_list = tf.io.gfile.glob(filename)\n",
        "\n",
        "        if mode == tf.estimator.ModeKeys.TRAIN:\n",
        "            num_epochs = vnum_epochs # indefinitely\n",
        "        else:\n",
        "            num_epochs = 1 # end-of-input after this        \n",
        "        \n",
        "        # Create dataset from file list\n",
        "        dataset = tf.compat.v1.data.experimental.make_csv_dataset(file_list,\n",
        "                                                   batch_size=batch_size,\n",
        "                                                   column_names=CSV_COLUMNS,\n",
        "                                                   column_defaults=DEFAULTS,\n",
        "                                                   label_name=LABEL_COLUMN,\n",
        "                                                   num_epochs = num_epochs,\n",
        "                                                   num_parallel_reads=30)\n",
        "        \n",
        "        #Feature engineering\n",
        "        dataset = dataset.map(feature_engg)\n",
        "\n",
        "        if mode == tf.estimator.ModeKeys.TRAIN:\n",
        "            num_epochs = vnum_epochs # indefinitely\n",
        "            dataset = dataset.shuffle(buffer_size = batch_size)\n",
        "        else:\n",
        "            num_epochs = 1 # end-of-input after this\n",
        "\n",
        "        dataset = dataset.repeat(num_epochs)\n",
        "        dataset = dataset.prefetch(buffer_size = batch_size)\n",
        "        \n",
        "        #Begins - Uncomment for testing only -----------------------------------------------------<\n",
        "        if v_test == True:\n",
        "          x, y = dataset.make_one_shot_iterator().get_next()\n",
        "          #TF 2.0 has eager execution\n",
        "          print(x, y)\n",
        "          \n",
        "        #End - Uncomment for testing only -----------------------------------------------------<\n",
        "        return dataset\n",
        "    return _input_fn\n",
        "\n",
        "# Serving function for external call\n",
        "[\"ML01\"], ['0'], ['0'],[\"0\"],[-1],[\"-1\"],[\"-1\"],[0],[0],[0],[0],[0],[0],[0]\n",
        "def serving_fn():\n",
        "    feature_placeholders  = {'WERKS' : tf.compat.v1.placeholder_with_default(\"ML01\", None),\n",
        "            'SCENARIO' : tf.compat.v1.placeholder_with_default(\"0\", None),\n",
        "            'KTOKK' : tf.compat.v1.placeholder_with_default(\"0\", None),\n",
        "            'VSTATU' : tf.compat.v1.placeholder_with_default(\"0\", None),\n",
        "            'EKORG' : tf.compat.v1.placeholder_with_default(\"0\", None),\n",
        "            'EKGRP' : tf.compat.v1.placeholder_with_default(\"0\", None),\n",
        "            'VPATD' : tf.compat.v1.placeholder_with_default(0, None),\n",
        "            'TOTGRQTY' : tf.compat.v1.placeholder_with_default(0, None),\n",
        "            'TOTIRQTY' : tf.compat.v1.placeholder_with_default(0, None),\n",
        "            'NODLGR' : tf.compat.v1.placeholder_with_default(0, None),\n",
        "            'NODLIR' : tf.compat.v1.placeholder_with_default(0, None),\n",
        "            'DIFGRIRD' : tf.compat.v1.placeholder_with_default(0, None),\n",
        "            'DIFGRIRV' : tf.compat.v1.placeholder_with_default(0, None)\n",
        "    }\n",
        "\n",
        "    #Features with transformation logic\n",
        "    features = {\n",
        "                key: tf.expand_dims(tensor, -1)\n",
        "                for key, tensor in feature_placeholders.items()\n",
        "            }\n",
        "    \n",
        "    #feat_changed = add_engineered(features.copy())\n",
        "    return tf.estimator.export.ServingInputReceiver(feature_engg_features(features), feature_placeholders )"
      ],
      "execution_count": 0,
      "outputs": []
    },
    {
      "cell_type": "code",
      "metadata": {
        "id": "xo3g9qn1NtQA",
        "colab_type": "code",
        "colab": {
          "base_uri": "https://localhost:8080/",
          "height": 406
        },
        "outputId": "0df3b0a7-49ec-4453-98c8-0897a9dc505b"
      },
      "source": [
        "#Test dataset read + Feat Engg function's - output's CSV + Feature engg columns\n",
        "eval_file = \"*eval*.csv\"\n",
        "fn_d = make_input_fn(filename = eval_file,\n",
        "                    mode = tf.estimator.ModeKeys.TRAIN,\n",
        "                    vnum_epochs = 1,\n",
        "                    batch_size = 10)\n",
        "\n",
        "fn_d(v_test=True)"
      ],
      "execution_count": 58,
      "outputs": [
        {
          "output_type": "stream",
          "text": [
            "OrderedDict([('WERKS', <tf.Tensor: id=11254, shape=(10,), dtype=string, numpy=\n",
            "array([b'ML01', b'ML02', b'ML03', b'ML01', b'ML02', b'ML03', b'ML01',\n",
            "       b'ML02', b'ML01', b'ML03'], dtype=object)>), ('SCENARIO', <tf.Tensor: id=11249, shape=(10,), dtype=string, numpy=\n",
            "array([b'2', b'3', b'1', b'1', b'3', b'2', b'2', b'3', b'3', b'1'],\n",
            "      dtype=object)>), ('KTOKK', <tf.Tensor: id=11246, shape=(10,), dtype=string, numpy=\n",
            "array([b'2', b'2', b'2', b'1', b'2', b'1', b'2', b'2', b'2', b'1'],\n",
            "      dtype=object)>), ('VSTATU', <tf.Tensor: id=11253, shape=(10,), dtype=string, numpy=\n",
            "array([b'1', b'1', b'1', b'1', b'1', b'1', b'1', b'1', b'1', b'1'],\n",
            "      dtype=object)>), ('VPATD', <tf.Tensor: id=11252, shape=(10,), dtype=int32, numpy=array([30, 90, 30, 90, 30, 30, 30, 60, 90, 30], dtype=int32)>), ('EKORG', <tf.Tensor: id=11245, shape=(10,), dtype=string, numpy=\n",
            "array([b'1', b'1', b'2', b'1', b'1', b'2', b'1', b'1', b'1', b'2'],\n",
            "      dtype=object)>), ('EKGRP', <tf.Tensor: id=11244, shape=(10,), dtype=string, numpy=\n",
            "array([b'B', b'A', b'C', b'B', b'B', b'C', b'B', b'A', b'A', b'C'],\n",
            "      dtype=object)>), ('TOTGRQTY', <tf.Tensor: id=11250, shape=(10,), dtype=int32, numpy=array([104,   0,  28,   5,   0,  82, 105,   0,   0,  28], dtype=int32)>), ('TOTIRQTY', <tf.Tensor: id=11251, shape=(10,), dtype=int32, numpy=array([102, 154,   0,   0,  77,  76,  98, 185,  86,   0], dtype=int32)>), ('NODLGR', <tf.Tensor: id=11247, shape=(10,), dtype=int32, numpy=array([220,   0, 152, 157,   0,  78,  53,   0,   0, 169], dtype=int32)>), ('NODLIR', <tf.Tensor: id=11248, shape=(10,), dtype=int32, numpy=array([201, 106,   0,   0, 128,  56,  26, 149, 137,   0], dtype=int32)>), ('DIFGRIRD', <tf.Tensor: id=11242, shape=(10,), dtype=int32, numpy=\n",
            "array([   2, -154,   28,    5,  -77,    6,    7, -185,  -86,   28],\n",
            "      dtype=int32)>), ('DIFGRIRV', <tf.Tensor: id=11243, shape=(10,), dtype=int32, numpy=\n",
            "array([   671, -21200,  19600,   3500, -29700,   5381,   3753, -22200,\n",
            "       -20700,  19600], dtype=int32)>), ('grminusirbyvpatd', <tf.Tensor: id=11255, shape=(10,), dtype=float64, numpy=\n",
            "array([ 0.06666667, -1.71111111,  0.93333333,  0.05555556, -2.56666667,\n",
            "        0.2       ,  0.23333333, -3.08333333, -0.95555556,  0.93333333])>)]) tf.Tensor([1 0 0 1 0 0 0 0 0 0], shape=(10,), dtype=int32)\n"
          ],
          "name": "stdout"
        },
        {
          "output_type": "execute_result",
          "data": {
            "text/plain": [
              "<DatasetV1Adapter shapes: (OrderedDict([(WERKS, (None,)), (SCENARIO, (None,)), (KTOKK, (None,)), (VSTATU, (None,)), (VPATD, (None,)), (EKORG, (None,)), (EKGRP, (None,)), (TOTGRQTY, (None,)), (TOTIRQTY, (None,)), (NODLGR, (None,)), (NODLIR, (None,)), (DIFGRIRD, (None,)), (DIFGRIRV, (None,)), (grminusirbyvpatd, (None,))]), (None,)), types: (OrderedDict([(WERKS, tf.string), (SCENARIO, tf.string), (KTOKK, tf.string), (VSTATU, tf.string), (VPATD, tf.int32), (EKORG, tf.string), (EKGRP, tf.string), (TOTGRQTY, tf.int32), (TOTIRQTY, tf.int32), (NODLGR, tf.int32), (NODLIR, tf.int32), (DIFGRIRD, tf.int32), (DIFGRIRV, tf.int32), (grminusirbyvpatd, tf.float64)]), tf.int32)>"
            ]
          },
          "metadata": {
            "tags": []
          },
          "execution_count": 58
        }
      ]
    },
    {
      "cell_type": "code",
      "metadata": {
        "id": "OgMO6c0V_Jfh",
        "colab_type": "code",
        "colab": {}
      },
      "source": [
        "# Define your feature columns\n",
        "def create_feature_cols():\n",
        "#   lat_buck = tf.feature_column.bucketized_column(tf.feature_column.numeric_column('latitude'), \n",
        "#                                                  boundaries = np.arange(32.0, 42, 1).tolist())\n",
        "#   long_buck = tf.feature_column.bucketized_column(tf.feature_column.numeric_column('longitude'),\n",
        "#                                                   boundaries = np.arange(1, 52, 1).tolist())\n",
        "    werks_c = tf.feature_column.categorical_column_with_vocabulary_list(\n",
        "            key='WERKS',\n",
        "            vocabulary_list=['ML01','ML02','ML03'])\n",
        "    scenario_c = tf.feature_column.categorical_column_with_vocabulary_list(\n",
        "            key='SCENARIO',\n",
        "            vocabulary_list=['1','2','3','4'])\n",
        "    ktokk_c = tf.feature_column.categorical_column_with_vocabulary_list(\n",
        "            key='KTOKK',\n",
        "            vocabulary_list=['1','2'])    \n",
        "    vstatu_c = tf.feature_column.categorical_column_with_vocabulary_list(\n",
        "            key='VSTATU',\n",
        "            vocabulary_list=['1','2'])\n",
        "    ekorg_c = tf.feature_column.categorical_column_with_vocabulary_list(\n",
        "            key='EKORG',\n",
        "            vocabulary_list=['1','2'])   \n",
        "    ekgrp_c = tf.feature_column.categorical_column_with_vocabulary_list(\n",
        "            key='EKGRP',\n",
        "            vocabulary_list=['A','B','C'])\n",
        "    \n",
        "#     werks_c = tf.feature_column.categorical_column_with_hash_bucket(\n",
        "#             key='WERKS',hash_bucket_size=3)\n",
        "#     scenario_c = tf.feature_column.categorical_column_with_hash_bucket(\n",
        "#             key='SCENARIO',hash_bucket_size=4)\n",
        "#     ktokk_c = tf.feature_column.categorical_column_with_hash_bucket(\n",
        "#             key='KTOKK',hash_bucket_size=2)\n",
        "#     vstatu_c = tf.feature_column.categorical_column_with_hash_bucket(\n",
        "#             key='VSTATU',hash_bucket_size=2)\n",
        "#     ekorg_c = tf.feature_column.categorical_column_with_hash_bucket(\n",
        "#             key='EKORG',hash_bucket_size=2)\n",
        "#     ekgrp_c = tf.feature_column.categorical_column_with_hash_bucket(\n",
        "#             key='EKGRP',hash_bucket_size=3)\n",
        "\n",
        "    return [\n",
        "        tf.feature_column.indicator_column(werks_c),\n",
        "        tf.feature_column.indicator_column(scenario_c),\n",
        "        tf.feature_column.indicator_column(ktokk_c),\n",
        "        tf.feature_column.indicator_column(vstatu_c),\n",
        "        tf.feature_column.indicator_column(ekorg_c),\n",
        "        tf.feature_column.indicator_column(ekgrp_c),\n",
        "        tf.feature_column.numeric_column('VPATD'),\n",
        "        tf.feature_column.numeric_column(\"TOTGRQTY\"),\n",
        "        tf.feature_column.numeric_column(\"TOTIRQTY\"),\n",
        "        tf.feature_column.numeric_column(\"NODLGR\"),\n",
        "        tf.feature_column.numeric_column(\"NODLIR\"),\n",
        "        tf.feature_column.numeric_column(\"DIFGRIRD\"),\n",
        "        tf.feature_column.numeric_column(\"grminusirbyvpatd\"),\n",
        "        tf.feature_column.numeric_column(\"DIFGRIRV\")\n",
        "  ]"
      ],
      "execution_count": 0,
      "outputs": []
    },
    {
      "cell_type": "code",
      "metadata": {
        "id": "S_I-0uxm_Jf5",
        "colab_type": "code",
        "colab": {}
      },
      "source": [
        "# Create estimator train and evaluate function\n",
        "def train_and_evaluate(output_dir, num_train_steps, train_file, eval_file):    \n",
        "##### Create Canned estimator instance\n",
        "    ## setting the checkpoint interval to be much lower for this task\n",
        "    run_config = tf.estimator.RunConfig(save_checkpoints_secs = 40, \n",
        "                                        keep_checkpoint_max = 3)\n",
        "    \n",
        "    estimator = tf.estimator.DNNClassifier(feature_columns=create_feature_cols(),\n",
        "                                          n_classes=2,\n",
        "                                          hidden_units=[32,32],\n",
        "                                          dropout = 0.2,\n",
        "                                          optimizer=tf.keras.optimizers.Adam(learning_rate=0.001))\n",
        "#                                           config = run_config)\n",
        "    train_spec = tf.estimator.TrainSpec(input_fn = make_input_fn(\n",
        "                                                filename = train_file,\n",
        "                                                mode = tf.estimator.ModeKeys.TRAIN,\n",
        "                                                batch_size = 128),\n",
        "                                      max_steps = num_train_steps)\n",
        "    exp = tf.estimator.LatestExporter(\"decision\", serving_fn)\n",
        "    eval_spec = tf.estimator.EvalSpec(input_fn = make_input_fn(\n",
        "                                                filename = eval_file,\n",
        "                                                mode = tf.estimator.ModeKeys.EVAL,\n",
        "                                                batch_size = 128),\n",
        "                                    steps = None, \n",
        "                                    exporters = exp,\n",
        "                                    start_delay_secs = 20, # start evaluating after N seconds, \n",
        "                                    throttle_secs = 45)  # evaluate every N seconds\n",
        "    tf.estimator.train_and_evaluate(estimator, train_spec, eval_spec)"
      ],
      "execution_count": 0,
      "outputs": []
    },
    {
      "cell_type": "code",
      "metadata": {
        "id": "D0IPruma_Jf7",
        "colab_type": "code",
        "colab": {}
      },
      "source": [
        "train_file = \"*train*.csv\"\n",
        "eval_file = \"*eval*.csv\""
      ],
      "execution_count": 0,
      "outputs": []
    },
    {
      "cell_type": "code",
      "metadata": {
        "scrolled": false,
        "id": "SVjaQkls_Jf_",
        "colab_type": "code",
        "outputId": "bb50a7e3-f78d-427d-afe3-d572a2733a3a",
        "colab": {
          "base_uri": "https://localhost:8080/",
          "height": 1000
        }
      },
      "source": [
        "#Final trainer\n",
        "train_and_evaluate(None, num_train_steps=1000, train_file=train_file, eval_file=eval_file)"
      ],
      "execution_count": 62,
      "outputs": [
        {
          "output_type": "stream",
          "text": [
            "INFO:tensorflow:Using default config.\n",
            "WARNING:tensorflow:Using temporary folder as model directory: /tmp/tmp_zvo8y5r\n",
            "INFO:tensorflow:Using config: {'_model_dir': '/tmp/tmp_zvo8y5r', '_tf_random_seed': None, '_save_summary_steps': 100, '_save_checkpoints_steps': None, '_save_checkpoints_secs': 600, '_session_config': allow_soft_placement: true\n",
            "graph_options {\n",
            "  rewrite_options {\n",
            "    meta_optimizer_iterations: ONE\n",
            "  }\n",
            "}\n",
            ", '_keep_checkpoint_max': 5, '_keep_checkpoint_every_n_hours': 10000, '_log_step_count_steps': 100, '_train_distribute': None, '_device_fn': None, '_protocol': None, '_eval_distribute': None, '_experimental_distribute': None, '_experimental_max_worker_delay_secs': None, '_session_creation_timeout_secs': 7200, '_service': None, '_cluster_spec': <tensorflow.python.training.server_lib.ClusterSpec object at 0x7f4ac694bb70>, '_task_type': 'worker', '_task_id': 0, '_global_id_in_cluster': 0, '_master': '', '_evaluation_master': '', '_is_chief': True, '_num_ps_replicas': 0, '_num_worker_replicas': 1}\n",
            "INFO:tensorflow:Not using Distribute Coordinator.\n",
            "INFO:tensorflow:Running training and evaluation locally (non-distributed).\n",
            "INFO:tensorflow:Start train and evaluate loop. The evaluate will happen after every checkpoint. Checkpoint frequency is determined based on RunConfig arguments: save_checkpoints_steps None or save_checkpoints_secs 600.\n",
            "INFO:tensorflow:Calling model_fn.\n",
            "WARNING:tensorflow:Layer dnn is casting an input tensor from dtype float64 to the layer's dtype of float32, which is new behavior in TensorFlow 2.  The layer has dtype float32 because it's dtype defaults to floatx.\n",
            "\n",
            "If you intended to run this layer in float32, you can safely ignore this warning. If in doubt, this warning is likely only an issue if you are porting a TensorFlow 1.X model to TensorFlow 2.\n",
            "\n",
            "To change all layers to have dtype float64 by default, call `tf.keras.backend.set_floatx('float64')`. To change just this layer, pass dtype='float64' to the layer constructor. If you are the author of this layer, you can disable autocasting by passing autocast=False to the base Layer constructor.\n",
            "\n",
            "INFO:tensorflow:Done calling model_fn.\n",
            "INFO:tensorflow:Create CheckpointSaverHook.\n",
            "INFO:tensorflow:Graph was finalized.\n",
            "INFO:tensorflow:Running local_init_op.\n",
            "INFO:tensorflow:Done running local_init_op.\n",
            "INFO:tensorflow:Saving checkpoints for 0 into /tmp/tmp_zvo8y5r/model.ckpt.\n",
            "INFO:tensorflow:loss = 1194.3248, step = 0\n",
            "INFO:tensorflow:global_step/sec: 98.2363\n",
            "INFO:tensorflow:loss = 164.88542, step = 100 (1.022 sec)\n",
            "INFO:tensorflow:global_step/sec: 137.234\n",
            "INFO:tensorflow:loss = 75.78824, step = 200 (0.729 sec)\n",
            "INFO:tensorflow:global_step/sec: 136.327\n",
            "INFO:tensorflow:loss = 47.419746, step = 300 (0.731 sec)\n",
            "INFO:tensorflow:global_step/sec: 138.671\n",
            "INFO:tensorflow:loss = 20.58876, step = 400 (0.724 sec)\n",
            "INFO:tensorflow:global_step/sec: 134.836\n",
            "INFO:tensorflow:loss = 17.126722, step = 500 (0.738 sec)\n",
            "INFO:tensorflow:global_step/sec: 136.268\n",
            "INFO:tensorflow:loss = 4.052356, step = 600 (0.736 sec)\n",
            "INFO:tensorflow:global_step/sec: 141.516\n",
            "INFO:tensorflow:loss = 1.6064522, step = 700 (0.704 sec)\n",
            "INFO:tensorflow:global_step/sec: 138.643\n",
            "INFO:tensorflow:loss = 8.3384695, step = 800 (0.721 sec)\n",
            "INFO:tensorflow:global_step/sec: 140.523\n",
            "INFO:tensorflow:loss = 2.1951733, step = 900 (0.714 sec)\n",
            "INFO:tensorflow:Saving checkpoints for 1000 into /tmp/tmp_zvo8y5r/model.ckpt.\n",
            "INFO:tensorflow:Calling model_fn.\n",
            "WARNING:tensorflow:Layer dnn is casting an input tensor from dtype float64 to the layer's dtype of float32, which is new behavior in TensorFlow 2.  The layer has dtype float32 because it's dtype defaults to floatx.\n",
            "\n",
            "If you intended to run this layer in float32, you can safely ignore this warning. If in doubt, this warning is likely only an issue if you are porting a TensorFlow 1.X model to TensorFlow 2.\n",
            "\n",
            "To change all layers to have dtype float64 by default, call `tf.keras.backend.set_floatx('float64')`. To change just this layer, pass dtype='float64' to the layer constructor. If you are the author of this layer, you can disable autocasting by passing autocast=False to the base Layer constructor.\n",
            "\n",
            "INFO:tensorflow:Done calling model_fn.\n",
            "INFO:tensorflow:Starting evaluation at 2019-10-29T11:28:46Z\n",
            "INFO:tensorflow:Graph was finalized.\n",
            "INFO:tensorflow:Restoring parameters from /tmp/tmp_zvo8y5r/model.ckpt-1000\n",
            "INFO:tensorflow:Running local_init_op.\n",
            "INFO:tensorflow:Done running local_init_op.\n",
            "INFO:tensorflow:Finished evaluation at 2019-10-29-11:28:47\n",
            "INFO:tensorflow:Saving dict for global step 1000: accuracy = 0.71012735, accuracy_baseline = 0.6082474, auc = 0.7619193, auc_precision_recall = 0.6696278, average_loss = 0.5876461, global_step = 1000, label/mean = 0.39175257, loss = 0.5877944, precision = 0.6099476, prediction/mean = 0.44227713, recall = 0.72136223\n",
            "INFO:tensorflow:Saving 'checkpoint_path' summary for global step 1000: /tmp/tmp_zvo8y5r/model.ckpt-1000\n",
            "INFO:tensorflow:Calling model_fn.\n",
            "WARNING:tensorflow:Layer dnn is casting an input tensor from dtype float64 to the layer's dtype of float32, which is new behavior in TensorFlow 2.  The layer has dtype float32 because it's dtype defaults to floatx.\n",
            "\n",
            "If you intended to run this layer in float32, you can safely ignore this warning. If in doubt, this warning is likely only an issue if you are porting a TensorFlow 1.X model to TensorFlow 2.\n",
            "\n",
            "To change all layers to have dtype float64 by default, call `tf.keras.backend.set_floatx('float64')`. To change just this layer, pass dtype='float64' to the layer constructor. If you are the author of this layer, you can disable autocasting by passing autocast=False to the base Layer constructor.\n",
            "\n",
            "INFO:tensorflow:Done calling model_fn.\n",
            "WARNING:tensorflow:From /usr/local/lib/python3.6/dist-packages/tensorflow_core/python/saved_model/signature_def_utils_impl.py:201: build_tensor_info (from tensorflow.python.saved_model.utils_impl) is deprecated and will be removed in a future version.\n",
            "Instructions for updating:\n",
            "This function will only be available through the v1 compatibility library as tf.compat.v1.saved_model.utils.build_tensor_info or tf.compat.v1.saved_model.build_tensor_info.\n",
            "INFO:tensorflow:Signatures INCLUDED in export for Classify: None\n",
            "INFO:tensorflow:Signatures INCLUDED in export for Regress: None\n",
            "INFO:tensorflow:Signatures INCLUDED in export for Predict: ['predict']\n",
            "INFO:tensorflow:Signatures INCLUDED in export for Train: None\n",
            "INFO:tensorflow:Signatures INCLUDED in export for Eval: None\n",
            "INFO:tensorflow:Signatures EXCLUDED from export because they cannot be be served via TensorFlow Serving APIs:\n",
            "INFO:tensorflow:'serving_default' : Classification input must be a single string Tensor; got {'WERKS': <tf.Tensor 'PlaceholderWithDefault:0' shape=<unknown> dtype=string>, 'SCENARIO': <tf.Tensor 'PlaceholderWithDefault_1:0' shape=<unknown> dtype=string>, 'KTOKK': <tf.Tensor 'PlaceholderWithDefault_2:0' shape=<unknown> dtype=string>, 'VSTATU': <tf.Tensor 'PlaceholderWithDefault_3:0' shape=<unknown> dtype=string>, 'EKORG': <tf.Tensor 'PlaceholderWithDefault_4:0' shape=<unknown> dtype=string>, 'EKGRP': <tf.Tensor 'PlaceholderWithDefault_5:0' shape=<unknown> dtype=string>, 'VPATD': <tf.Tensor 'PlaceholderWithDefault_6:0' shape=<unknown> dtype=int32>, 'TOTGRQTY': <tf.Tensor 'PlaceholderWithDefault_7:0' shape=<unknown> dtype=int32>, 'TOTIRQTY': <tf.Tensor 'PlaceholderWithDefault_8:0' shape=<unknown> dtype=int32>, 'NODLGR': <tf.Tensor 'PlaceholderWithDefault_9:0' shape=<unknown> dtype=int32>, 'NODLIR': <tf.Tensor 'PlaceholderWithDefault_10:0' shape=<unknown> dtype=int32>, 'DIFGRIRD': <tf.Tensor 'PlaceholderWithDefault_11:0' shape=<unknown> dtype=int32>, 'DIFGRIRV': <tf.Tensor 'PlaceholderWithDefault_12:0' shape=<unknown> dtype=int32>}\n",
            "INFO:tensorflow:'classification' : Classification input must be a single string Tensor; got {'WERKS': <tf.Tensor 'PlaceholderWithDefault:0' shape=<unknown> dtype=string>, 'SCENARIO': <tf.Tensor 'PlaceholderWithDefault_1:0' shape=<unknown> dtype=string>, 'KTOKK': <tf.Tensor 'PlaceholderWithDefault_2:0' shape=<unknown> dtype=string>, 'VSTATU': <tf.Tensor 'PlaceholderWithDefault_3:0' shape=<unknown> dtype=string>, 'EKORG': <tf.Tensor 'PlaceholderWithDefault_4:0' shape=<unknown> dtype=string>, 'EKGRP': <tf.Tensor 'PlaceholderWithDefault_5:0' shape=<unknown> dtype=string>, 'VPATD': <tf.Tensor 'PlaceholderWithDefault_6:0' shape=<unknown> dtype=int32>, 'TOTGRQTY': <tf.Tensor 'PlaceholderWithDefault_7:0' shape=<unknown> dtype=int32>, 'TOTIRQTY': <tf.Tensor 'PlaceholderWithDefault_8:0' shape=<unknown> dtype=int32>, 'NODLGR': <tf.Tensor 'PlaceholderWithDefault_9:0' shape=<unknown> dtype=int32>, 'NODLIR': <tf.Tensor 'PlaceholderWithDefault_10:0' shape=<unknown> dtype=int32>, 'DIFGRIRD': <tf.Tensor 'PlaceholderWithDefault_11:0' shape=<unknown> dtype=int32>, 'DIFGRIRV': <tf.Tensor 'PlaceholderWithDefault_12:0' shape=<unknown> dtype=int32>}\n",
            "INFO:tensorflow:'regression' : Regression input must be a single string Tensor; got {'WERKS': <tf.Tensor 'PlaceholderWithDefault:0' shape=<unknown> dtype=string>, 'SCENARIO': <tf.Tensor 'PlaceholderWithDefault_1:0' shape=<unknown> dtype=string>, 'KTOKK': <tf.Tensor 'PlaceholderWithDefault_2:0' shape=<unknown> dtype=string>, 'VSTATU': <tf.Tensor 'PlaceholderWithDefault_3:0' shape=<unknown> dtype=string>, 'EKORG': <tf.Tensor 'PlaceholderWithDefault_4:0' shape=<unknown> dtype=string>, 'EKGRP': <tf.Tensor 'PlaceholderWithDefault_5:0' shape=<unknown> dtype=string>, 'VPATD': <tf.Tensor 'PlaceholderWithDefault_6:0' shape=<unknown> dtype=int32>, 'TOTGRQTY': <tf.Tensor 'PlaceholderWithDefault_7:0' shape=<unknown> dtype=int32>, 'TOTIRQTY': <tf.Tensor 'PlaceholderWithDefault_8:0' shape=<unknown> dtype=int32>, 'NODLGR': <tf.Tensor 'PlaceholderWithDefault_9:0' shape=<unknown> dtype=int32>, 'NODLIR': <tf.Tensor 'PlaceholderWithDefault_10:0' shape=<unknown> dtype=int32>, 'DIFGRIRD': <tf.Tensor 'PlaceholderWithDefault_11:0' shape=<unknown> dtype=int32>, 'DIFGRIRV': <tf.Tensor 'PlaceholderWithDefault_12:0' shape=<unknown> dtype=int32>}\n",
            "WARNING:tensorflow:Export includes no default signature!\n",
            "INFO:tensorflow:Restoring parameters from /tmp/tmp_zvo8y5r/model.ckpt-1000\n",
            "INFO:tensorflow:Assets added to graph.\n",
            "INFO:tensorflow:No assets to write.\n",
            "INFO:tensorflow:SavedModel written to: /tmp/tmp_zvo8y5r/export/decision/temp-b'1572348527'/saved_model.pb\n",
            "INFO:tensorflow:Loss for final step: 4.3121653.\n"
          ],
          "name": "stdout"
        }
      ]
    },
    {
      "cell_type": "code",
      "metadata": {
        "id": "aDBsWPgI_JgB",
        "colab_type": "code",
        "colab": {}
      },
      "source": [
        "# #Only DNN Deep wide classifier\n",
        "# def get_deep_wide_features():\n",
        "#     werks_c = tf.feature_column.categorical_column_with_vocabulary_list(\n",
        "#             key='WERKS',\n",
        "#             vocabulary_list=['ML01','ML02','ML03'])\n",
        "#     scenario_c = tf.feature_column.categorical_column_with_vocabulary_list(\n",
        "#             key='SCENARIO',\n",
        "#             vocabulary_list=['1','2','3','4'])\n",
        "#     ktokk_c = tf.feature_column.categorical_column_with_vocabulary_list(\n",
        "#             key='KTOKK',\n",
        "#             vocabulary_list=['1','2'])    \n",
        "#     vstatu_c = tf.feature_column.categorical_column_with_vocabulary_list(\n",
        "#             key='VSTATU',\n",
        "#             vocabulary_list=['1','2'])\n",
        "#     ekorg_c = tf.feature_column.categorical_column_with_vocabulary_list(\n",
        "#             key='EKORG',\n",
        "#             vocabulary_list=['1','2'])   \n",
        "#     ekgrp_c = tf.feature_column.categorical_column_with_vocabulary_list(\n",
        "#             key='EKGRP',\n",
        "#             vocabulary_list=['A','B','C'])\n",
        "#     deep_columns = [\n",
        "#         tf.feature_column.numeric_column('VPATD'),\n",
        "#         tf.feature_column.numeric_column(\"TOTGRQTY\"),\n",
        "#         tf.feature_column.numeric_column(\"TOTIRQTY\"),\n",
        "#         tf.feature_column.numeric_column(\"NODLGR\"),\n",
        "#         tf.feature_column.numeric_column(\"NODLIR\"),\n",
        "#         tf.feature_column.numeric_column(\"DIFGRIRD\"),\n",
        "#         tf.feature_column.numeric_column(\"DIFGRIRV\")\n",
        "#     ]\n",
        "#     wide_columns = [\n",
        "#         tf.feature_column.indicator_column(werks_c),\n",
        "#         tf.feature_column.indicator_column(scenario_c),\n",
        "#         tf.feature_column.indicator_column(ktokk_c),\n",
        "#         tf.feature_column.indicator_column(vstatu_c),\n",
        "#         tf.feature_column.indicator_column(ekorg_c),\n",
        "#         tf.feature_column.indicator_column(ekgrp_c),\n",
        "#     ]\n",
        "#     return deep_columns, wide_columns\n",
        "\n",
        "# def train_and_evaluate_deep(output_dir, num_train_steps):    \n",
        "# ##### Create Canned estimator instance\n",
        "#     #Get features\n",
        "#     deep, wide = get_deep_wide_features()\n",
        "\n",
        "#     estimator = tf.estimator.DNNLinearCombinedClassifier(\n",
        "#                                     linear_feature_columns = wide,\n",
        "#                                     dnn_feature_columns = deep,\n",
        "#                                     n_classes=2,\n",
        "#                                     dnn_hidden_units = [32,64,64,64,64,64,\n",
        "#                                                         64,64,64,64,64,64,\n",
        "#                                                         64,64,64,64,64,64,\n",
        "#                                                         32],\n",
        "#                                     dnn_dropout = 0.1,\n",
        "#                                     dnn_optimizer=tf.train.AdamOptimizer(learning_rate=0.0001))\n",
        "#     train_spec = tf.estimator.TrainSpec(input_fn = make_input_fn(traindf, None), \n",
        "#                                       max_steps = num_train_steps)\n",
        "#     exp = tf.estimator.LatestExporter(\"decision\", serving_fn)\n",
        "#     eval_spec = tf.estimator.EvalSpec(input_fn = make_input_fn(evaldf, 1), \n",
        "#                                     steps = None, \n",
        "#                                     exporters = exp,\n",
        "#                                     start_delay_secs = 1, # start evaluating after N seconds, \n",
        "#                                     throttle_secs = 40)  # evaluate every N seconds\n",
        "#     tf.estimator.train_and_evaluate(estimator, train_spec, eval_spec)"
      ],
      "execution_count": 0,
      "outputs": []
    },
    {
      "cell_type": "code",
      "metadata": {
        "id": "z4O-ZL5k_JgD",
        "colab_type": "code",
        "colab": {}
      },
      "source": [
        "# #setup exponential decay function for learning rates\n",
        "# def get_global_step():\n",
        "#     if tf.train.get_global_step() is None:\n",
        "#         return 1\n",
        "#     else:\n",
        "#         return tf.train.get_global_step()\n",
        "\n",
        "# def get_exp_decay_optimizer():\n",
        "#     def exp_decay(global_step=global_step):\n",
        "#         return tf.train.exponential_decay(\n",
        "#           learning_rate=0.0001, global_step=global_step,\n",
        "#           decay_steps=100, decay_rate=0.8, staircase=True)\n",
        "#     # use customized decay function in learning_rate\n",
        "#     return tf.train.AdagradOptimizer(learning_rate=exp_decay(tf.train.get_global_step()))\n",
        "\n",
        "# # setup stepwise decay function for learning rates\n",
        "# def get_stepw_decay_optimizer2():\n",
        "#     def step_decay():\n",
        "#         return tf.train.piecewise_constant(get_global_step(), \n",
        "#                                            boundaries=[10000,20000,50000,100000], \n",
        "#                                            values=[0.001,0.0005,0.0001,0.00005,0.00002])\n",
        "#     # use customized decay function in learning_rate\n",
        "#     return tf.train.AdamOptimizer(learning_rate=step_decay)#,epsilon=0.001)\n",
        "\n",
        "# # setup stepwise decay function for learning rates\n",
        "# def get_stepw_decay_optimizer():\n",
        "#     def step_decay(global_step):\n",
        "#         return tf.train.piecewise_constant(global_step, boundaries=[10000,20000,50000,100000], values=[0.001,0.0005,0.0001,0.00005,0.00002])\n",
        "#                                          # use customized decay function in learning_rate\n",
        "#     return tf.train.AdamOptimizer(learning_rate=step_decay(tf.train.get_global_step()))#,epsilon=0.001)"
      ],
      "execution_count": 0,
      "outputs": []
    },
    {
      "cell_type": "code",
      "metadata": {
        "id": "LHZxMpPa_JgH",
        "colab_type": "code",
        "colab": {}
      },
      "source": [
        "accuracy_score = classifier.evaluate(input_fn=get_input_fn(training_set, num_epochs=1, shuffle=False))[\"accuracy\"]\n",
        "print(\"\\nTrain Accuracy: {0:f}\\n\".format(accuracy_score))"
      ],
      "execution_count": 0,
      "outputs": []
    },
    {
      "cell_type": "code",
      "metadata": {
        "id": "Eyclr50x_JgK",
        "colab_type": "code",
        "colab": {}
      },
      "source": [
        "accuracy_score = classifier.evaluate(input_fn=get_validation_input_fn(test_set, num_epochs=1, shuffle=False))[\"accuracy\"]\n",
        "print(\"\\nTest Accuracy: {0:f}\\n\".format(accuracy_score))"
      ],
      "execution_count": 0,
      "outputs": []
    },
    {
      "cell_type": "code",
      "metadata": {
        "id": "PURX3_Lh_JgN",
        "colab_type": "code",
        "colab": {}
      },
      "source": [
        "#Run model on Prediction data set\n",
        "predictions = classifier.predict_classes(input_fn=get_prediction_input_fn(test_set))\n",
        "for p in list(predictions):\n",
        "    print(p)"
      ],
      "execution_count": 0,
      "outputs": []
    },
    {
      "cell_type": "code",
      "metadata": {
        "id": "rltHdnjN_JgP",
        "colab_type": "code",
        "colab": {}
      },
      "source": [
        "for i in list(test_set['STATUS']):\n",
        "    print(i)"
      ],
      "execution_count": 0,
      "outputs": []
    },
    {
      "cell_type": "code",
      "metadata": {
        "id": "8bcOnzQa_JgR",
        "colab_type": "code",
        "colab": {}
      },
      "source": [
        "#Predict with disk saved model\n",
        "from tensorflow.contrib import predictor\n",
        "\n",
        "export_dir = os.getcwd() + \"/tflow_grir_model\"\n",
        "predict_fn = predictor.from_saved_model(export_dir,signature_def_key='predict')\n",
        "\n",
        "predictions = predict_fn({\"DIFGRIRV\": [-38100],\"NODLIR\": [90],\"VSTATU\": [\"1\"],\"NODLGR\": [0],\"DIFGRIRD\": [-80],\"VPATD\": [30],\n",
        "                          \"WERKS\": [\"ML01\"],\n",
        "                          \"EKORG\": [\"1\"],\"TOTGRQTY\": [0],\"SCENARIO\": [\"3\"],\"TOTIRQTY\": [80],\"KTOKK\": [\"1\"],\"EKGRP\": [\"A\"]})\n",
        "print(predictions['probabilities'][0,1])"
      ],
      "execution_count": 0,
      "outputs": []
    }
  ]
}