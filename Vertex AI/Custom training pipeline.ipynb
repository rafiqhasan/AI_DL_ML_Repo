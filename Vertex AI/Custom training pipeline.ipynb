{
 "cells": [
  {
   "cell_type": "markdown",
   "id": "27b81f44",
   "metadata": {},
   "source": [
    "#### Define your project and region below. If you are not authenticated to GCP, do it by oncommenting the line below the definitions."
   ]
  },
  {
   "cell_type": "code",
   "execution_count": null,
   "id": "5ed7db00",
   "metadata": {},
   "outputs": [],
   "source": [
    "PROJECT_ID = \"SOME_PROJECT\"\n",
    "REGION = \"YOUR_REGION\" #though us-central is cheaper\n",
    "PIPELINE_ROOT = \"gs://SOME_BUCKET/SOME_FOLDER\"\n",
    "#!gcloud auth login"
   ]
  },
  {
   "cell_type": "markdown",
   "id": "600a91dc",
   "metadata": {},
   "source": [
    "#### Imports\n",
    "\n",
    "Our imports:\n",
    "\n",
    " * Artifact,\n",
    " * Dataset,\n",
    " * Input,\n",
    " * Model,\n",
    " * Output,\n",
    " * Metrics,\n",
    " * ClassificationMetrics,\n",
    "\n",
    "Are powerful, metadata rich handles for objects \"Artifacts\", or its inherited classes. By using them, as shown below, we can manage paths, save and download them. The paths used are actually system path, as it is saved and shared between components via [GCS Fuse](https://cloud.google.com/storage/docs/gcs-fuse). \n",
    "\n",
    "`component` is a decorator used for transforming a function into a KFP component. It allows us, for example, to set dependencies and base images for each of our components, with a easy-to-use and simple API."
   ]
  },
  {
   "cell_type": "code",
   "execution_count": null,
   "id": "23aab988",
   "metadata": {},
   "outputs": [],
   "source": [
    "from typing import NamedTuple\n",
    "\n",
    "from kfp.v2 import dsl\n",
    "from kfp.v2.dsl import (Artifact,\n",
    "                        Dataset,\n",
    "                        Input,\n",
    "                        Model,\n",
    "                        Output,\n",
    "                        Metrics,\n",
    "                        ClassificationMetrics,\n",
    "                        component)\n",
    "\n",
    "from kfp.v2 import compiler"
   ]
  },
  {
   "cell_type": "markdown",
   "id": "360407f6",
   "metadata": {},
   "source": [
    "As from (GCP AI Platform Official Github)[https://github.com/GoogleCloudPlatform/ai-platform-samples/blob/master/ai-platform-unified/notebooks/unofficial/pipelines/lightweight_functions_component_io_kfp.ipynb], accessed in 2021-05-19:\n",
    "\n",
    "\n",
    "KFP Python function-based components\n",
    "A Kubeflow pipeline component is a self-contained set of code that performs one step in your ML workflow. A pipeline component is composed of:\n",
    "\n",
    "The component code, which implements the logic needed to perform a step in your ML workflow.\n",
    "A component specification, which defines the following:\n",
    " * The component’s metadata, its name and description.\n",
    " * The component’s interface, the component’s inputs and outputs.\n",
    " * The component’s implementation, the Docker container image to run, how to pass inputs to your component code, and how to get the component’s outputs.\n",
    " \n",
    "Lightweight Python function-based components make it easier to iterate quickly by letting you build your component code as a Python function and generating the component specification for you. This notebook shows how to create Python function-based components for use in Vertex AI Pipelines.\n",
    "\n",
    "Python function-based components use the Kubeflow Pipelines SDK to handle the complexity of passing inputs into your component and passing your function’s outputs back to your pipeline.\n",
    "\n",
    "There are two categories of inputs/outputs supported in Python function-based components: artifacts and parameters.\n",
    "\n",
    "* Parameters are passed to your component by value and typically contain int, float, bool, or small string values.\n",
    "* Artifacts are passed to your component as a reference to a path, to which you can write a file or a subdirectory structure. In addition to the artifact’s data, you can also read and write the artifact’s metadata. This lets you record arbitrary key-value pairs for an artifact such as the accuracy of a trained model, and use metadata in downstream components – for example, you could use metadata to decide if a model is accurate enough to deploy for predictions."
   ]
  },
  {
   "cell_type": "markdown",
   "id": "a17d62d9",
   "metadata": {},
   "source": [
    "#### Our use case\n",
    "\n",
    "Is to create three components, that will let us create and save a dataset, train a model, and evaluate it, saving beautiful, meaningfull classification plots for them.\n",
    "\n",
    "As you will see, our components have dependencies on `pandas`, `sklearn`, and `xgboost`.\n",
    "\n",
    "We use `Output[Dataset]` (or Model, or ClassificationMetrics) objects to create unique filepaths to save objects during the component's execution. We can then access them as:\n",
    "```python\n",
    "\n",
    "some_op = component()\n",
    "some_output_object = some_op.outputs[\"some_object_name\"].\n",
    "```\n",
    "\n",
    "Below we create two `Output[Dataset]` objects to save the train and test split of our model. The next operators will receive some inputs and handle the previously saved files on their processing steps."
   ]
  },
  {
   "cell_type": "code",
   "execution_count": null,
   "id": "eb90457e",
   "metadata": {},
   "outputs": [],
   "source": [
    "@component(\n",
    "    packages_to_install = [\n",
    "        \"pandas\",\n",
    "        \"sklearn\"\n",
    "    ],\n",
    ")\n",
    "def get_data(\n",
    "    dataset_train: Output[Dataset],\n",
    "    dataset_test: Output[Dataset]\n",
    "    \n",
    "):\n",
    "    \n",
    "    from sklearn import datasets\n",
    "    from sklearn.model_selection import train_test_split as tts\n",
    "    import pandas as pd\n",
    "    # import some data to play with\n",
    "    \n",
    "    data_raw = datasets.load_breast_cancer()\n",
    "    data = pd.DataFrame(data_raw.data, columns=data_raw.feature_names)\n",
    "    data[\"target\"] = data_raw.target\n",
    "    \n",
    "    train, test = tts(data, test_size=0.3)\n",
    "    \n",
    "    train.to_csv(dataset_train.path)\n",
    "    test.to_csv(dataset_test.path)"
   ]
  },
  {
   "cell_type": "markdown",
   "id": "918a0240",
   "metadata": {},
   "source": [
    "#### The training component\n",
    "\n",
    "Will receive an `Input[Dataset]` object, will be used from the outputs of the `get_data()` operator. It outputs an `Output[Model]` object, which will have some metadata written about itself.\n",
    "\n",
    "We will use the `Output[Model]` from component train and `Output[Dataset]` (the test one) from `get_data()` to evaluate the model."
   ]
  },
  {
   "cell_type": "code",
   "execution_count": null,
   "id": "5a98cdc1",
   "metadata": {},
   "outputs": [],
   "source": [
    "@component(\n",
    "    packages_to_install = [\n",
    "        \"pandas\",\n",
    "        \"sklearn\",\n",
    "        \"xgboost\"\n",
    "    ],\n",
    ")\n",
    "def train_xgb_model(\n",
    "    dataset: Input[Dataset],\n",
    "    model_artifact: Output[Model]\n",
    "):\n",
    "    \n",
    "    from xgboost import XGBClassifier\n",
    "    import pandas as pd\n",
    "    \n",
    "    data = pd.read_csv(dataset.path)\n",
    "\n",
    "    model = XGBClassifier(\n",
    "        objective=\"binary:logistic\"\n",
    "    )\n",
    "    model.fit(\n",
    "        data.drop(columns=[\"target\"]),\n",
    "        data.target,\n",
    "    )\n",
    "\n",
    "    score = model.score(\n",
    "        data.drop(columns=[\"target\"]),\n",
    "        data.target,\n",
    "    )\n",
    "\n",
    "    model_artifact.metadata[\"train_score\"] = float(score)\n",
    "    model_artifact.metadata[\"framework\"] = \"XGBoost\"\n",
    "    \n",
    "    model.save_model(model_artifact.path)"
   ]
  },
  {
   "cell_type": "markdown",
   "id": "4fd7de06",
   "metadata": {},
   "source": [
    "#### To evaluate the model\n",
    "\n",
    "We will receibe the inputs and create some specific outputs. `Output[ClassificationMetrics]` lets us create beautiful plots on the UI, and `Output[Metrics]` lets us log arbitrary metrics onto it. We will use `sklearn` for the metric gathering and then convert everything to list for Vertex AI runner to be able to plot. "
   ]
  },
  {
   "cell_type": "code",
   "execution_count": null,
   "id": "97492d3f",
   "metadata": {},
   "outputs": [],
   "source": [
    "@component(\n",
    "    packages_to_install = [\n",
    "        \"pandas\",\n",
    "        \"sklearn\",\n",
    "        \"xgboost\"\n",
    "    ],\n",
    ")\n",
    "def eval_model(\n",
    "    test_set: Input[Dataset],\n",
    "    xgb_model: Input[Model],\n",
    "    metrics: Output[ClassificationMetrics],\n",
    "    smetrics: Output[Metrics]\n",
    "):\n",
    "    from xgboost import XGBClassifier\n",
    "    import pandas as pd\n",
    "    \n",
    "    data = pd.read_csv(test_set.path)\n",
    "    model = XGBClassifier()\n",
    "    model.load_model(xgb_model.path)\n",
    "    \n",
    "    score = model.score(\n",
    "        data.drop(columns=[\"target\"]),\n",
    "        data.target,\n",
    "    )\n",
    "    \n",
    "    from sklearn.metrics import roc_curve\n",
    "    y_scores =  model.predict_proba(data.drop(columns=[\"target\"]))[:, 1]\n",
    "    fpr, tpr, thresholds = roc_curve(\n",
    "         y_true=data.target.to_numpy(), y_score=y_scores, pos_label=True\n",
    "    )\n",
    "    metrics.log_roc_curve(fpr.tolist(), tpr.tolist(), thresholds.tolist())\n",
    "    \n",
    "    from sklearn.metrics import confusion_matrix\n",
    "    y_pred = model.predict(data.drop(columns=[\"target\"]))\n",
    "    \n",
    "    metrics.log_confusion_matrix(\n",
    "       [\"False\", \"True\"],\n",
    "       confusion_matrix(\n",
    "           data.target, y_pred\n",
    "       ).tolist(),  # .tolist() to convert np array to list.\n",
    "    )\n",
    "    \n",
    "    xgb_model.metadata[\"test_score\"] = float(score)\n",
    "    smetrics.log_metric(\"score\", float(score))"
   ]
  },
  {
   "cell_type": "markdown",
   "id": "7994c4c2",
   "metadata": {},
   "source": [
    "#### The final step is to create the Pipeline\n",
    "\n",
    "Notice that we get outputs from previous steps here. We then compile it into a `.json` file."
   ]
  },
  {
   "cell_type": "code",
   "execution_count": null,
   "id": "497ae07a",
   "metadata": {},
   "outputs": [],
   "source": [
    "@dsl.pipeline(\n",
    "    # Default pipeline root. You can override it when submitting the pipeline.\n",
    "    pipeline_root=PIPELINE_ROOT,\n",
    "    # A name for the pipeline. Use to determine the pipeline Context.\n",
    "    name=\"pipeline-test-1\",\n",
    ")\n",
    "def pipeline():\n",
    "    dataset_op = get_data()\n",
    "    train_op = train_xgb_model(dataset_op.outputs[\"dataset_train\"])\n",
    "    eval_op = eval_model(\n",
    "        test_set=dataset_op.outputs[\"dataset_test\"],\n",
    "        xgb_model=train_op.outputs[\"model_artifact\"]\n",
    "    )\n",
    "    \n",
    "compiler.Compiler().compile(pipeline_func=pipeline,\n",
    "        package_path='xgb_pipe.json')"
   ]
  },
  {
   "cell_type": "markdown",
   "id": "c3b8eb59",
   "metadata": {},
   "source": [
    "#### If you are authenticated to GCP and set everything up there\n",
    "\n",
    "This snipped should create the run and a link for you to get to it.\n",
    "\n",
    "Also, be sure your Vertex AI API is activated."
   ]
  },
  {
   "cell_type": "code",
   "execution_count": null,
   "id": "71ee71bb",
   "metadata": {},
   "outputs": [],
   "source": [
    "from kfp.v2.google.client import AIPlatformClient\n",
    "\n",
    "api_client = AIPlatformClient(\n",
    "                project_id=PROJECT_ID,\n",
    "                region=REGION\n",
    "                )\n",
    "\n",
    "response = api_client.create_run_from_job_spec(\n",
    "    'xgb_pipe.json',\n",
    ")"
   ]
  }
 ],
 "metadata": {
  "environment": {
   "name": "common-cpu.m65",
   "type": "gcloud",
   "uri": "gcr.io/deeplearning-platform-release/base-cpu:m65"
  },
  "kernelspec": {
   "display_name": "Python 3",
   "language": "python",
   "name": "python3"
  },
  "language_info": {
   "codemirror_mode": {
    "name": "ipython",
    "version": 3
   },
   "file_extension": ".py",
   "mimetype": "text/x-python",
   "name": "python",
   "nbconvert_exporter": "python",
   "pygments_lexer": "ipython3",
   "version": "3.7.10"
  }
 },
 "nbformat": 4,
 "nbformat_minor": 5
}
