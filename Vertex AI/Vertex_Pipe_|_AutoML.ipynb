{
 "cells": [
  {
   "cell_type": "markdown",
   "id": "f72fe9c2-6016-4912-b7e0-03682acda00f",
   "metadata": {
    "tags": []
   },
   "source": [
    "# Image Classification using Vertex AI Pipeline - Hasan Version"
   ]
  },
  {
   "cell_type": "code",
   "execution_count": 157,
   "id": "4bed0b8d-baa4-464b-a807-8e910b88ccfa",
   "metadata": {},
   "outputs": [],
   "source": [
    "import os\n",
    "\n",
    "# The Vertex AI Workbench Notebook product has specific requirements\n",
    "IS_WORKBENCH_NOTEBOOK = os.getenv(\"DL_ANACONDA_HOME\")\n",
    "IS_USER_MANAGED_WORKBENCH_NOTEBOOK = os.path.exists(\n",
    "    \"/opt/deeplearning/metadata/env_version\"\n",
    ")\n",
    "# Vertex AI Notebook requires dependencies to be installed with '--user'\n",
    "USER_FLAG = \"\"\n",
    "if IS_WORKBENCH_NOTEBOOK:\n",
    "    USER_FLAG = \"--user\"\n",
    "\n",
    "! pip3 install --upgrade --quiet {USER_FLAG} google-cloud-aiplatform kfp google-cloud-pipeline-components google-cloud-storage"
   ]
  },
  {
   "cell_type": "code",
   "execution_count": 158,
   "id": "55d51d5d-a3a2-4aa1-82ae-a3fb39309833",
   "metadata": {},
   "outputs": [
    {
     "name": "stdout",
     "output_type": "stream",
     "text": [
      "Project ID: infra-sublime-368305\n"
     ]
    }
   ],
   "source": [
    "PROJECT_ID = \"[your-project-id]\"  \n",
    "\n",
    "if PROJECT_ID == \"\" or PROJECT_ID is None or PROJECT_ID == \"[your-project-id]\":\n",
    "    # Get your GCP project id from gcloud\n",
    "    shell_output = ! gcloud config list --format 'value(core.project)' 2>/dev/null\n",
    "    PROJECT_ID = shell_output[0]\n",
    "    print(\"Project ID:\", PROJECT_ID)"
   ]
  },
  {
   "cell_type": "code",
   "execution_count": 159,
   "id": "69518a92-8b8e-4472-accf-6feab0a366b3",
   "metadata": {},
   "outputs": [
    {
     "name": "stdout",
     "output_type": "stream",
     "text": [
      "Updated property [core/project].\n"
     ]
    }
   ],
   "source": [
    "! gcloud config set project $PROJECT_ID "
   ]
  },
  {
   "cell_type": "code",
   "execution_count": 160,
   "id": "9eb92ef3-d51b-42ee-85a8-e9843b0a13b7",
   "metadata": {},
   "outputs": [],
   "source": [
    "REGION = \"[your-region]\"  # @param {type: \"string\"}\n",
    "\n",
    "if REGION == \"[your-region]\":\n",
    "    REGION = \"us-central1\""
   ]
  },
  {
   "cell_type": "code",
   "execution_count": 161,
   "id": "b940d0ec-a14c-4d65-956c-ce70cb7acda0",
   "metadata": {},
   "outputs": [],
   "source": [
    "import random\n",
    "import string\n",
    "\n",
    "\n",
    "# Generate a uuid of a specifed length(default=8)\n",
    "def generate_uuid(length: int = 8) -> str:\n",
    "    return \"\".join(random.choices(string.ascii_lowercase + string.digits, k=length))\n",
    "\n",
    "\n",
    "UUID = generate_uuid()"
   ]
  },
  {
   "cell_type": "code",
   "execution_count": 162,
   "id": "f53e9cda-e7bb-4510-ac8a-309c6c84f388",
   "metadata": {},
   "outputs": [],
   "source": [
    "\n",
    "# If you are running this notebook in Colab, run this cell and follow the\n",
    "# instructions to authenticate your GCP account. This provides access to your\n",
    "# Cloud Storage bucket and lets you submit training jobs and prediction\n",
    "# requests.\n",
    "\n",
    "import os\n",
    "import sys\n",
    "\n",
    "# If on Vertex AI Workbench, then don't execute this code\n",
    "IS_COLAB = \"google.colab\" in sys.modules\n",
    "if not os.path.exists(\"/opt/deeplearning/metadata/env_version\") and not os.getenv(\n",
    "    \"DL_ANACONDA_HOME\"\n",
    "):\n",
    "    if \"google.colab\" in sys.modules:\n",
    "        from google.colab import auth as google_auth\n",
    "\n",
    "        google_auth.authenticate_user()\n",
    "\n",
    "    # If you are running this notebook locally, replace the string below with the\n",
    "    # path to your service account key and run this cell to authenticate your GCP\n",
    "    # account.\n",
    "    elif not os.getenv(\"IS_TESTING\"):\n",
    "        %env GOOGLE_APPLICATION_CREDENTIALS ''"
   ]
  },
  {
   "cell_type": "markdown",
   "id": "387d039a-4638-4201-97a0-539b1b3ea5a1",
   "metadata": {},
   "source": [
    "## Create a Cloud Storage bucket"
   ]
  },
  {
   "cell_type": "code",
   "execution_count": 163,
   "id": "5ca8a81d-617f-452f-b174-8c3a643038d9",
   "metadata": {},
   "outputs": [],
   "source": [
    "BUCKET_NAME = \"vertexai-image-classification-demo\"  \n",
    "BUCKET_URI = f\"gs://{BUCKET_NAME}\""
   ]
  },
  {
   "cell_type": "code",
   "execution_count": 164,
   "id": "b6e79b96-f502-4774-a323-2a252b9d1323",
   "metadata": {},
   "outputs": [],
   "source": [
    "if BUCKET_NAME == \"\" or BUCKET_NAME is None or BUCKET_NAME == \"[your-bucket-name]\":\n",
    "    BUCKET_NAME = PROJECT_ID + \"aip-\" + UUID\n",
    "    BUCKET_URI = \"gs://\" + BUCKET_NAME"
   ]
  },
  {
   "cell_type": "code",
   "execution_count": 165,
   "id": "b9f7d3b8-316f-412e-90fa-c32ffbd65704",
   "metadata": {},
   "outputs": [
    {
     "name": "stdout",
     "output_type": "stream",
     "text": [
      "Creating gs://vertexai-image-classification-demo/...\n",
      "ServiceException: 409 A Cloud Storage bucket named 'vertexai-image-classification-demo' already exists. Try another name. Bucket names must be globally unique across all Google Cloud projects, including those outside of your organization.\n"
     ]
    }
   ],
   "source": [
    "!gsutil mb -l $REGION -p $PROJECT_ID $BUCKET_URI"
   ]
  },
  {
   "cell_type": "code",
   "execution_count": 166,
   "id": "c53678c9-42ab-45f0-81bd-71a6ced1950f",
   "metadata": {},
   "outputs": [
    {
     "name": "stdout",
     "output_type": "stream",
     "text": [
      "                                 gs://vertexai-image-classification-demo/pipeline_root/\n"
     ]
    }
   ],
   "source": [
    "! gsutil ls -al $BUCKET_URI"
   ]
  },
  {
   "cell_type": "markdown",
   "id": "c52fce1a-f650-46be-ad6c-9fb369fdda3e",
   "metadata": {},
   "source": [
    "### Service Account"
   ]
  },
  {
   "cell_type": "code",
   "execution_count": 167,
   "id": "00b6a9c9-75e3-41b2-b8c3-a0467f24560f",
   "metadata": {},
   "outputs": [
    {
     "name": "stdout",
     "output_type": "stream",
     "text": [
      "Service Account: 433111697035-compute@developer.gserviceaccount.com\n"
     ]
    }
   ],
   "source": [
    "SERVICE_ACCOUNT = \"[your-service-account]\"  # @param {type:\"string\"}\n",
    "\n",
    "if (\n",
    "    SERVICE_ACCOUNT == \"\"\n",
    "    or SERVICE_ACCOUNT is None\n",
    "    or SERVICE_ACCOUNT == \"[your-service-account]\"\n",
    "):\n",
    "    # Get your service account from gcloud\n",
    "    if not IS_COLAB:\n",
    "        shell_output = !gcloud auth list 2>/dev/null\n",
    "        SERVICE_ACCOUNT = shell_output[2].replace(\"*\", \"\").strip()\n",
    "\n",
    "    if IS_COLAB:\n",
    "        shell_output = ! gcloud projects describe  $PROJECT_ID\n",
    "        project_number = shell_output[-1].split(\":\")[1].strip().replace(\"'\", \"\")\n",
    "        SERVICE_ACCOUNT = f\"{project_number}-compute@developer.gserviceaccount.com\"\n",
    "\n",
    "    print(\"Service Account:\", SERVICE_ACCOUNT)\n",
    "     "
   ]
  },
  {
   "cell_type": "markdown",
   "id": "144dd3bd-e1f1-4253-a5e5-7ac584f4c34d",
   "metadata": {},
   "source": [
    "### Set service account access for Vertex AI Pipelines"
   ]
  },
  {
   "cell_type": "code",
   "execution_count": 168,
   "id": "54190589-baf1-4e37-b30b-3a4ecd2e3d88",
   "metadata": {},
   "outputs": [
    {
     "name": "stdout",
     "output_type": "stream",
     "text": [
      "No changes made to gs://vertexai-image-classification-demo/\n",
      "No changes made to gs://vertexai-image-classification-demo/\n"
     ]
    }
   ],
   "source": [
    "! gsutil iam ch serviceAccount:{SERVICE_ACCOUNT}:roles/storage.objectCreator $BUCKET_URI\n",
    "! gsutil iam ch serviceAccount:{SERVICE_ACCOUNT}:roles/storage.objectViewer $BUCKET_URI"
   ]
  },
  {
   "cell_type": "markdown",
   "id": "0f1ae73b-3157-4772-981f-74ce686ea634",
   "metadata": {},
   "source": [
    "### Import libraries and define constants"
   ]
  },
  {
   "cell_type": "code",
   "execution_count": 169,
   "id": "e1b03ba4-f244-44a4-975c-20095ff848f5",
   "metadata": {},
   "outputs": [],
   "source": [
    "import os\n",
    "import typing\n",
    "from typing import Any, Dict, List\n",
    "\n",
    "import google.cloud.aiplatform as aip\n",
    "from google_cloud_pipeline_components.types.artifact_types import VertexDataset\n",
    "import kfp\n",
    "from kfp.v2 import compiler\n",
    "from kfp.v2.dsl import component, pipeline, Artifact, ClassificationMetrics, Input, Output, Model, Metrics, Dataset\n",
    "from kfp.components import create_component_from_func"
   ]
  },
  {
   "cell_type": "markdown",
   "id": "fdd666c9-f043-4b9e-8b53-2f3f910bac9f",
   "metadata": {},
   "source": [
    "### Vertex AI Pipelines constants"
   ]
  },
  {
   "cell_type": "code",
   "execution_count": 170,
   "id": "2f58bac3-9a2f-4a9d-b8e9-7b4666f9bd62",
   "metadata": {},
   "outputs": [],
   "source": [
    "PIPELINE_ROOT = \"{}/pipeline_root/flowers\".format(BUCKET_URI)"
   ]
  },
  {
   "cell_type": "markdown",
   "id": "a3e52341-f443-4664-86a3-3b01f10d02da",
   "metadata": {},
   "source": [
    "### Initialize Vertex AI SDK"
   ]
  },
  {
   "cell_type": "code",
   "execution_count": 171,
   "id": "3db252f5-d2a2-4474-9911-e422e3d5882f",
   "metadata": {},
   "outputs": [],
   "source": [
    "aip.init(project=PROJECT_ID, staging_bucket=BUCKET_URI, location=REGION)"
   ]
  },
  {
   "cell_type": "markdown",
   "id": "42e5797f-0250-48d1-bf74-11c83f7d6dbd",
   "metadata": {},
   "source": [
    "### AutoML image classification model pipeline"
   ]
  },
  {
   "cell_type": "code",
   "execution_count": 172,
   "id": "f63fdc3e-8b65-48b2-927c-38c339bc6910",
   "metadata": {},
   "outputs": [],
   "source": [
    "## Light weight component to create an Image DS\n",
    "@component(\n",
    "    base_image=\"python:3.9-slim\",\n",
    "    packages_to_install=[\"google-api-core==2.10.2\", \"google-cloud\", \"google-cloud-aiplatform\", \"typing\", \"kfp\"],\n",
    ")\n",
    "def create_ds(project: str, \n",
    "              display_name: str, \n",
    "              gcs_source: str, \n",
    "              import_schema_uri: str, \n",
    "              timeout: int, \n",
    "              dataset: Output[Dataset]):\n",
    "    \n",
    "    from google.cloud import aiplatform\n",
    "    from google.cloud.aiplatform import datasets\n",
    "    from kfp.v2.dsl import Dataset\n",
    "    \n",
    "    aiplatform.init(project=project)\n",
    "\n",
    "    obj_dataset = datasets.ImageDataset.create(\n",
    "        display_name=display_name,\n",
    "        gcs_source=gcs_source,\n",
    "        import_schema_uri=import_schema_uri,\n",
    "        create_request_timeout=timeout,\n",
    "    )\n",
    "\n",
    "    obj_dataset.wait()\n",
    "    \n",
    "    dataset.uri = obj_dataset.gca_resource.name\n",
    "    dataset.metadata = {\n",
    "        'resourceName': obj_dataset.gca_resource.name\n",
    "    }"
   ]
  },
  {
   "cell_type": "code",
   "execution_count": 173,
   "id": "a7a7991d-c385-4df8-9c72-45399d7fb1fa",
   "metadata": {},
   "outputs": [],
   "source": [
    "@kfp.dsl.pipeline(name=\"automl-image-training-v2\")\n",
    "def pipeline(project: str = PROJECT_ID, region: str = REGION):\n",
    "    \n",
    "    from google_cloud_pipeline_components import aiplatform as gcc_aip\n",
    "    from google_cloud_pipeline_components.v1.endpoint import (EndpointCreateOp, ModelDeployOp)\n",
    "\n",
    "    # ds_op = gcc_aip.ImageDatasetCreateOp(\n",
    "    #     project=project,\n",
    "    #     display_name=\"flowers\",\n",
    "    #     gcs_source=\"gs://cloud-samples-data/vision/automl_classification/flowers/all_data_v2.csv\",\n",
    "    #     import_schema_uri=aip.schema.dataset.ioformat.image.single_label_classification,\n",
    "    # )\n",
    "    \n",
    "    ds_op = create_ds(\n",
    "        project=project,\n",
    "        display_name=\"flowers\",\n",
    "        gcs_source=\"gs://cloud-samples-data/vision/automl_classification/flowers/all_data_v2.csv\",\n",
    "        import_schema_uri=aip.schema.dataset.ioformat.image.single_label_classification,\n",
    "        timeout=3600\n",
    "    )\n",
    "\n",
    "    training_job_run_op = gcc_aip.AutoMLImageTrainingJobRunOp(\n",
    "        project=project,\n",
    "        display_name=\"train-automl-flowers\",\n",
    "        prediction_type=\"classification\",\n",
    "        model_type=\"CLOUD\",\n",
    "        dataset=ds_op.outputs[\"dataset\"].ignore_type(),\n",
    "        model_display_name=\"train-automl-flowers\",\n",
    "        training_fraction_split=0.6,\n",
    "        validation_fraction_split=0.2,\n",
    "        test_fraction_split=0.2,\n",
    "        budget_milli_node_hours=8000,\n",
    "    )\n",
    "\n",
    "    endpoint_op = EndpointCreateOp(\n",
    "        project=project,\n",
    "        location=region,\n",
    "        display_name=\"train-automl-flowers\",\n",
    "    )\n",
    "\n",
    "    ModelDeployOp(\n",
    "        model=training_job_run_op.outputs[\"model\"],\n",
    "        endpoint=endpoint_op.outputs[\"endpoint\"],\n",
    "        automatic_resources_min_replica_count=1,\n",
    "        automatic_resources_max_replica_count=1,\n",
    "    )"
   ]
  },
  {
   "cell_type": "markdown",
   "id": "9f8f6a7f-4334-4a10-8823-02b134f9a420",
   "metadata": {},
   "source": [
    "### Compile the pipeline"
   ]
  },
  {
   "cell_type": "code",
   "execution_count": 174,
   "id": "8e448df0-20b6-4060-abc7-9ae2d9de1abd",
   "metadata": {},
   "outputs": [],
   "source": [
    "compiler.Compiler().compile(\n",
    "    pipeline_func=pipeline,\n",
    "    package_path=\"image classification_pipeline.json\".replace(\" \", \"_\"),\n",
    ")"
   ]
  },
  {
   "cell_type": "markdown",
   "id": "27a55c73-2d92-49c5-ad2f-e15d5c8e2150",
   "metadata": {},
   "source": [
    "### Run the pipeline"
   ]
  },
  {
   "cell_type": "code",
   "execution_count": null,
   "id": "cbcaecf7-dfcd-4f2d-8253-2b09b72cc822",
   "metadata": {},
   "outputs": [
    {
     "name": "stdout",
     "output_type": "stream",
     "text": [
      "Creating PipelineJob\n",
      "PipelineJob created. Resource name: projects/433111697035/locations/us-central1/pipelineJobs/automl-image-training-v2-20221229154843\n",
      "To use this PipelineJob in another session:\n",
      "pipeline_job = aiplatform.PipelineJob.get('projects/433111697035/locations/us-central1/pipelineJobs/automl-image-training-v2-20221229154843')\n",
      "View Pipeline Job:\n",
      "https://console.cloud.google.com/vertex-ai/locations/us-central1/pipelines/runs/automl-image-training-v2-20221229154843?project=433111697035\n",
      "PipelineJob projects/433111697035/locations/us-central1/pipelineJobs/automl-image-training-v2-20221229154843 current state:\n",
      "PipelineState.PIPELINE_STATE_RUNNING\n",
      "PipelineJob projects/433111697035/locations/us-central1/pipelineJobs/automl-image-training-v2-20221229154843 current state:\n",
      "PipelineState.PIPELINE_STATE_RUNNING\n",
      "PipelineJob projects/433111697035/locations/us-central1/pipelineJobs/automl-image-training-v2-20221229154843 current state:\n",
      "PipelineState.PIPELINE_STATE_RUNNING\n",
      "PipelineJob projects/433111697035/locations/us-central1/pipelineJobs/automl-image-training-v2-20221229154843 current state:\n",
      "PipelineState.PIPELINE_STATE_RUNNING\n",
      "PipelineJob projects/433111697035/locations/us-central1/pipelineJobs/automl-image-training-v2-20221229154843 current state:\n",
      "PipelineState.PIPELINE_STATE_RUNNING\n",
      "PipelineJob projects/433111697035/locations/us-central1/pipelineJobs/automl-image-training-v2-20221229154843 current state:\n",
      "PipelineState.PIPELINE_STATE_RUNNING\n",
      "PipelineJob projects/433111697035/locations/us-central1/pipelineJobs/automl-image-training-v2-20221229154843 current state:\n",
      "PipelineState.PIPELINE_STATE_RUNNING\n"
     ]
    }
   ],
   "source": [
    "DISPLAY_NAME = \"flowers_\" + UUID\n",
    "\n",
    "job = aip.PipelineJob(\n",
    "    display_name=DISPLAY_NAME,\n",
    "    template_path=\"image classification_pipeline.json\".replace(\" \", \"_\"),\n",
    "    pipeline_root=PIPELINE_ROOT,\n",
    "    enable_caching=False,\n",
    ")\n",
    "\n",
    "job.run()\n",
    "\n",
    "! rm image_classification_pipeline.json"
   ]
  },
  {
   "cell_type": "markdown",
   "id": "6a71780c-eaa4-44aa-98ed-097bc0b3e693",
   "metadata": {},
   "source": [
    "## Get the predictions"
   ]
  },
  {
   "cell_type": "code",
   "execution_count": null,
   "id": "ba2d7c17-9e40-490b-95e6-828c00a5455a",
   "metadata": {},
   "outputs": [],
   "source": [
    "def create_batch_prediction_job_sample(\n",
    "    project: str,\n",
    "    location: str,\n",
    "    model_resource_name: str,\n",
    "    job_display_name: str,\n",
    "    gcs_source: Union[str, Sequence[str]],\n",
    "    gcs_destination: str,\n",
    "    sync: bool = True,\n",
    "):\n",
    "    aiplatform.init(project=project, location=location)\n",
    "\n",
    "    my_model = aiplatform.Model(model_resource_name)\n",
    "\n",
    "    batch_prediction_job = my_model.batch_predict(\n",
    "        job_display_name=job_display_name,\n",
    "        gcs_source=gcs_source,\n",
    "        gcs_destination_prefix=gcs_destination,\n",
    "        sync=sync,\n",
    "    )\n",
    "\n",
    "    batch_prediction_job.wait()\n",
    "\n",
    "    print(batch_prediction_job.display_name)\n",
    "    print(batch_prediction_job.resource_name)\n",
    "    print(batch_prediction_job.state)\n",
    "    return batch_prediction_job"
   ]
  }
 ],
 "metadata": {
  "environment": {
   "kernel": "python3",
   "name": "tf2-gpu.2-6.m102",
   "type": "gcloud",
   "uri": "gcr.io/deeplearning-platform-release/tf2-gpu.2-6:m102"
  },
  "kernelspec": {
   "display_name": "Python 3 (ipykernel)",
   "language": "python",
   "name": "python3"
  },
  "language_info": {
   "codemirror_mode": {
    "name": "ipython",
    "version": 3
   },
   "file_extension": ".py",
   "mimetype": "text/x-python",
   "name": "python",
   "nbconvert_exporter": "python",
   "pygments_lexer": "ipython3",
   "version": "3.7.12"
  }
 },
 "nbformat": 4,
 "nbformat_minor": 5
}
