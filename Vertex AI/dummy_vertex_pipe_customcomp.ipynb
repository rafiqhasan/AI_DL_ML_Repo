{
 "cells": [
  {
   "cell_type": "code",
   "execution_count": null,
   "id": "70453ce7-9cc5-4d12-b856-6883fb296665",
   "metadata": {},
   "outputs": [],
   "source": [
    "!pip install kfp\n",
    "!pip install google-cloud-pipeline-components"
   ]
  },
  {
   "cell_type": "code",
   "execution_count": null,
   "id": "6684e7f2-f710-4689-9e44-f0c33ac10552",
   "metadata": {},
   "outputs": [],
   "source": [
    "import json\n",
    "\n",
    "from kfp import dsl\n",
    "from kfp.v2 import compiler\n",
    "from kfp.v2.dsl import component\n",
    "from datetime import datetime\n",
    "from kfp.components import create_component_from_func\n",
    "import typing\n",
    "\n",
    "TIMESTAMP = datetime.now().strftime(\"%Y%m%d%H%M%S\")"
   ]
  },
  {
   "cell_type": "code",
   "execution_count": null,
   "id": "b247b339-4336-4170-ad5d-b1bf90452d7c",
   "metadata": {},
   "outputs": [],
   "source": [
    "## Light weight component to create a Tabular DS\n",
    "@component(\n",
    "    base_image=\"python:3.9-slim\",\n",
    "    packages_to_install=[\"google-cloud\", \"google-cloud-aiplatform\", \"typing\"],\n",
    ")\n",
    "def create_ds(bq_table: str) -> typing.NamedTuple('Outputs', [('bq_ds', str)]):\n",
    "    from google.cloud import aiplatform\n",
    "    from datetime import datetime\n",
    "    import typing\n",
    "    \n",
    "    #Create DS\n",
    "    TIMESTAMP = datetime.now().strftime(\"%Y%m%d%H%M%S\")\n",
    "    dataset = aiplatform.TabularDataset.create(\n",
    "        display_name=f'{TIMESTAMP}-dataset',\n",
    "        bq_source=bq_table,\n",
    "        location=\"us-central1\",\n",
    "        sync=True\n",
    "    )\n",
    "    \n",
    "    bq_ds_uri = dataset.to_dict()[\"metadata\"][\"inputConfig\"][\"bigquerySource\"][\"uri\"].split(\"bq://\")[1].split(\".\")[1]\n",
    "    \n",
    "    return (bq_ds_uri, )\n",
    "\n",
    "## Light weight component to delete a BQ DS\n",
    "@component(\n",
    "    base_image=\"python:3.9-slim\",\n",
    "    packages_to_install=[\"google-cloud\", \"google-cloud-bigquery\"],\n",
    ")\n",
    "def delete_ds(bq_ds: str):\n",
    "    from google.cloud import bigquery\n",
    "\n",
    "    client = bigquery.Client()\n",
    "    client.delete_dataset(bq_ds, delete_contents=True, not_found_ok=True)"
   ]
  },
  {
   "cell_type": "code",
   "execution_count": null,
   "id": "529db2bc-3379-49ae-92f7-6c0d093c9b18",
   "metadata": {},
   "outputs": [],
   "source": [
    "@dsl.pipeline(\n",
    "    name=\"control-{}\".format(TIMESTAMP),\n",
    "    pipeline_root=\"gs://gcs-hasanrafiq-test-331814/pipeline_root\",\n",
    ")\n",
    "def pipeline(bq_table: str):\n",
    "    #Create Tabular DS\n",
    "    dataset = create_ds(bq_table)\n",
    "    \n",
    "    #Delete DS\n",
    "    delete_ds(str(dataset.outputs[\"bq_ds\"]))"
   ]
  },
  {
   "cell_type": "code",
   "execution_count": null,
   "id": "8630e562-0f4a-46de-9a56-21b61a08bf7e",
   "metadata": {},
   "outputs": [],
   "source": [
    "from kfp.v2 import compiler\n",
    "\n",
    "compiler.Compiler().compile(\n",
    "    pipeline_func=pipeline, package_path=\"control_pipeline.json\".replace(\" \", \"_\")\n",
    ")"
   ]
  },
  {
   "cell_type": "code",
   "execution_count": null,
   "id": "aa408d5b-fc46-4cb5-84ca-2f42bb679431",
   "metadata": {},
   "outputs": [],
   "source": [
    "DISPLAY_NAME = \"control_\" + TIMESTAMP\n",
    "\n",
    "job = aip.PipelineJob(\n",
    "    display_name=DISPLAY_NAME,\n",
    "    template_path=\"control_pipeline.json\".replace(\" \", \"_\"),\n",
    "    parameter_values={\"bq_table\": \"bq://hasanrafiq-test-331814.dummy_test2.address_copy\"}\n",
    ")\n",
    "\n",
    "job.run()"
   ]
  }
 ],
 "metadata": {
  "environment": {
   "kernel": "python3",
   "name": "tf2-gpu.2-6.m102",
   "type": "gcloud",
   "uri": "gcr.io/deeplearning-platform-release/tf2-gpu.2-6:m102"
  },
  "kernelspec": {
   "display_name": "Python 3 (ipykernel)",
   "language": "python",
   "name": "python3"
  },
  "language_info": {
   "codemirror_mode": {
    "name": "ipython",
    "version": 3
   },
   "file_extension": ".py",
   "mimetype": "text/x-python",
   "name": "python",
   "nbconvert_exporter": "python",
   "pygments_lexer": "ipython3",
   "version": "3.7.12"
  }
 },
 "nbformat": 4,
 "nbformat_minor": 5
}
